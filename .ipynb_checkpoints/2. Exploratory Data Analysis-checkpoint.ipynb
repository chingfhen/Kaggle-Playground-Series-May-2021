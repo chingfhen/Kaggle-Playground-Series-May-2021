{
 "cells": [
  {
   "cell_type": "code",
   "execution_count": 66,
   "metadata": {},
   "outputs": [],
   "source": [
    "import pandas as pd\n",
    "import seaborn as sb\n",
    "import matplotlib.pyplot as plt\n",
    "import numpy as np"
   ]
  },
  {
   "cell_type": "code",
   "execution_count": 67,
   "metadata": {
    "scrolled": true
   },
   "outputs": [
    {
     "data": {
      "text/html": [
       "<div>\n",
       "<style scoped>\n",
       "    .dataframe tbody tr th:only-of-type {\n",
       "        vertical-align: middle;\n",
       "    }\n",
       "\n",
       "    .dataframe tbody tr th {\n",
       "        vertical-align: top;\n",
       "    }\n",
       "\n",
       "    .dataframe thead th {\n",
       "        text-align: right;\n",
       "    }\n",
       "</style>\n",
       "<table border=\"1\" class=\"dataframe\">\n",
       "  <thead>\n",
       "    <tr style=\"text-align: right;\">\n",
       "      <th></th>\n",
       "      <th>feature_0</th>\n",
       "      <th>feature_1</th>\n",
       "      <th>feature_2</th>\n",
       "      <th>feature_3</th>\n",
       "      <th>feature_4</th>\n",
       "      <th>feature_5</th>\n",
       "      <th>feature_6</th>\n",
       "      <th>feature_7</th>\n",
       "      <th>feature_8</th>\n",
       "      <th>feature_9</th>\n",
       "      <th>...</th>\n",
       "      <th>feature_41</th>\n",
       "      <th>feature_42</th>\n",
       "      <th>feature_43</th>\n",
       "      <th>feature_44</th>\n",
       "      <th>feature_45</th>\n",
       "      <th>feature_46</th>\n",
       "      <th>feature_47</th>\n",
       "      <th>feature_48</th>\n",
       "      <th>feature_49</th>\n",
       "      <th>target</th>\n",
       "    </tr>\n",
       "    <tr>\n",
       "      <th>id</th>\n",
       "      <th></th>\n",
       "      <th></th>\n",
       "      <th></th>\n",
       "      <th></th>\n",
       "      <th></th>\n",
       "      <th></th>\n",
       "      <th></th>\n",
       "      <th></th>\n",
       "      <th></th>\n",
       "      <th></th>\n",
       "      <th></th>\n",
       "      <th></th>\n",
       "      <th></th>\n",
       "      <th></th>\n",
       "      <th></th>\n",
       "      <th></th>\n",
       "      <th></th>\n",
       "      <th></th>\n",
       "      <th></th>\n",
       "      <th></th>\n",
       "      <th></th>\n",
       "    </tr>\n",
       "  </thead>\n",
       "  <tbody>\n",
       "    <tr>\n",
       "      <th>0</th>\n",
       "      <td>0</td>\n",
       "      <td>0</td>\n",
       "      <td>1</td>\n",
       "      <td>0</td>\n",
       "      <td>1</td>\n",
       "      <td>0</td>\n",
       "      <td>0</td>\n",
       "      <td>0</td>\n",
       "      <td>0</td>\n",
       "      <td>0</td>\n",
       "      <td>...</td>\n",
       "      <td>0</td>\n",
       "      <td>0</td>\n",
       "      <td>21</td>\n",
       "      <td>0</td>\n",
       "      <td>0</td>\n",
       "      <td>0</td>\n",
       "      <td>0</td>\n",
       "      <td>0</td>\n",
       "      <td>0</td>\n",
       "      <td>Class_2</td>\n",
       "    </tr>\n",
       "    <tr>\n",
       "      <th>1</th>\n",
       "      <td>0</td>\n",
       "      <td>0</td>\n",
       "      <td>0</td>\n",
       "      <td>0</td>\n",
       "      <td>2</td>\n",
       "      <td>1</td>\n",
       "      <td>0</td>\n",
       "      <td>0</td>\n",
       "      <td>0</td>\n",
       "      <td>0</td>\n",
       "      <td>...</td>\n",
       "      <td>0</td>\n",
       "      <td>0</td>\n",
       "      <td>0</td>\n",
       "      <td>0</td>\n",
       "      <td>0</td>\n",
       "      <td>0</td>\n",
       "      <td>0</td>\n",
       "      <td>0</td>\n",
       "      <td>0</td>\n",
       "      <td>Class_1</td>\n",
       "    </tr>\n",
       "    <tr>\n",
       "      <th>2</th>\n",
       "      <td>0</td>\n",
       "      <td>0</td>\n",
       "      <td>0</td>\n",
       "      <td>0</td>\n",
       "      <td>0</td>\n",
       "      <td>0</td>\n",
       "      <td>0</td>\n",
       "      <td>0</td>\n",
       "      <td>0</td>\n",
       "      <td>2</td>\n",
       "      <td>...</td>\n",
       "      <td>0</td>\n",
       "      <td>1</td>\n",
       "      <td>0</td>\n",
       "      <td>0</td>\n",
       "      <td>0</td>\n",
       "      <td>0</td>\n",
       "      <td>13</td>\n",
       "      <td>2</td>\n",
       "      <td>0</td>\n",
       "      <td>Class_1</td>\n",
       "    </tr>\n",
       "    <tr>\n",
       "      <th>3</th>\n",
       "      <td>0</td>\n",
       "      <td>0</td>\n",
       "      <td>0</td>\n",
       "      <td>0</td>\n",
       "      <td>0</td>\n",
       "      <td>0</td>\n",
       "      <td>0</td>\n",
       "      <td>3</td>\n",
       "      <td>0</td>\n",
       "      <td>0</td>\n",
       "      <td>...</td>\n",
       "      <td>0</td>\n",
       "      <td>0</td>\n",
       "      <td>0</td>\n",
       "      <td>0</td>\n",
       "      <td>0</td>\n",
       "      <td>0</td>\n",
       "      <td>0</td>\n",
       "      <td>1</td>\n",
       "      <td>0</td>\n",
       "      <td>Class_4</td>\n",
       "    </tr>\n",
       "    <tr>\n",
       "      <th>4</th>\n",
       "      <td>0</td>\n",
       "      <td>0</td>\n",
       "      <td>0</td>\n",
       "      <td>0</td>\n",
       "      <td>0</td>\n",
       "      <td>0</td>\n",
       "      <td>0</td>\n",
       "      <td>0</td>\n",
       "      <td>0</td>\n",
       "      <td>0</td>\n",
       "      <td>...</td>\n",
       "      <td>0</td>\n",
       "      <td>0</td>\n",
       "      <td>0</td>\n",
       "      <td>0</td>\n",
       "      <td>0</td>\n",
       "      <td>0</td>\n",
       "      <td>0</td>\n",
       "      <td>1</td>\n",
       "      <td>0</td>\n",
       "      <td>Class_2</td>\n",
       "    </tr>\n",
       "  </tbody>\n",
       "</table>\n",
       "<p>5 rows × 51 columns</p>\n",
       "</div>"
      ],
      "text/plain": [
       "    feature_0  feature_1  feature_2  feature_3  feature_4  feature_5  \\\n",
       "id                                                                     \n",
       "0           0          0          1          0          1          0   \n",
       "1           0          0          0          0          2          1   \n",
       "2           0          0          0          0          0          0   \n",
       "3           0          0          0          0          0          0   \n",
       "4           0          0          0          0          0          0   \n",
       "\n",
       "    feature_6  feature_7  feature_8  feature_9  ...  feature_41  feature_42  \\\n",
       "id                                              ...                           \n",
       "0           0          0          0          0  ...           0           0   \n",
       "1           0          0          0          0  ...           0           0   \n",
       "2           0          0          0          2  ...           0           1   \n",
       "3           0          3          0          0  ...           0           0   \n",
       "4           0          0          0          0  ...           0           0   \n",
       "\n",
       "    feature_43  feature_44  feature_45  feature_46  feature_47  feature_48  \\\n",
       "id                                                                           \n",
       "0           21           0           0           0           0           0   \n",
       "1            0           0           0           0           0           0   \n",
       "2            0           0           0           0          13           2   \n",
       "3            0           0           0           0           0           1   \n",
       "4            0           0           0           0           0           1   \n",
       "\n",
       "    feature_49   target  \n",
       "id                       \n",
       "0            0  Class_2  \n",
       "1            0  Class_1  \n",
       "2            0  Class_1  \n",
       "3            0  Class_4  \n",
       "4            0  Class_2  \n",
       "\n",
       "[5 rows x 51 columns]"
      ]
     },
     "execution_count": 67,
     "metadata": {},
     "output_type": "execute_result"
    }
   ],
   "source": [
    "path = r\"C:\\Users\\tanch\\Documents\\GitHub\\Kaggle-Playground-Series-May-2021\\Input\\train.csv\\train.csv\"\n",
    "df = pd.read_csv(path,index_col=0)\n",
    "df.head()"
   ]
  },
  {
   "cell_type": "code",
   "execution_count": 22,
   "metadata": {},
   "outputs": [
    {
     "name": "stderr",
     "output_type": "stream",
     "text": [
      "C:\\Users\\tanch\\anaconda3\\lib\\site-packages\\seaborn\\_decorators.py:36: FutureWarning:\n",
      "\n",
      "Pass the following variable as a keyword arg: x. From version 0.12, the only valid positional argument will be `data`, and passing other arguments without an explicit keyword will result in an error or misinterpretation.\n",
      "\n"
     ]
    },
    {
     "data": {
      "text/plain": [
       "<AxesSubplot:xlabel='target', ylabel='count'>"
      ]
     },
     "execution_count": 22,
     "metadata": {},
     "output_type": "execute_result"
    },
    {
     "data": {
      "image/png": "[encoded data removed]",
      "text/plain": [
       "<Figure size 432x288 with 1 Axes>"
      ]
     },
     "metadata": {
      "needs_background": "light"
     },
     "output_type": "display_data"
    }
   ],
   "source": [
    "# target variable has 4 classes and appears to be unbalanced \n",
    "# majority of labels are class 2 \n",
    "sb.countplot(df.target)"
   ]
  },
  {
   "cell_type": "markdown",
   "metadata": {},
   "source": [
    "- target variable has 4 classes and appears to be unbalanced \n",
    "- majority of labels are class 2 "
   ]
  },
  {
   "cell_type": "code",
   "execution_count": 9,
   "metadata": {},
   "outputs": [],
   "source": [
    "# pre-processing the target variable\n",
    "target_mapping = {'Class_2':2,\n",
    "                  'Class_1':1,\n",
    "                 'Class_3':3,\n",
    "                 'Class_4':4,}\n",
    "df.target = df.target.map(target_mapping)"
   ]
  },
  {
   "cell_type": "code",
   "execution_count": 77,
   "metadata": {},
   "outputs": [],
   "source": [
    "def feature_explorer(dataframe):                # expects all numeric columns\n",
    "    \n",
    "    nonNAcount_list = list(dataframe.count())\n",
    "    NAcount_list = list(dataframe.isna().sum())\n",
    "    nunique_list = list(dataframe.nunique())\n",
    "    mean_list = list(dataframe.mean())\n",
    "    median_list = list(dataframe.median())\n",
    "    std_list = list(dataframe.std())\n",
    "    IQR_list = list(df.quantile(0.75) - df.quantile(0.25))\n",
    "    min_list = list(dataframe.min())\n",
    "    max_list = list(dataframe.max())\n",
    "    dtype_list = list(dataframe.dtypes)\n",
    "    \n",
    "    info_df = pd.DataFrame({\"nonNA_count\":nonNAcount_list,\n",
    "                            \"NA_count\" :NAcount_list,\n",
    "                             \"nunique\":nunique_list,\n",
    "                             \"mean\":mean_list,\n",
    "                             \"median\":median_list,\n",
    "                             \"std\":std_list,\n",
    "                             \"IQR\":IQR_list,\n",
    "                             \"min\":min_list,\n",
    "                             \"max\":max_list,\n",
    "                             \"dtype\":dtype_list})\n",
    "    \n",
    "    display(info_df.style.bar(subset=['nunique'], \n",
    "                              color=px.colors.qualitative.Pastel2[0]).bar(subset=['mean'], \n",
    "                                                                          color=px.colors.qualitative.Safe[0]).background_gradient(subset=[\"std\"], \n",
    "                                                                                                                                   cmap='Greens'))"
   ]
  },
  {
   "cell_type": "code",
   "execution_count": 78,
   "metadata": {
    "scrolled": true
   },
   "outputs": [
    {
     "data": {
      "application/javascript": [
       "\n",
       "        if (window._pyforest_update_imports_cell) { window._pyforest_update_imports_cell('import seaborn as sns\\nimport plotly.express as px'); }\n",
       "    "
      ],
      "text/plain": [
       "<IPython.core.display.Javascript object>"
      ]
     },
     "metadata": {},
     "output_type": "display_data"
    },
    {
     "data": {
      "application/javascript": [
       "\n",
       "        if (window._pyforest_update_imports_cell) { window._pyforest_update_imports_cell('import seaborn as sns\\nimport plotly.express as px'); }\n",
       "    "
      ],
      "text/plain": [
       "<IPython.core.display.Javascript object>"
      ]
     },
     "metadata": {},
     "output_type": "display_data"
    },
    {
     "data": {
      "text/html": [
       "<style  type=\"text/css\" >\n",
       "#T_ea3f5_row0_col2,#T_ea3f5_row5_col2{\n",
       "            width:  10em;\n",
       "             height:  80%;\n",
       "            background:  linear-gradient(90deg,rgb(179,226,205) 10.4%, transparent 10.4%);\n",
       "        }#T_ea3f5_row0_col3{\n",
       "            width:  10em;\n",
       "             height:  80%;\n",
       "            background:  linear-gradient(90deg,rgb(136, 204, 238) 6.2%, transparent 6.2%);\n",
       "        }#T_ea3f5_row0_col5{\n",
       "            background-color:  #e7f6e2;\n",
       "            color:  #000000;\n",
       "        }#T_ea3f5_row1_col2,#T_ea3f5_row41_col2{\n",
       "            width:  10em;\n",
       "             height:  80%;\n",
       "            background:  linear-gradient(90deg,rgb(179,226,205) 40.3%, transparent 40.3%);\n",
       "        }#T_ea3f5_row1_col3{\n",
       "            width:  10em;\n",
       "             height:  80%;\n",
       "            background:  linear-gradient(90deg,rgb(136, 204, 238) 12.2%, transparent 12.2%);\n",
       "        }#T_ea3f5_row1_col5{\n",
       "            background-color:  #b1e0ab;\n",
       "            color:  #000000;\n",
       "        }#T_ea3f5_row2_col2{\n",
       "            width:  10em;\n",
       "             height:  80%;\n",
       "            background:  linear-gradient(90deg,rgb(179,226,205) 4.5%, transparent 4.5%);\n",
       "        }#T_ea3f5_row2_col3{\n",
       "            width:  10em;\n",
       "             height:  80%;\n",
       "            background:  linear-gradient(90deg,rgb(136, 204, 238) 1.3%, transparent 1.3%);\n",
       "        }#T_ea3f5_row2_col5{\n",
       "            background-color:  #f2faf0;\n",
       "            color:  #000000;\n",
       "        }#T_ea3f5_row3_col2,#T_ea3f5_row34_col2,#T_ea3f5_row47_col2{\n",
       "            width:  10em;\n",
       "             height:  80%;\n",
       "            background:  linear-gradient(90deg,rgb(179,226,205) 32.8%, transparent 32.8%);\n",
       "        }#T_ea3f5_row3_col3{\n",
       "            width:  10em;\n",
       "             height:  80%;\n",
       "            background:  linear-gradient(90deg,rgb(136, 204, 238) 17.6%, transparent 17.6%);\n",
       "        }#T_ea3f5_row3_col5{\n",
       "            background-color:  #bae3b3;\n",
       "            color:  #000000;\n",
       "        }#T_ea3f5_row4_col2{\n",
       "            width:  10em;\n",
       "             height:  80%;\n",
       "            background:  linear-gradient(90deg,rgb(179,226,205) 50.7%, transparent 50.7%);\n",
       "        }#T_ea3f5_row4_col3{\n",
       "            width:  10em;\n",
       "             height:  80%;\n",
       "            background:  linear-gradient(90deg,rgb(136, 204, 238) 17.9%, transparent 17.9%);\n",
       "        }#T_ea3f5_row4_col5{\n",
       "            background-color:  #7ac77b;\n",
       "            color:  #000000;\n",
       "        }#T_ea3f5_row5_col3{\n",
       "            width:  10em;\n",
       "             height:  80%;\n",
       "            background:  linear-gradient(90deg,rgb(136, 204, 238) 2.9%, transparent 2.9%);\n",
       "        }#T_ea3f5_row5_col5{\n",
       "            background-color:  #f0f9ed;\n",
       "            color:  #000000;\n",
       "        }#T_ea3f5_row6_col2{\n",
       "            width:  10em;\n",
       "             height:  80%;\n",
       "            background:  linear-gradient(90deg,rgb(179,226,205) 35.8%, transparent 35.8%);\n",
       "        }#T_ea3f5_row6_col3{\n",
       "            width:  10em;\n",
       "             height:  80%;\n",
       "            background:  linear-gradient(90deg,rgb(136, 204, 238) 22.4%, transparent 22.4%);\n",
       "        }#T_ea3f5_row6_col5,#T_ea3f5_row43_col5{\n",
       "            background-color:  #99d595;\n",
       "            color:  #000000;\n",
       "        }#T_ea3f5_row7_col2,#T_ea3f5_row27_col2{\n",
       "            width:  10em;\n",
       "             height:  80%;\n",
       "            background:  linear-gradient(90deg,rgb(179,226,205) 41.8%, transparent 41.8%);\n",
       "        }#T_ea3f5_row7_col3{\n",
       "            width:  10em;\n",
       "             height:  80%;\n",
       "            background:  linear-gradient(90deg,rgb(136, 204, 238) 39.5%, transparent 39.5%);\n",
       "        }#T_ea3f5_row7_col5{\n",
       "            background-color:  #81ca81;\n",
       "            color:  #000000;\n",
       "        }#T_ea3f5_row8_col2{\n",
       "            width:  10em;\n",
       "             height:  80%;\n",
       "            background:  linear-gradient(90deg,rgb(179,226,205) 49.3%, transparent 49.3%);\n",
       "        }#T_ea3f5_row8_col3{\n",
       "            width:  10em;\n",
       "             height:  80%;\n",
       "            background:  linear-gradient(90deg,rgb(136, 204, 238) 28.3%, transparent 28.3%);\n",
       "        }#T_ea3f5_row8_col5{\n",
       "            background-color:  #48ae60;\n",
       "            color:  #000000;\n",
       "        }#T_ea3f5_row9_col2,#T_ea3f5_row20_col2{\n",
       "            width:  10em;\n",
       "             height:  80%;\n",
       "            background:  linear-gradient(90deg,rgb(179,226,205) 20.9%, transparent 20.9%);\n",
       "        }#T_ea3f5_row9_col3{\n",
       "            width:  10em;\n",
       "             height:  80%;\n",
       "            background:  linear-gradient(90deg,rgb(136, 204, 238) 29.6%, transparent 29.6%);\n",
       "        }#T_ea3f5_row9_col5{\n",
       "            background-color:  #b6e2af;\n",
       "            color:  #000000;\n",
       "        }#T_ea3f5_row10_col2,#T_ea3f5_row17_col2{\n",
       "            width:  10em;\n",
       "             height:  80%;\n",
       "            background:  linear-gradient(90deg,rgb(179,226,205) 19.4%, transparent 19.4%);\n",
       "        }#T_ea3f5_row10_col3{\n",
       "            width:  10em;\n",
       "             height:  80%;\n",
       "            background:  linear-gradient(90deg,rgb(136, 204, 238) 8.1%, transparent 8.1%);\n",
       "        }#T_ea3f5_row10_col5{\n",
       "            background-color:  #dff3da;\n",
       "            color:  #000000;\n",
       "        }#T_ea3f5_row11_col2{\n",
       "            width:  10em;\n",
       "             height:  80%;\n",
       "            background:  linear-gradient(90deg,rgb(179,226,205) 13.4%, transparent 13.4%);\n",
       "        }#T_ea3f5_row11_col3{\n",
       "            width:  10em;\n",
       "             height:  80%;\n",
       "            background:  linear-gradient(90deg,rgb(136, 204, 238) 11.2%, transparent 11.2%);\n",
       "        }#T_ea3f5_row11_col5{\n",
       "            background-color:  #e4f5df;\n",
       "            color:  #000000;\n",
       "        }#T_ea3f5_row12_col2{\n",
       "            width:  10em;\n",
       "             height:  80%;\n",
       "            background:  linear-gradient(90deg,rgb(179,226,205) 11.9%, transparent 11.9%);\n",
       "        }#T_ea3f5_row12_col3{\n",
       "            width:  10em;\n",
       "             height:  80%;\n",
       "            background:  linear-gradient(90deg,rgb(136, 204, 238) 13.2%, transparent 13.2%);\n",
       "        }#T_ea3f5_row12_col5{\n",
       "            background-color:  #def2d9;\n",
       "            color:  #000000;\n",
       "        }#T_ea3f5_row13_col2,#T_ea3f5_row13_col3,#T_ea3f5_row36_col2{\n",
       "            width:  10em;\n",
       "             height:  80%;\n",
       "        }#T_ea3f5_row13_col5{\n",
       "            background-color:  #f7fcf5;\n",
       "            color:  #000000;\n",
       "        }#T_ea3f5_row14_col2{\n",
       "            width:  10em;\n",
       "             height:  80%;\n",
       "            background:  linear-gradient(90deg,rgb(179,226,205) 71.6%, transparent 71.6%);\n",
       "        }#T_ea3f5_row14_col3{\n",
       "            width:  10em;\n",
       "             height:  80%;\n",
       "            background:  linear-gradient(90deg,rgb(136, 204, 238) 86.3%, transparent 86.3%);\n",
       "        }#T_ea3f5_row14_col5{\n",
       "            background-color:  #067230;\n",
       "            color:  #f1f1f1;\n",
       "        }#T_ea3f5_row15_col2,#T_ea3f5_row49_col2{\n",
       "            width:  10em;\n",
       "             height:  80%;\n",
       "            background:  linear-gradient(90deg,rgb(179,226,205) 25.4%, transparent 25.4%);\n",
       "        }#T_ea3f5_row15_col3{\n",
       "            width:  10em;\n",
       "             height:  80%;\n",
       "            background:  linear-gradient(90deg,rgb(136, 204, 238) 39.9%, transparent 39.9%);\n",
       "        }#T_ea3f5_row15_col5{\n",
       "            background-color:  #a7dba0;\n",
       "            color:  #000000;\n",
       "        }#T_ea3f5_row16_col2,#T_ea3f5_row23_col2{\n",
       "            width:  10em;\n",
       "             height:  80%;\n",
       "            background:  linear-gradient(90deg,rgb(179,226,205) 23.9%, transparent 23.9%);\n",
       "        }#T_ea3f5_row16_col3{\n",
       "            width:  10em;\n",
       "             height:  80%;\n",
       "            background:  linear-gradient(90deg,rgb(136, 204, 238) 9.9%, transparent 9.9%);\n",
       "        }#T_ea3f5_row16_col5{\n",
       "            background-color:  #d7efd1;\n",
       "            color:  #000000;\n",
       "        }#T_ea3f5_row17_col3{\n",
       "            width:  10em;\n",
       "             height:  80%;\n",
       "            background:  linear-gradient(90deg,rgb(136, 204, 238) 22.7%, transparent 22.7%);\n",
       "        }#T_ea3f5_row17_col5{\n",
       "            background-color:  #bbe4b4;\n",
       "            color:  #000000;\n",
       "        }#T_ea3f5_row18_col2,#T_ea3f5_row29_col2{\n",
       "            width:  10em;\n",
       "             height:  80%;\n",
       "            background:  linear-gradient(90deg,rgb(179,226,205) 14.9%, transparent 14.9%);\n",
       "        }#T_ea3f5_row18_col3{\n",
       "            width:  10em;\n",
       "             height:  80%;\n",
       "            background:  linear-gradient(90deg,rgb(136, 204, 238) 13.5%, transparent 13.5%);\n",
       "        }#T_ea3f5_row18_col5,#T_ea3f5_row37_col5{\n",
       "            background-color:  #e0f3db;\n",
       "            color:  #000000;\n",
       "        }#T_ea3f5_row19_col2{\n",
       "            width:  10em;\n",
       "             height:  80%;\n",
       "            background:  linear-gradient(90deg,rgb(179,226,205) 80.6%, transparent 80.6%);\n",
       "        }#T_ea3f5_row19_col3{\n",
       "            width:  10em;\n",
       "             height:  80%;\n",
       "            background:  linear-gradient(90deg,rgb(136, 204, 238) 51.0%, transparent 51.0%);\n",
       "        }#T_ea3f5_row19_col5{\n",
       "            background-color:  #006d2c;\n",
       "            color:  #f1f1f1;\n",
       "        }#T_ea3f5_row20_col3{\n",
       "            width:  10em;\n",
       "             height:  80%;\n",
       "            background:  linear-gradient(90deg,rgb(136, 204, 238) 5.7%, transparent 5.7%);\n",
       "        }#T_ea3f5_row20_col5{\n",
       "            background-color:  #e7f6e3;\n",
       "            color:  #000000;\n",
       "        }#T_ea3f5_row21_col2{\n",
       "            width:  10em;\n",
       "             height:  80%;\n",
       "            background:  linear-gradient(90deg,rgb(179,226,205) 47.8%, transparent 47.8%);\n",
       "        }#T_ea3f5_row21_col3{\n",
       "            width:  10em;\n",
       "             height:  80%;\n",
       "            background:  linear-gradient(90deg,rgb(136, 204, 238) 20.1%, transparent 20.1%);\n",
       "        }#T_ea3f5_row21_col5,#T_ea3f5_row46_col5{\n",
       "            background-color:  #a5db9f;\n",
       "            color:  #000000;\n",
       "        }#T_ea3f5_row22_col2{\n",
       "            width:  10em;\n",
       "             height:  80%;\n",
       "            background:  linear-gradient(90deg,rgb(179,226,205) 1.5%, transparent 1.5%);\n",
       "        }#T_ea3f5_row22_col3{\n",
       "            width:  10em;\n",
       "             height:  80%;\n",
       "            background:  linear-gradient(90deg,rgb(136, 204, 238) 3.7%, transparent 3.7%);\n",
       "        }#T_ea3f5_row22_col5{\n",
       "            background-color:  #f2faef;\n",
       "            color:  #000000;\n",
       "        }#T_ea3f5_row23_col3{\n",
       "            width:  10em;\n",
       "             height:  80%;\n",
       "            background:  linear-gradient(90deg,rgb(136, 204, 238) 10.7%, transparent 10.7%);\n",
       "        }#T_ea3f5_row23_col5{\n",
       "            background-color:  #dbf1d5;\n",
       "            color:  #000000;\n",
       "        }#T_ea3f5_row24_col2{\n",
       "            width:  10em;\n",
       "             height:  80%;\n",
       "            background:  linear-gradient(90deg,rgb(179,226,205) 46.3%, transparent 46.3%);\n",
       "        }#T_ea3f5_row24_col3{\n",
       "            width:  10em;\n",
       "             height:  80%;\n",
       "            background:  linear-gradient(90deg,rgb(136, 204, 238) 33.0%, transparent 33.0%);\n",
       "        }#T_ea3f5_row24_col5{\n",
       "            background-color:  #8bcf89;\n",
       "            color:  #000000;\n",
       "        }#T_ea3f5_row25_col2{\n",
       "            width:  10em;\n",
       "             height:  80%;\n",
       "            background:  linear-gradient(90deg,rgb(179,226,205) 28.4%, transparent 28.4%);\n",
       "        }#T_ea3f5_row25_col3{\n",
       "            width:  10em;\n",
       "             height:  80%;\n",
       "            background:  linear-gradient(90deg,rgb(136, 204, 238) 11.4%, transparent 11.4%);\n",
       "        }#T_ea3f5_row25_col5{\n",
       "            background-color:  #d5efcf;\n",
       "            color:  #000000;\n",
       "        }#T_ea3f5_row26_col2,#T_ea3f5_row40_col2{\n",
       "            width:  10em;\n",
       "             height:  80%;\n",
       "            background:  linear-gradient(90deg,rgb(179,226,205) 26.9%, transparent 26.9%);\n",
       "        }#T_ea3f5_row26_col3{\n",
       "            width:  10em;\n",
       "             height:  80%;\n",
       "            background:  linear-gradient(90deg,rgb(136, 204, 238) 9.5%, transparent 9.5%);\n",
       "        }#T_ea3f5_row26_col5,#T_ea3f5_row47_col5{\n",
       "            background-color:  #cdecc7;\n",
       "            color:  #000000;\n",
       "        }#T_ea3f5_row27_col3{\n",
       "            width:  10em;\n",
       "             height:  80%;\n",
       "            background:  linear-gradient(90deg,rgb(136, 204, 238) 7.7%, transparent 7.7%);\n",
       "        }#T_ea3f5_row27_col5{\n",
       "            background-color:  #c9eac2;\n",
       "            color:  #000000;\n",
       "        }#T_ea3f5_row28_col2{\n",
       "            width:  10em;\n",
       "             height:  80%;\n",
       "            background:  linear-gradient(90deg,rgb(179,226,205) 29.9%, transparent 29.9%);\n",
       "        }#T_ea3f5_row28_col3{\n",
       "            width:  10em;\n",
       "             height:  80%;\n",
       "            background:  linear-gradient(90deg,rgb(136, 204, 238) 35.3%, transparent 35.3%);\n",
       "        }#T_ea3f5_row28_col5{\n",
       "            background-color:  #b7e2b1;\n",
       "            color:  #000000;\n",
       "        }#T_ea3f5_row29_col3{\n",
       "            width:  10em;\n",
       "             height:  80%;\n",
       "            background:  linear-gradient(90deg,rgb(136, 204, 238) 3.2%, transparent 3.2%);\n",
       "        }#T_ea3f5_row29_col5{\n",
       "            background-color:  #ecf8e8;\n",
       "            color:  #000000;\n",
       "        }#T_ea3f5_row30_col2{\n",
       "            width:  10em;\n",
       "             height:  80%;\n",
       "            background:  linear-gradient(90deg,rgb(179,226,205) 58.2%, transparent 58.2%);\n",
       "        }#T_ea3f5_row30_col3{\n",
       "            width:  10em;\n",
       "             height:  80%;\n",
       "            background:  linear-gradient(90deg,rgb(136, 204, 238) 7.5%, transparent 7.5%);\n",
       "        }#T_ea3f5_row30_col5{\n",
       "            background-color:  #d4eece;\n",
       "            color:  #000000;\n",
       "        }#T_ea3f5_row31_col2{\n",
       "            width:  10em;\n",
       "             height:  80%;\n",
       "            background:  linear-gradient(90deg,rgb(179,226,205) 62.7%, transparent 62.7%);\n",
       "        }#T_ea3f5_row31_col3{\n",
       "            width:  10em;\n",
       "             height:  80%;\n",
       "            background:  linear-gradient(90deg,rgb(136, 204, 238) 44.4%, transparent 44.4%);\n",
       "        }#T_ea3f5_row31_col5{\n",
       "            background-color:  #50b264;\n",
       "            color:  #000000;\n",
       "        }#T_ea3f5_row32_col2,#T_ea3f5_row46_col2{\n",
       "            width:  10em;\n",
       "             height:  80%;\n",
       "            background:  linear-gradient(90deg,rgb(179,226,205) 38.8%, transparent 38.8%);\n",
       "        }#T_ea3f5_row32_col3{\n",
       "            width:  10em;\n",
       "             height:  80%;\n",
       "            background:  linear-gradient(90deg,rgb(136, 204, 238) 6.9%, transparent 6.9%);\n",
       "        }#T_ea3f5_row32_col5,#T_ea3f5_row45_col5{\n",
       "            background-color:  #ceecc8;\n",
       "            color:  #000000;\n",
       "        }#T_ea3f5_row33_col2{\n",
       "            width:  10em;\n",
       "             height:  80%;\n",
       "            background:  linear-gradient(90deg,rgb(179,226,205) 31.3%, transparent 31.3%);\n",
       "        }#T_ea3f5_row33_col3{\n",
       "            width:  10em;\n",
       "             height:  80%;\n",
       "            background:  linear-gradient(90deg,rgb(136, 204, 238) 18.4%, transparent 18.4%);\n",
       "        }#T_ea3f5_row33_col5{\n",
       "            background-color:  #9fd899;\n",
       "            color:  #000000;\n",
       "        }#T_ea3f5_row34_col3{\n",
       "            width:  10em;\n",
       "             height:  80%;\n",
       "            background:  linear-gradient(90deg,rgb(136, 204, 238) 35.8%, transparent 35.8%);\n",
       "        }#T_ea3f5_row34_col5{\n",
       "            background-color:  #90d18d;\n",
       "            color:  #000000;\n",
       "        }#T_ea3f5_row35_col2{\n",
       "            width:  10em;\n",
       "             height:  80%;\n",
       "            background:  linear-gradient(90deg,rgb(179,226,205) 59.7%, transparent 59.7%);\n",
       "        }#T_ea3f5_row35_col3{\n",
       "            width:  10em;\n",
       "             height:  80%;\n",
       "            background:  linear-gradient(90deg,rgb(136, 204, 238) 28.5%, transparent 28.5%);\n",
       "        }#T_ea3f5_row35_col5{\n",
       "            background-color:  #6dc072;\n",
       "            color:  #000000;\n",
       "        }#T_ea3f5_row36_col3{\n",
       "            width:  10em;\n",
       "             height:  80%;\n",
       "            background:  linear-gradient(90deg,rgb(136, 204, 238) 1.4%, transparent 1.4%);\n",
       "        }#T_ea3f5_row36_col5{\n",
       "            background-color:  #f6fcf4;\n",
       "            color:  #000000;\n",
       "        }#T_ea3f5_row37_col2{\n",
       "            width:  10em;\n",
       "             height:  80%;\n",
       "            background:  linear-gradient(90deg,rgb(179,226,205) 16.4%, transparent 16.4%);\n",
       "        }#T_ea3f5_row37_col3{\n",
       "            width:  10em;\n",
       "             height:  80%;\n",
       "            background:  linear-gradient(90deg,rgb(136, 204, 238) 11.0%, transparent 11.0%);\n",
       "        }#T_ea3f5_row38_col2{\n",
       "            width:  10em;\n",
       "             height:  80%;\n",
       "            background:  linear-gradient(90deg,rgb(179,226,205) 100.0%, transparent 100.0%);\n",
       "        }#T_ea3f5_row38_col3{\n",
       "            width:  10em;\n",
       "             height:  80%;\n",
       "            background:  linear-gradient(90deg,rgb(136, 204, 238) 100.0%, transparent 100.0%);\n",
       "        }#T_ea3f5_row38_col5{\n",
       "            background-color:  #00441b;\n",
       "            color:  #f1f1f1;\n",
       "        }#T_ea3f5_row39_col2{\n",
       "            width:  10em;\n",
       "             height:  80%;\n",
       "            background:  linear-gradient(90deg,rgb(179,226,205) 98.5%, transparent 98.5%);\n",
       "        }#T_ea3f5_row39_col3{\n",
       "            width:  10em;\n",
       "             height:  80%;\n",
       "            background:  linear-gradient(90deg,rgb(136, 204, 238) 20.5%, transparent 20.5%);\n",
       "        }#T_ea3f5_row39_col5{\n",
       "            background-color:  #369f54;\n",
       "            color:  #000000;\n",
       "        }#T_ea3f5_row40_col3{\n",
       "            width:  10em;\n",
       "             height:  80%;\n",
       "            background:  linear-gradient(90deg,rgb(136, 204, 238) 21.8%, transparent 21.8%);\n",
       "        }#T_ea3f5_row40_col5{\n",
       "            background-color:  #c1e6ba;\n",
       "            color:  #000000;\n",
       "        }#T_ea3f5_row41_col3{\n",
       "            width:  10em;\n",
       "             height:  80%;\n",
       "            background:  linear-gradient(90deg,rgb(136, 204, 238) 17.3%, transparent 17.3%);\n",
       "        }#T_ea3f5_row41_col5{\n",
       "            background-color:  #b0dfaa;\n",
       "            color:  #000000;\n",
       "        }#T_ea3f5_row42_col2{\n",
       "            width:  10em;\n",
       "             height:  80%;\n",
       "            background:  linear-gradient(90deg,rgb(179,226,205) 53.7%, transparent 53.7%);\n",
       "        }#T_ea3f5_row42_col3{\n",
       "            width:  10em;\n",
       "             height:  80%;\n",
       "            background:  linear-gradient(90deg,rgb(136, 204, 238) 15.5%, transparent 15.5%);\n",
       "        }#T_ea3f5_row42_col5{\n",
       "            background-color:  #9ed798;\n",
       "            color:  #000000;\n",
       "        }#T_ea3f5_row43_col2{\n",
       "            width:  10em;\n",
       "             height:  80%;\n",
       "            background:  linear-gradient(90deg,rgb(179,226,205) 43.3%, transparent 43.3%);\n",
       "        }#T_ea3f5_row43_col3{\n",
       "            width:  10em;\n",
       "             height:  80%;\n",
       "            background:  linear-gradient(90deg,rgb(136, 204, 238) 18.5%, transparent 18.5%);\n",
       "        }#T_ea3f5_row44_col2{\n",
       "            width:  10em;\n",
       "             height:  80%;\n",
       "            background:  linear-gradient(90deg,rgb(179,226,205) 9.0%, transparent 9.0%);\n",
       "        }#T_ea3f5_row44_col3{\n",
       "            width:  10em;\n",
       "             height:  80%;\n",
       "            background:  linear-gradient(90deg,rgb(136, 204, 238) 2.0%, transparent 2.0%);\n",
       "        }#T_ea3f5_row44_col5{\n",
       "            background-color:  #f0f9ec;\n",
       "            color:  #000000;\n",
       "        }#T_ea3f5_row45_col2{\n",
       "            width:  10em;\n",
       "             height:  80%;\n",
       "            background:  linear-gradient(90deg,rgb(179,226,205) 34.3%, transparent 34.3%);\n",
       "        }#T_ea3f5_row45_col3{\n",
       "            width:  10em;\n",
       "             height:  80%;\n",
       "            background:  linear-gradient(90deg,rgb(136, 204, 238) 9.7%, transparent 9.7%);\n",
       "        }#T_ea3f5_row46_col3{\n",
       "            width:  10em;\n",
       "             height:  80%;\n",
       "            background:  linear-gradient(90deg,rgb(136, 204, 238) 15.1%, transparent 15.1%);\n",
       "        }#T_ea3f5_row47_col3{\n",
       "            width:  10em;\n",
       "             height:  80%;\n",
       "            background:  linear-gradient(90deg,rgb(136, 204, 238) 10.8%, transparent 10.8%);\n",
       "        }#T_ea3f5_row48_col2{\n",
       "            width:  10em;\n",
       "             height:  80%;\n",
       "            background:  linear-gradient(90deg,rgb(179,226,205) 61.2%, transparent 61.2%);\n",
       "        }#T_ea3f5_row48_col3{\n",
       "            width:  10em;\n",
       "             height:  80%;\n",
       "            background:  linear-gradient(90deg,rgb(136, 204, 238) 30.6%, transparent 30.6%);\n",
       "        }#T_ea3f5_row48_col5{\n",
       "            background-color:  #8ace88;\n",
       "            color:  #000000;\n",
       "        }#T_ea3f5_row49_col3{\n",
       "            width:  10em;\n",
       "             height:  80%;\n",
       "            background:  linear-gradient(90deg,rgb(136, 204, 238) 16.5%, transparent 16.5%);\n",
       "        }#T_ea3f5_row49_col5{\n",
       "            background-color:  #c3e7bc;\n",
       "            color:  #000000;\n",
       "        }</style><table id=\"T_ea3f5_\" ><thead>    <tr>        <th class=\"blank level0\" ></th>        <th class=\"col_heading level0 col0\" >nonNA_count</th>        <th class=\"col_heading level0 col1\" >NA_count</th>        <th class=\"col_heading level0 col2\" >nunique</th>        <th class=\"col_heading level0 col3\" >mean</th>        <th class=\"col_heading level0 col4\" >median</th>        <th class=\"col_heading level0 col5\" >std</th>        <th class=\"col_heading level0 col6\" >IQR</th>        <th class=\"col_heading level0 col7\" >min</th>        <th class=\"col_heading level0 col8\" >max</th>        <th class=\"col_heading level0 col9\" >dtype</th>    </tr></thead><tbody>\n",
       "                <tr>\n",
       "                        <th id=\"T_ea3f5_level0_row0\" class=\"row_heading level0 row0\" >0</th>\n",
       "                        <td id=\"T_ea3f5_row0_col0\" class=\"data row0 col0\" >100000</td>\n",
       "                        <td id=\"T_ea3f5_row0_col1\" class=\"data row0 col1\" >0</td>\n",
       "                        <td id=\"T_ea3f5_row0_col2\" class=\"data row0 col2\" >11</td>\n",
       "                        <td id=\"T_ea3f5_row0_col3\" class=\"data row0 col3\" >0.257830</td>\n",
       "                        <td id=\"T_ea3f5_row0_col4\" class=\"data row0 col4\" >0.000000</td>\n",
       "                        <td id=\"T_ea3f5_row0_col5\" class=\"data row0 col5\" >0.929033</td>\n",
       "                        <td id=\"T_ea3f5_row0_col6\" class=\"data row0 col6\" >0.000000</td>\n",
       "                        <td id=\"T_ea3f5_row0_col7\" class=\"data row0 col7\" >0</td>\n",
       "                        <td id=\"T_ea3f5_row0_col8\" class=\"data row0 col8\" >10</td>\n",
       "                        <td id=\"T_ea3f5_row0_col9\" class=\"data row0 col9\" >int64</td>\n",
       "            </tr>\n",
       "            <tr>\n",
       "                        <th id=\"T_ea3f5_level0_row1\" class=\"row_heading level0 row1\" >1</th>\n",
       "                        <td id=\"T_ea3f5_row1_col0\" class=\"data row1 col0\" >100000</td>\n",
       "                        <td id=\"T_ea3f5_row1_col1\" class=\"data row1 col1\" >0</td>\n",
       "                        <td id=\"T_ea3f5_row1_col2\" class=\"data row1 col2\" >31</td>\n",
       "                        <td id=\"T_ea3f5_row1_col3\" class=\"data row1 col3\" >0.431720</td>\n",
       "                        <td id=\"T_ea3f5_row1_col4\" class=\"data row1 col4\" >0.000000</td>\n",
       "                        <td id=\"T_ea3f5_row1_col5\" class=\"data row1 col5\" >1.977862</td>\n",
       "                        <td id=\"T_ea3f5_row1_col6\" class=\"data row1 col6\" >0.000000</td>\n",
       "                        <td id=\"T_ea3f5_row1_col7\" class=\"data row1 col7\" >0</td>\n",
       "                        <td id=\"T_ea3f5_row1_col8\" class=\"data row1 col8\" >31</td>\n",
       "                        <td id=\"T_ea3f5_row1_col9\" class=\"data row1 col9\" >int64</td>\n",
       "            </tr>\n",
       "            <tr>\n",
       "                        <th id=\"T_ea3f5_level0_row2\" class=\"row_heading level0 row2\" >2</th>\n",
       "                        <td id=\"T_ea3f5_row2_col0\" class=\"data row2 col0\" >100000</td>\n",
       "                        <td id=\"T_ea3f5_row2_col1\" class=\"data row2 col1\" >0</td>\n",
       "                        <td id=\"T_ea3f5_row2_col2\" class=\"data row2 col2\" >7</td>\n",
       "                        <td id=\"T_ea3f5_row2_col3\" class=\"data row2 col3\" >0.114130</td>\n",
       "                        <td id=\"T_ea3f5_row2_col4\" class=\"data row2 col4\" >0.000000</td>\n",
       "                        <td id=\"T_ea3f5_row2_col5\" class=\"data row2 col5\" >0.519584</td>\n",
       "                        <td id=\"T_ea3f5_row2_col6\" class=\"data row2 col6\" >0.000000</td>\n",
       "                        <td id=\"T_ea3f5_row2_col7\" class=\"data row2 col7\" >0</td>\n",
       "                        <td id=\"T_ea3f5_row2_col8\" class=\"data row2 col8\" >6</td>\n",
       "                        <td id=\"T_ea3f5_row2_col9\" class=\"data row2 col9\" >int64</td>\n",
       "            </tr>\n",
       "            <tr>\n",
       "                        <th id=\"T_ea3f5_level0_row3\" class=\"row_heading level0 row3\" >3</th>\n",
       "                        <td id=\"T_ea3f5_row3_col0\" class=\"data row3 col0\" >100000</td>\n",
       "                        <td id=\"T_ea3f5_row3_col1\" class=\"data row3 col1\" >0</td>\n",
       "                        <td id=\"T_ea3f5_row3_col2\" class=\"data row3 col2\" >26</td>\n",
       "                        <td id=\"T_ea3f5_row3_col3\" class=\"data row3 col3\" >0.590550</td>\n",
       "                        <td id=\"T_ea3f5_row3_col4\" class=\"data row3 col4\" >0.000000</td>\n",
       "                        <td id=\"T_ea3f5_row3_col5\" class=\"data row3 col5\" >1.844558</td>\n",
       "                        <td id=\"T_ea3f5_row3_col6\" class=\"data row3 col6\" >0.000000</td>\n",
       "                        <td id=\"T_ea3f5_row3_col7\" class=\"data row3 col7\" >0</td>\n",
       "                        <td id=\"T_ea3f5_row3_col8\" class=\"data row3 col8\" >26</td>\n",
       "                        <td id=\"T_ea3f5_row3_col9\" class=\"data row3 col9\" >int64</td>\n",
       "            </tr>\n",
       "            <tr>\n",
       "                        <th id=\"T_ea3f5_level0_row4\" class=\"row_heading level0 row4\" >4</th>\n",
       "                        <td id=\"T_ea3f5_row4_col0\" class=\"data row4 col0\" >100000</td>\n",
       "                        <td id=\"T_ea3f5_row4_col1\" class=\"data row4 col1\" >0</td>\n",
       "                        <td id=\"T_ea3f5_row4_col2\" class=\"data row4 col2\" >38</td>\n",
       "                        <td id=\"T_ea3f5_row4_col3\" class=\"data row4 col3\" >0.599770</td>\n",
       "                        <td id=\"T_ea3f5_row4_col4\" class=\"data row4 col4\" >0.000000</td>\n",
       "                        <td id=\"T_ea3f5_row4_col5\" class=\"data row4 col5\" >2.785531</td>\n",
       "                        <td id=\"T_ea3f5_row4_col6\" class=\"data row4 col6\" >0.000000</td>\n",
       "                        <td id=\"T_ea3f5_row4_col7\" class=\"data row4 col7\" >0</td>\n",
       "                        <td id=\"T_ea3f5_row4_col8\" class=\"data row4 col8\" >38</td>\n",
       "                        <td id=\"T_ea3f5_row4_col9\" class=\"data row4 col9\" >int64</td>\n",
       "            </tr>\n",
       "            <tr>\n",
       "                        <th id=\"T_ea3f5_level0_row5\" class=\"row_heading level0 row5\" >5</th>\n",
       "                        <td id=\"T_ea3f5_row5_col0\" class=\"data row5 col0\" >100000</td>\n",
       "                        <td id=\"T_ea3f5_row5_col1\" class=\"data row5 col1\" >0</td>\n",
       "                        <td id=\"T_ea3f5_row5_col2\" class=\"data row5 col2\" >11</td>\n",
       "                        <td id=\"T_ea3f5_row5_col3\" class=\"data row5 col3\" >0.160820</td>\n",
       "                        <td id=\"T_ea3f5_row5_col4\" class=\"data row5 col4\" >0.000000</td>\n",
       "                        <td id=\"T_ea3f5_row5_col5\" class=\"data row5 col5\" >0.601149</td>\n",
       "                        <td id=\"T_ea3f5_row5_col6\" class=\"data row5 col6\" >0.000000</td>\n",
       "                        <td id=\"T_ea3f5_row5_col7\" class=\"data row5 col7\" >0</td>\n",
       "                        <td id=\"T_ea3f5_row5_col8\" class=\"data row5 col8\" >10</td>\n",
       "                        <td id=\"T_ea3f5_row5_col9\" class=\"data row5 col9\" >int64</td>\n",
       "            </tr>\n",
       "            <tr>\n",
       "                        <th id=\"T_ea3f5_level0_row6\" class=\"row_heading level0 row6\" >6</th>\n",
       "                        <td id=\"T_ea3f5_row6_col0\" class=\"data row6 col0\" >100000</td>\n",
       "                        <td id=\"T_ea3f5_row6_col1\" class=\"data row6 col1\" >0</td>\n",
       "                        <td id=\"T_ea3f5_row6_col2\" class=\"data row6 col2\" >28</td>\n",
       "                        <td id=\"T_ea3f5_row6_col3\" class=\"data row6 col3\" >0.731490</td>\n",
       "                        <td id=\"T_ea3f5_row6_col4\" class=\"data row6 col4\" >0.000000</td>\n",
       "                        <td id=\"T_ea3f5_row6_col5\" class=\"data row6 col5\" >2.343465</td>\n",
       "                        <td id=\"T_ea3f5_row6_col6\" class=\"data row6 col6\" >0.000000</td>\n",
       "                        <td id=\"T_ea3f5_row6_col7\" class=\"data row6 col7\" >0</td>\n",
       "                        <td id=\"T_ea3f5_row6_col8\" class=\"data row6 col8\" >27</td>\n",
       "                        <td id=\"T_ea3f5_row6_col9\" class=\"data row6 col9\" >int64</td>\n",
       "            </tr>\n",
       "            <tr>\n",
       "                        <th id=\"T_ea3f5_level0_row7\" class=\"row_heading level0 row7\" >7</th>\n",
       "                        <td id=\"T_ea3f5_row7_col0\" class=\"data row7 col0\" >100000</td>\n",
       "                        <td id=\"T_ea3f5_row7_col1\" class=\"data row7 col1\" >0</td>\n",
       "                        <td id=\"T_ea3f5_row7_col2\" class=\"data row7 col2\" >32</td>\n",
       "                        <td id=\"T_ea3f5_row7_col3\" class=\"data row7 col3\" >1.228920</td>\n",
       "                        <td id=\"T_ea3f5_row7_col4\" class=\"data row7 col4\" >0.000000</td>\n",
       "                        <td id=\"T_ea3f5_row7_col5\" class=\"data row7 col5\" >2.692732</td>\n",
       "                        <td id=\"T_ea3f5_row7_col6\" class=\"data row7 col6\" >1.000000</td>\n",
       "                        <td id=\"T_ea3f5_row7_col7\" class=\"data row7 col7\" >0</td>\n",
       "                        <td id=\"T_ea3f5_row7_col8\" class=\"data row7 col8\" >31</td>\n",
       "                        <td id=\"T_ea3f5_row7_col9\" class=\"data row7 col9\" >int64</td>\n",
       "            </tr>\n",
       "            <tr>\n",
       "                        <th id=\"T_ea3f5_level0_row8\" class=\"row_heading level0 row8\" >8</th>\n",
       "                        <td id=\"T_ea3f5_row8_col0\" class=\"data row8 col0\" >100000</td>\n",
       "                        <td id=\"T_ea3f5_row8_col1\" class=\"data row8 col1\" >0</td>\n",
       "                        <td id=\"T_ea3f5_row8_col2\" class=\"data row8 col2\" >37</td>\n",
       "                        <td id=\"T_ea3f5_row8_col3\" class=\"data row8 col3\" >0.903350</td>\n",
       "                        <td id=\"T_ea3f5_row8_col4\" class=\"data row8 col4\" >0.000000</td>\n",
       "                        <td id=\"T_ea3f5_row8_col5\" class=\"data row8 col5\" >3.415258</td>\n",
       "                        <td id=\"T_ea3f5_row8_col6\" class=\"data row8 col6\" >0.000000</td>\n",
       "                        <td id=\"T_ea3f5_row8_col7\" class=\"data row8 col7\" >0</td>\n",
       "                        <td id=\"T_ea3f5_row8_col8\" class=\"data row8 col8\" >39</td>\n",
       "                        <td id=\"T_ea3f5_row8_col9\" class=\"data row8 col9\" >int64</td>\n",
       "            </tr>\n",
       "            <tr>\n",
       "                        <th id=\"T_ea3f5_level0_row9\" class=\"row_heading level0 row9\" >9</th>\n",
       "                        <td id=\"T_ea3f5_row9_col0\" class=\"data row9 col0\" >100000</td>\n",
       "                        <td id=\"T_ea3f5_row9_col1\" class=\"data row9 col1\" >0</td>\n",
       "                        <td id=\"T_ea3f5_row9_col2\" class=\"data row9 col2\" >18</td>\n",
       "                        <td id=\"T_ea3f5_row9_col3\" class=\"data row9 col3\" >0.940120</td>\n",
       "                        <td id=\"T_ea3f5_row9_col4\" class=\"data row9 col4\" >0.000000</td>\n",
       "                        <td id=\"T_ea3f5_row9_col5\" class=\"data row9 col5\" >1.904172</td>\n",
       "                        <td id=\"T_ea3f5_row9_col6\" class=\"data row9 col6\" >1.000000</td>\n",
       "                        <td id=\"T_ea3f5_row9_col7\" class=\"data row9 col7\" >0</td>\n",
       "                        <td id=\"T_ea3f5_row9_col8\" class=\"data row9 col8\" >17</td>\n",
       "                        <td id=\"T_ea3f5_row9_col9\" class=\"data row9 col9\" >int64</td>\n",
       "            </tr>\n",
       "            <tr>\n",
       "                        <th id=\"T_ea3f5_level0_row10\" class=\"row_heading level0 row10\" >10</th>\n",
       "                        <td id=\"T_ea3f5_row10_col0\" class=\"data row10 col0\" >100000</td>\n",
       "                        <td id=\"T_ea3f5_row10_col1\" class=\"data row10 col1\" >0</td>\n",
       "                        <td id=\"T_ea3f5_row10_col2\" class=\"data row10 col2\" >17</td>\n",
       "                        <td id=\"T_ea3f5_row10_col3\" class=\"data row10 col3\" >0.313680</td>\n",
       "                        <td id=\"T_ea3f5_row10_col4\" class=\"data row10 col4\" >0.000000</td>\n",
       "                        <td id=\"T_ea3f5_row10_col5\" class=\"data row10 col5\" >1.121168</td>\n",
       "                        <td id=\"T_ea3f5_row10_col6\" class=\"data row10 col6\" >0.000000</td>\n",
       "                        <td id=\"T_ea3f5_row10_col7\" class=\"data row10 col7\" >0</td>\n",
       "                        <td id=\"T_ea3f5_row10_col8\" class=\"data row10 col8\" >16</td>\n",
       "                        <td id=\"T_ea3f5_row10_col9\" class=\"data row10 col9\" >int64</td>\n",
       "            </tr>\n",
       "            <tr>\n",
       "                        <th id=\"T_ea3f5_level0_row11\" class=\"row_heading level0 row11\" >11</th>\n",
       "                        <td id=\"T_ea3f5_row11_col0\" class=\"data row11 col0\" >100000</td>\n",
       "                        <td id=\"T_ea3f5_row11_col1\" class=\"data row11 col1\" >0</td>\n",
       "                        <td id=\"T_ea3f5_row11_col2\" class=\"data row11 col2\" >13</td>\n",
       "                        <td id=\"T_ea3f5_row11_col3\" class=\"data row11 col3\" >0.403750</td>\n",
       "                        <td id=\"T_ea3f5_row11_col4\" class=\"data row11 col4\" >0.000000</td>\n",
       "                        <td id=\"T_ea3f5_row11_col5\" class=\"data row11 col5\" >1.011418</td>\n",
       "                        <td id=\"T_ea3f5_row11_col6\" class=\"data row11 col6\" >0.000000</td>\n",
       "                        <td id=\"T_ea3f5_row11_col7\" class=\"data row11 col7\" >0</td>\n",
       "                        <td id=\"T_ea3f5_row11_col8\" class=\"data row11 col8\" >12</td>\n",
       "                        <td id=\"T_ea3f5_row11_col9\" class=\"data row11 col9\" >int64</td>\n",
       "            </tr>\n",
       "            <tr>\n",
       "                        <th id=\"T_ea3f5_level0_row12\" class=\"row_heading level0 row12\" >12</th>\n",
       "                        <td id=\"T_ea3f5_row12_col0\" class=\"data row12 col0\" >100000</td>\n",
       "                        <td id=\"T_ea3f5_row12_col1\" class=\"data row12 col1\" >0</td>\n",
       "                        <td id=\"T_ea3f5_row12_col2\" class=\"data row12 col2\" >12</td>\n",
       "                        <td id=\"T_ea3f5_row12_col3\" class=\"data row12 col3\" >0.461470</td>\n",
       "                        <td id=\"T_ea3f5_row12_col4\" class=\"data row12 col4\" >0.000000</td>\n",
       "                        <td id=\"T_ea3f5_row12_col5\" class=\"data row12 col5\" >1.128729</td>\n",
       "                        <td id=\"T_ea3f5_row12_col6\" class=\"data row12 col6\" >0.000000</td>\n",
       "                        <td id=\"T_ea3f5_row12_col7\" class=\"data row12 col7\" >0</td>\n",
       "                        <td id=\"T_ea3f5_row12_col8\" class=\"data row12 col8\" >11</td>\n",
       "                        <td id=\"T_ea3f5_row12_col9\" class=\"data row12 col9\" >int64</td>\n",
       "            </tr>\n",
       "            <tr>\n",
       "                        <th id=\"T_ea3f5_level0_row13\" class=\"row_heading level0 row13\" >13</th>\n",
       "                        <td id=\"T_ea3f5_row13_col0\" class=\"data row13 col0\" >100000</td>\n",
       "                        <td id=\"T_ea3f5_row13_col1\" class=\"data row13 col1\" >0</td>\n",
       "                        <td id=\"T_ea3f5_row13_col2\" class=\"data row13 col2\" >4</td>\n",
       "                        <td id=\"T_ea3f5_row13_col3\" class=\"data row13 col3\" >0.075650</td>\n",
       "                        <td id=\"T_ea3f5_row13_col4\" class=\"data row13 col4\" >0.000000</td>\n",
       "                        <td id=\"T_ea3f5_row13_col5\" class=\"data row13 col5\" >0.359010</td>\n",
       "                        <td id=\"T_ea3f5_row13_col6\" class=\"data row13 col6\" >0.000000</td>\n",
       "                        <td id=\"T_ea3f5_row13_col7\" class=\"data row13 col7\" >0</td>\n",
       "                        <td id=\"T_ea3f5_row13_col8\" class=\"data row13 col8\" >3</td>\n",
       "                        <td id=\"T_ea3f5_row13_col9\" class=\"data row13 col9\" >int64</td>\n",
       "            </tr>\n",
       "            <tr>\n",
       "                        <th id=\"T_ea3f5_level0_row14\" class=\"row_heading level0 row14\" >14</th>\n",
       "                        <td id=\"T_ea3f5_row14_col0\" class=\"data row14 col0\" >100000</td>\n",
       "                        <td id=\"T_ea3f5_row14_col1\" class=\"data row14 col1\" >0</td>\n",
       "                        <td id=\"T_ea3f5_row14_col2\" class=\"data row14 col2\" >52</td>\n",
       "                        <td id=\"T_ea3f5_row14_col3\" class=\"data row14 col3\" >2.597320</td>\n",
       "                        <td id=\"T_ea3f5_row14_col4\" class=\"data row14 col4\" >1.000000</td>\n",
       "                        <td id=\"T_ea3f5_row14_col5\" class=\"data row14 col5\" >4.655092</td>\n",
       "                        <td id=\"T_ea3f5_row14_col6\" class=\"data row14 col6\" >3.000000</td>\n",
       "                        <td id=\"T_ea3f5_row14_col7\" class=\"data row14 col7\" >0</td>\n",
       "                        <td id=\"T_ea3f5_row14_col8\" class=\"data row14 col8\" >51</td>\n",
       "                        <td id=\"T_ea3f5_row14_col9\" class=\"data row14 col9\" >int64</td>\n",
       "            </tr>\n",
       "            <tr>\n",
       "                        <th id=\"T_ea3f5_level0_row15\" class=\"row_heading level0 row15\" >15</th>\n",
       "                        <td id=\"T_ea3f5_row15_col0\" class=\"data row15 col0\" >100000</td>\n",
       "                        <td id=\"T_ea3f5_row15_col1\" class=\"data row15 col1\" >0</td>\n",
       "                        <td id=\"T_ea3f5_row15_col2\" class=\"data row15 col2\" >21</td>\n",
       "                        <td id=\"T_ea3f5_row15_col3\" class=\"data row15 col3\" >1.242030</td>\n",
       "                        <td id=\"T_ea3f5_row15_col4\" class=\"data row15 col4\" >0.000000</td>\n",
       "                        <td id=\"T_ea3f5_row15_col5\" class=\"data row15 col5\" >2.160111</td>\n",
       "                        <td id=\"T_ea3f5_row15_col6\" class=\"data row15 col6\" >2.000000</td>\n",
       "                        <td id=\"T_ea3f5_row15_col7\" class=\"data row15 col7\" >0</td>\n",
       "                        <td id=\"T_ea3f5_row15_col8\" class=\"data row15 col8\" >20</td>\n",
       "                        <td id=\"T_ea3f5_row15_col9\" class=\"data row15 col9\" >int64</td>\n",
       "            </tr>\n",
       "            <tr>\n",
       "                        <th id=\"T_ea3f5_level0_row16\" class=\"row_heading level0 row16\" >16</th>\n",
       "                        <td id=\"T_ea3f5_row16_col0\" class=\"data row16 col0\" >100000</td>\n",
       "                        <td id=\"T_ea3f5_row16_col1\" class=\"data row16 col1\" >0</td>\n",
       "                        <td id=\"T_ea3f5_row16_col2\" class=\"data row16 col2\" >20</td>\n",
       "                        <td id=\"T_ea3f5_row16_col3\" class=\"data row16 col3\" >0.364830</td>\n",
       "                        <td id=\"T_ea3f5_row16_col4\" class=\"data row16 col4\" >0.000000</td>\n",
       "                        <td id=\"T_ea3f5_row16_col5\" class=\"data row16 col5\" >1.284152</td>\n",
       "                        <td id=\"T_ea3f5_row16_col6\" class=\"data row16 col6\" >0.000000</td>\n",
       "                        <td id=\"T_ea3f5_row16_col7\" class=\"data row16 col7\" >0</td>\n",
       "                        <td id=\"T_ea3f5_row16_col8\" class=\"data row16 col8\" >19</td>\n",
       "                        <td id=\"T_ea3f5_row16_col9\" class=\"data row16 col9\" >int64</td>\n",
       "            </tr>\n",
       "            <tr>\n",
       "                        <th id=\"T_ea3f5_level0_row17\" class=\"row_heading level0 row17\" >17</th>\n",
       "                        <td id=\"T_ea3f5_row17_col0\" class=\"data row17 col0\" >100000</td>\n",
       "                        <td id=\"T_ea3f5_row17_col1\" class=\"data row17 col1\" >0</td>\n",
       "                        <td id=\"T_ea3f5_row17_col2\" class=\"data row17 col2\" >17</td>\n",
       "                        <td id=\"T_ea3f5_row17_col3\" class=\"data row17 col3\" >0.740000</td>\n",
       "                        <td id=\"T_ea3f5_row17_col4\" class=\"data row17 col4\" >0.000000</td>\n",
       "                        <td id=\"T_ea3f5_row17_col5\" class=\"data row17 col5\" >1.819388</td>\n",
       "                        <td id=\"T_ea3f5_row17_col6\" class=\"data row17 col6\" >0.000000</td>\n",
       "                        <td id=\"T_ea3f5_row17_col7\" class=\"data row17 col7\" >0</td>\n",
       "                        <td id=\"T_ea3f5_row17_col8\" class=\"data row17 col8\" >16</td>\n",
       "                        <td id=\"T_ea3f5_row17_col9\" class=\"data row17 col9\" >int64</td>\n",
       "            </tr>\n",
       "            <tr>\n",
       "                        <th id=\"T_ea3f5_level0_row18\" class=\"row_heading level0 row18\" >18</th>\n",
       "                        <td id=\"T_ea3f5_row18_col0\" class=\"data row18 col0\" >100000</td>\n",
       "                        <td id=\"T_ea3f5_row18_col1\" class=\"data row18 col1\" >0</td>\n",
       "                        <td id=\"T_ea3f5_row18_col2\" class=\"data row18 col2\" >14</td>\n",
       "                        <td id=\"T_ea3f5_row18_col3\" class=\"data row18 col3\" >0.471220</td>\n",
       "                        <td id=\"T_ea3f5_row18_col4\" class=\"data row18 col4\" >0.000000</td>\n",
       "                        <td id=\"T_ea3f5_row18_col5\" class=\"data row18 col5\" >1.096423</td>\n",
       "                        <td id=\"T_ea3f5_row18_col6\" class=\"data row18 col6\" >0.000000</td>\n",
       "                        <td id=\"T_ea3f5_row18_col7\" class=\"data row18 col7\" >0</td>\n",
       "                        <td id=\"T_ea3f5_row18_col8\" class=\"data row18 col8\" >13</td>\n",
       "                        <td id=\"T_ea3f5_row18_col9\" class=\"data row18 col9\" >int64</td>\n",
       "            </tr>\n",
       "            <tr>\n",
       "                        <th id=\"T_ea3f5_level0_row19\" class=\"row_heading level0 row19\" >19</th>\n",
       "                        <td id=\"T_ea3f5_row19_col0\" class=\"data row19 col0\" >100000</td>\n",
       "                        <td id=\"T_ea3f5_row19_col1\" class=\"data row19 col1\" >0</td>\n",
       "                        <td id=\"T_ea3f5_row19_col2\" class=\"data row19 col2\" >58</td>\n",
       "                        <td id=\"T_ea3f5_row19_col3\" class=\"data row19 col3\" >1.564780</td>\n",
       "                        <td id=\"T_ea3f5_row19_col4\" class=\"data row19 col4\" >0.000000</td>\n",
       "                        <td id=\"T_ea3f5_row19_col5\" class=\"data row19 col5\" >4.749449</td>\n",
       "                        <td id=\"T_ea3f5_row19_col6\" class=\"data row19 col6\" >1.000000</td>\n",
       "                        <td id=\"T_ea3f5_row19_col7\" class=\"data row19 col7\" >-2</td>\n",
       "                        <td id=\"T_ea3f5_row19_col8\" class=\"data row19 col8\" >55</td>\n",
       "                        <td id=\"T_ea3f5_row19_col9\" class=\"data row19 col9\" >int64</td>\n",
       "            </tr>\n",
       "            <tr>\n",
       "                        <th id=\"T_ea3f5_level0_row20\" class=\"row_heading level0 row20\" >20</th>\n",
       "                        <td id=\"T_ea3f5_row20_col0\" class=\"data row20 col0\" >100000</td>\n",
       "                        <td id=\"T_ea3f5_row20_col1\" class=\"data row20 col1\" >0</td>\n",
       "                        <td id=\"T_ea3f5_row20_col2\" class=\"data row20 col2\" >18</td>\n",
       "                        <td id=\"T_ea3f5_row20_col3\" class=\"data row20 col3\" >0.242890</td>\n",
       "                        <td id=\"T_ea3f5_row20_col4\" class=\"data row20 col4\" >0.000000</td>\n",
       "                        <td id=\"T_ea3f5_row20_col5\" class=\"data row20 col5\" >0.927461</td>\n",
       "                        <td id=\"T_ea3f5_row20_col6\" class=\"data row20 col6\" >0.000000</td>\n",
       "                        <td id=\"T_ea3f5_row20_col7\" class=\"data row20 col7\" >0</td>\n",
       "                        <td id=\"T_ea3f5_row20_col8\" class=\"data row20 col8\" >17</td>\n",
       "                        <td id=\"T_ea3f5_row20_col9\" class=\"data row20 col9\" >int64</td>\n",
       "            </tr>\n",
       "            <tr>\n",
       "                        <th id=\"T_ea3f5_level0_row21\" class=\"row_heading level0 row21\" >21</th>\n",
       "                        <td id=\"T_ea3f5_row21_col0\" class=\"data row21 col0\" >100000</td>\n",
       "                        <td id=\"T_ea3f5_row21_col1\" class=\"data row21 col1\" >0</td>\n",
       "                        <td id=\"T_ea3f5_row21_col2\" class=\"data row21 col2\" >36</td>\n",
       "                        <td id=\"T_ea3f5_row21_col3\" class=\"data row21 col3\" >0.661970</td>\n",
       "                        <td id=\"T_ea3f5_row21_col4\" class=\"data row21 col4\" >0.000000</td>\n",
       "                        <td id=\"T_ea3f5_row21_col5\" class=\"data row21 col5\" >2.182703</td>\n",
       "                        <td id=\"T_ea3f5_row21_col6\" class=\"data row21 col6\" >0.000000</td>\n",
       "                        <td id=\"T_ea3f5_row21_col7\" class=\"data row21 col7\" >0</td>\n",
       "                        <td id=\"T_ea3f5_row21_col8\" class=\"data row21 col8\" >36</td>\n",
       "                        <td id=\"T_ea3f5_row21_col9\" class=\"data row21 col9\" >int64</td>\n",
       "            </tr>\n",
       "            <tr>\n",
       "                        <th id=\"T_ea3f5_level0_row22\" class=\"row_heading level0 row22\" >22</th>\n",
       "                        <td id=\"T_ea3f5_row22_col0\" class=\"data row22 col0\" >100000</td>\n",
       "                        <td id=\"T_ea3f5_row22_col1\" class=\"data row22 col1\" >0</td>\n",
       "                        <td id=\"T_ea3f5_row22_col2\" class=\"data row22 col2\" >5</td>\n",
       "                        <td id=\"T_ea3f5_row22_col3\" class=\"data row22 col3\" >0.184740</td>\n",
       "                        <td id=\"T_ea3f5_row22_col4\" class=\"data row22 col4\" >0.000000</td>\n",
       "                        <td id=\"T_ea3f5_row22_col5\" class=\"data row22 col5\" >0.553854</td>\n",
       "                        <td id=\"T_ea3f5_row22_col6\" class=\"data row22 col6\" >0.000000</td>\n",
       "                        <td id=\"T_ea3f5_row22_col7\" class=\"data row22 col7\" >0</td>\n",
       "                        <td id=\"T_ea3f5_row22_col8\" class=\"data row22 col8\" >4</td>\n",
       "                        <td id=\"T_ea3f5_row22_col9\" class=\"data row22 col9\" >int64</td>\n",
       "            </tr>\n",
       "            <tr>\n",
       "                        <th id=\"T_ea3f5_level0_row23\" class=\"row_heading level0 row23\" >23</th>\n",
       "                        <td id=\"T_ea3f5_row23_col0\" class=\"data row23 col0\" >100000</td>\n",
       "                        <td id=\"T_ea3f5_row23_col1\" class=\"data row23 col1\" >0</td>\n",
       "                        <td id=\"T_ea3f5_row23_col2\" class=\"data row23 col2\" >20</td>\n",
       "                        <td id=\"T_ea3f5_row23_col3\" class=\"data row23 col3\" >0.388040</td>\n",
       "                        <td id=\"T_ea3f5_row23_col4\" class=\"data row23 col4\" >0.000000</td>\n",
       "                        <td id=\"T_ea3f5_row23_col5\" class=\"data row23 col5\" >1.215796</td>\n",
       "                        <td id=\"T_ea3f5_row23_col6\" class=\"data row23 col6\" >0.000000</td>\n",
       "                        <td id=\"T_ea3f5_row23_col7\" class=\"data row23 col7\" >0</td>\n",
       "                        <td id=\"T_ea3f5_row23_col8\" class=\"data row23 col8\" >19</td>\n",
       "                        <td id=\"T_ea3f5_row23_col9\" class=\"data row23 col9\" >int64</td>\n",
       "            </tr>\n",
       "            <tr>\n",
       "                        <th id=\"T_ea3f5_level0_row24\" class=\"row_heading level0 row24\" >24</th>\n",
       "                        <td id=\"T_ea3f5_row24_col0\" class=\"data row24 col0\" >100000</td>\n",
       "                        <td id=\"T_ea3f5_row24_col1\" class=\"data row24 col1\" >0</td>\n",
       "                        <td id=\"T_ea3f5_row24_col2\" class=\"data row24 col2\" >35</td>\n",
       "                        <td id=\"T_ea3f5_row24_col3\" class=\"data row24 col3\" >1.040130</td>\n",
       "                        <td id=\"T_ea3f5_row24_col4\" class=\"data row24 col4\" >0.000000</td>\n",
       "                        <td id=\"T_ea3f5_row24_col5\" class=\"data row24 col5\" >2.539910</td>\n",
       "                        <td id=\"T_ea3f5_row24_col6\" class=\"data row24 col6\" >1.000000</td>\n",
       "                        <td id=\"T_ea3f5_row24_col7\" class=\"data row24 col7\" >0</td>\n",
       "                        <td id=\"T_ea3f5_row24_col8\" class=\"data row24 col8\" >34</td>\n",
       "                        <td id=\"T_ea3f5_row24_col9\" class=\"data row24 col9\" >int64</td>\n",
       "            </tr>\n",
       "            <tr>\n",
       "                        <th id=\"T_ea3f5_level0_row25\" class=\"row_heading level0 row25\" >25</th>\n",
       "                        <td id=\"T_ea3f5_row25_col0\" class=\"data row25 col0\" >100000</td>\n",
       "                        <td id=\"T_ea3f5_row25_col1\" class=\"data row25 col1\" >0</td>\n",
       "                        <td id=\"T_ea3f5_row25_col2\" class=\"data row25 col2\" >23</td>\n",
       "                        <td id=\"T_ea3f5_row25_col3\" class=\"data row25 col3\" >0.408630</td>\n",
       "                        <td id=\"T_ea3f5_row25_col4\" class=\"data row25 col4\" >0.000000</td>\n",
       "                        <td id=\"T_ea3f5_row25_col5\" class=\"data row25 col5\" >1.321669</td>\n",
       "                        <td id=\"T_ea3f5_row25_col6\" class=\"data row25 col6\" >0.000000</td>\n",
       "                        <td id=\"T_ea3f5_row25_col7\" class=\"data row25 col7\" >0</td>\n",
       "                        <td id=\"T_ea3f5_row25_col8\" class=\"data row25 col8\" >23</td>\n",
       "                        <td id=\"T_ea3f5_row25_col9\" class=\"data row25 col9\" >int64</td>\n",
       "            </tr>\n",
       "            <tr>\n",
       "                        <th id=\"T_ea3f5_level0_row26\" class=\"row_heading level0 row26\" >26</th>\n",
       "                        <td id=\"T_ea3f5_row26_col0\" class=\"data row26 col0\" >100000</td>\n",
       "                        <td id=\"T_ea3f5_row26_col1\" class=\"data row26 col1\" >0</td>\n",
       "                        <td id=\"T_ea3f5_row26_col2\" class=\"data row26 col2\" >22</td>\n",
       "                        <td id=\"T_ea3f5_row26_col3\" class=\"data row26 col3\" >0.353550</td>\n",
       "                        <td id=\"T_ea3f5_row26_col4\" class=\"data row26 col4\" >0.000000</td>\n",
       "                        <td id=\"T_ea3f5_row26_col5\" class=\"data row26 col5\" >1.491937</td>\n",
       "                        <td id=\"T_ea3f5_row26_col6\" class=\"data row26 col6\" >0.000000</td>\n",
       "                        <td id=\"T_ea3f5_row26_col7\" class=\"data row26 col7\" >0</td>\n",
       "                        <td id=\"T_ea3f5_row26_col8\" class=\"data row26 col8\" >21</td>\n",
       "                        <td id=\"T_ea3f5_row26_col9\" class=\"data row26 col9\" >int64</td>\n",
       "            </tr>\n",
       "            <tr>\n",
       "                        <th id=\"T_ea3f5_level0_row27\" class=\"row_heading level0 row27\" >27</th>\n",
       "                        <td id=\"T_ea3f5_row27_col0\" class=\"data row27 col0\" >100000</td>\n",
       "                        <td id=\"T_ea3f5_row27_col1\" class=\"data row27 col1\" >0</td>\n",
       "                        <td id=\"T_ea3f5_row27_col2\" class=\"data row27 col2\" >32</td>\n",
       "                        <td id=\"T_ea3f5_row27_col3\" class=\"data row27 col3\" >0.300680</td>\n",
       "                        <td id=\"T_ea3f5_row27_col4\" class=\"data row27 col4\" >0.000000</td>\n",
       "                        <td id=\"T_ea3f5_row27_col5\" class=\"data row27 col5\" >1.592092</td>\n",
       "                        <td id=\"T_ea3f5_row27_col6\" class=\"data row27 col6\" >0.000000</td>\n",
       "                        <td id=\"T_ea3f5_row27_col7\" class=\"data row27 col7\" >0</td>\n",
       "                        <td id=\"T_ea3f5_row27_col8\" class=\"data row27 col8\" >31</td>\n",
       "                        <td id=\"T_ea3f5_row27_col9\" class=\"data row27 col9\" >int64</td>\n",
       "            </tr>\n",
       "            <tr>\n",
       "                        <th id=\"T_ea3f5_level0_row28\" class=\"row_heading level0 row28\" >28</th>\n",
       "                        <td id=\"T_ea3f5_row28_col0\" class=\"data row28 col0\" >100000</td>\n",
       "                        <td id=\"T_ea3f5_row28_col1\" class=\"data row28 col1\" >0</td>\n",
       "                        <td id=\"T_ea3f5_row28_col2\" class=\"data row28 col2\" >24</td>\n",
       "                        <td id=\"T_ea3f5_row28_col3\" class=\"data row28 col3\" >1.106060</td>\n",
       "                        <td id=\"T_ea3f5_row28_col4\" class=\"data row28 col4\" >0.000000</td>\n",
       "                        <td id=\"T_ea3f5_row28_col5\" class=\"data row28 col5\" >1.879629</td>\n",
       "                        <td id=\"T_ea3f5_row28_col6\" class=\"data row28 col6\" >2.000000</td>\n",
       "                        <td id=\"T_ea3f5_row28_col7\" class=\"data row28 col7\" >0</td>\n",
       "                        <td id=\"T_ea3f5_row28_col8\" class=\"data row28 col8\" >23</td>\n",
       "                        <td id=\"T_ea3f5_row28_col9\" class=\"data row28 col9\" >int64</td>\n",
       "            </tr>\n",
       "            <tr>\n",
       "                        <th id=\"T_ea3f5_level0_row29\" class=\"row_heading level0 row29\" >29</th>\n",
       "                        <td id=\"T_ea3f5_row29_col0\" class=\"data row29 col0\" >100000</td>\n",
       "                        <td id=\"T_ea3f5_row29_col1\" class=\"data row29 col1\" >0</td>\n",
       "                        <td id=\"T_ea3f5_row29_col2\" class=\"data row29 col2\" >14</td>\n",
       "                        <td id=\"T_ea3f5_row29_col3\" class=\"data row29 col3\" >0.169600</td>\n",
       "                        <td id=\"T_ea3f5_row29_col4\" class=\"data row29 col4\" >0.000000</td>\n",
       "                        <td id=\"T_ea3f5_row29_col5\" class=\"data row29 col5\" >0.739582</td>\n",
       "                        <td id=\"T_ea3f5_row29_col6\" class=\"data row29 col6\" >0.000000</td>\n",
       "                        <td id=\"T_ea3f5_row29_col7\" class=\"data row29 col7\" >0</td>\n",
       "                        <td id=\"T_ea3f5_row29_col8\" class=\"data row29 col8\" >13</td>\n",
       "                        <td id=\"T_ea3f5_row29_col9\" class=\"data row29 col9\" >int64</td>\n",
       "            </tr>\n",
       "            <tr>\n",
       "                        <th id=\"T_ea3f5_level0_row30\" class=\"row_heading level0 row30\" >30</th>\n",
       "                        <td id=\"T_ea3f5_row30_col0\" class=\"data row30 col0\" >100000</td>\n",
       "                        <td id=\"T_ea3f5_row30_col1\" class=\"data row30 col1\" >0</td>\n",
       "                        <td id=\"T_ea3f5_row30_col2\" class=\"data row30 col2\" >43</td>\n",
       "                        <td id=\"T_ea3f5_row30_col3\" class=\"data row30 col3\" >0.294500</td>\n",
       "                        <td id=\"T_ea3f5_row30_col4\" class=\"data row30 col4\" >0.000000</td>\n",
       "                        <td id=\"T_ea3f5_row30_col5\" class=\"data row30 col5\" >1.352963</td>\n",
       "                        <td id=\"T_ea3f5_row30_col6\" class=\"data row30 col6\" >0.000000</td>\n",
       "                        <td id=\"T_ea3f5_row30_col7\" class=\"data row30 col7\" >-1</td>\n",
       "                        <td id=\"T_ea3f5_row30_col8\" class=\"data row30 col8\" >41</td>\n",
       "                        <td id=\"T_ea3f5_row30_col9\" class=\"data row30 col9\" >int64</td>\n",
       "            </tr>\n",
       "            <tr>\n",
       "                        <th id=\"T_ea3f5_level0_row31\" class=\"row_heading level0 row31\" >31</th>\n",
       "                        <td id=\"T_ea3f5_row31_col0\" class=\"data row31 col0\" >100000</td>\n",
       "                        <td id=\"T_ea3f5_row31_col1\" class=\"data row31 col1\" >0</td>\n",
       "                        <td id=\"T_ea3f5_row31_col2\" class=\"data row31 col2\" >46</td>\n",
       "                        <td id=\"T_ea3f5_row31_col3\" class=\"data row31 col3\" >1.372040</td>\n",
       "                        <td id=\"T_ea3f5_row31_col4\" class=\"data row31 col4\" >0.000000</td>\n",
       "                        <td id=\"T_ea3f5_row31_col5\" class=\"data row31 col5\" >3.319325</td>\n",
       "                        <td id=\"T_ea3f5_row31_col6\" class=\"data row31 col6\" >1.000000</td>\n",
       "                        <td id=\"T_ea3f5_row31_col7\" class=\"data row31 col7\" >-1</td>\n",
       "                        <td id=\"T_ea3f5_row31_col8\" class=\"data row31 col8\" >46</td>\n",
       "                        <td id=\"T_ea3f5_row31_col9\" class=\"data row31 col9\" >int64</td>\n",
       "            </tr>\n",
       "            <tr>\n",
       "                        <th id=\"T_ea3f5_level0_row32\" class=\"row_heading level0 row32\" >32</th>\n",
       "                        <td id=\"T_ea3f5_row32_col0\" class=\"data row32 col0\" >100000</td>\n",
       "                        <td id=\"T_ea3f5_row32_col1\" class=\"data row32 col1\" >0</td>\n",
       "                        <td id=\"T_ea3f5_row32_col2\" class=\"data row32 col2\" >30</td>\n",
       "                        <td id=\"T_ea3f5_row32_col3\" class=\"data row32 col3\" >0.277510</td>\n",
       "                        <td id=\"T_ea3f5_row32_col4\" class=\"data row32 col4\" >0.000000</td>\n",
       "                        <td id=\"T_ea3f5_row32_col5\" class=\"data row32 col5\" >1.460705</td>\n",
       "                        <td id=\"T_ea3f5_row32_col6\" class=\"data row32 col6\" >0.000000</td>\n",
       "                        <td id=\"T_ea3f5_row32_col7\" class=\"data row32 col7\" >-2</td>\n",
       "                        <td id=\"T_ea3f5_row32_col8\" class=\"data row32 col8\" >27</td>\n",
       "                        <td id=\"T_ea3f5_row32_col9\" class=\"data row32 col9\" >int64</td>\n",
       "            </tr>\n",
       "            <tr>\n",
       "                        <th id=\"T_ea3f5_level0_row33\" class=\"row_heading level0 row33\" >33</th>\n",
       "                        <td id=\"T_ea3f5_row33_col0\" class=\"data row33 col0\" >100000</td>\n",
       "                        <td id=\"T_ea3f5_row33_col1\" class=\"data row33 col1\" >0</td>\n",
       "                        <td id=\"T_ea3f5_row33_col2\" class=\"data row33 col2\" >25</td>\n",
       "                        <td id=\"T_ea3f5_row33_col3\" class=\"data row33 col3\" >0.612460</td>\n",
       "                        <td id=\"T_ea3f5_row33_col4\" class=\"data row33 col4\" >0.000000</td>\n",
       "                        <td id=\"T_ea3f5_row33_col5\" class=\"data row33 col5\" >2.283595</td>\n",
       "                        <td id=\"T_ea3f5_row33_col6\" class=\"data row33 col6\" >0.000000</td>\n",
       "                        <td id=\"T_ea3f5_row33_col7\" class=\"data row33 col7\" >0</td>\n",
       "                        <td id=\"T_ea3f5_row33_col8\" class=\"data row33 col8\" >24</td>\n",
       "                        <td id=\"T_ea3f5_row33_col9\" class=\"data row33 col9\" >int64</td>\n",
       "            </tr>\n",
       "            <tr>\n",
       "                        <th id=\"T_ea3f5_level0_row34\" class=\"row_heading level0 row34\" >34</th>\n",
       "                        <td id=\"T_ea3f5_row34_col0\" class=\"data row34 col0\" >100000</td>\n",
       "                        <td id=\"T_ea3f5_row34_col1\" class=\"data row34 col1\" >0</td>\n",
       "                        <td id=\"T_ea3f5_row34_col2\" class=\"data row34 col2\" >26</td>\n",
       "                        <td id=\"T_ea3f5_row34_col3\" class=\"data row34 col3\" >1.122150</td>\n",
       "                        <td id=\"T_ea3f5_row34_col4\" class=\"data row34 col4\" >0.000000</td>\n",
       "                        <td id=\"T_ea3f5_row34_col5\" class=\"data row34 col5\" >2.493045</td>\n",
       "                        <td id=\"T_ea3f5_row34_col6\" class=\"data row34 col6\" >1.000000</td>\n",
       "                        <td id=\"T_ea3f5_row34_col7\" class=\"data row34 col7\" >0</td>\n",
       "                        <td id=\"T_ea3f5_row34_col8\" class=\"data row34 col8\" >25</td>\n",
       "                        <td id=\"T_ea3f5_row34_col9\" class=\"data row34 col9\" >int64</td>\n",
       "            </tr>\n",
       "            <tr>\n",
       "                        <th id=\"T_ea3f5_level0_row35\" class=\"row_heading level0 row35\" >35</th>\n",
       "                        <td id=\"T_ea3f5_row35_col0\" class=\"data row35 col0\" >100000</td>\n",
       "                        <td id=\"T_ea3f5_row35_col1\" class=\"data row35 col1\" >0</td>\n",
       "                        <td id=\"T_ea3f5_row35_col2\" class=\"data row35 col2\" >44</td>\n",
       "                        <td id=\"T_ea3f5_row35_col3\" class=\"data row35 col3\" >0.908980</td>\n",
       "                        <td id=\"T_ea3f5_row35_col4\" class=\"data row35 col4\" >0.000000</td>\n",
       "                        <td id=\"T_ea3f5_row35_col5\" class=\"data row35 col5\" >2.952305</td>\n",
       "                        <td id=\"T_ea3f5_row35_col6\" class=\"data row35 col6\" >0.000000</td>\n",
       "                        <td id=\"T_ea3f5_row35_col7\" class=\"data row35 col7\" >-2</td>\n",
       "                        <td id=\"T_ea3f5_row35_col8\" class=\"data row35 col8\" >43</td>\n",
       "                        <td id=\"T_ea3f5_row35_col9\" class=\"data row35 col9\" >int64</td>\n",
       "            </tr>\n",
       "            <tr>\n",
       "                        <th id=\"T_ea3f5_level0_row36\" class=\"row_heading level0 row36\" >36</th>\n",
       "                        <td id=\"T_ea3f5_row36_col0\" class=\"data row36 col0\" >100000</td>\n",
       "                        <td id=\"T_ea3f5_row36_col1\" class=\"data row36 col1\" >0</td>\n",
       "                        <td id=\"T_ea3f5_row36_col2\" class=\"data row36 col2\" >4</td>\n",
       "                        <td id=\"T_ea3f5_row36_col3\" class=\"data row36 col3\" >0.116530</td>\n",
       "                        <td id=\"T_ea3f5_row36_col4\" class=\"data row36 col4\" >0.000000</td>\n",
       "                        <td id=\"T_ea3f5_row36_col5\" class=\"data row36 col5\" >0.411014</td>\n",
       "                        <td id=\"T_ea3f5_row36_col6\" class=\"data row36 col6\" >0.000000</td>\n",
       "                        <td id=\"T_ea3f5_row36_col7\" class=\"data row36 col7\" >0</td>\n",
       "                        <td id=\"T_ea3f5_row36_col8\" class=\"data row36 col8\" >3</td>\n",
       "                        <td id=\"T_ea3f5_row36_col9\" class=\"data row36 col9\" >int64</td>\n",
       "            </tr>\n",
       "            <tr>\n",
       "                        <th id=\"T_ea3f5_level0_row37\" class=\"row_heading level0 row37\" >37</th>\n",
       "                        <td id=\"T_ea3f5_row37_col0\" class=\"data row37 col0\" >100000</td>\n",
       "                        <td id=\"T_ea3f5_row37_col1\" class=\"data row37 col1\" >0</td>\n",
       "                        <td id=\"T_ea3f5_row37_col2\" class=\"data row37 col2\" >15</td>\n",
       "                        <td id=\"T_ea3f5_row37_col3\" class=\"data row37 col3\" >0.398310</td>\n",
       "                        <td id=\"T_ea3f5_row37_col4\" class=\"data row37 col4\" >0.000000</td>\n",
       "                        <td id=\"T_ea3f5_row37_col5\" class=\"data row37 col5\" >1.095268</td>\n",
       "                        <td id=\"T_ea3f5_row37_col6\" class=\"data row37 col6\" >0.000000</td>\n",
       "                        <td id=\"T_ea3f5_row37_col7\" class=\"data row37 col7\" >0</td>\n",
       "                        <td id=\"T_ea3f5_row37_col8\" class=\"data row37 col8\" >14</td>\n",
       "                        <td id=\"T_ea3f5_row37_col9\" class=\"data row37 col9\" >int64</td>\n",
       "            </tr>\n",
       "            <tr>\n",
       "                        <th id=\"T_ea3f5_level0_row38\" class=\"row_heading level0 row38\" >38</th>\n",
       "                        <td id=\"T_ea3f5_row38_col0\" class=\"data row38 col0\" >100000</td>\n",
       "                        <td id=\"T_ea3f5_row38_col1\" class=\"data row38 col1\" >0</td>\n",
       "                        <td id=\"T_ea3f5_row38_col2\" class=\"data row38 col2\" >71</td>\n",
       "                        <td id=\"T_ea3f5_row38_col3\" class=\"data row38 col3\" >2.997170</td>\n",
       "                        <td id=\"T_ea3f5_row38_col4\" class=\"data row38 col4\" >1.000000</td>\n",
       "                        <td id=\"T_ea3f5_row38_col5\" class=\"data row38 col5\" >5.386551</td>\n",
       "                        <td id=\"T_ea3f5_row38_col6\" class=\"data row38 col6\" >4.000000</td>\n",
       "                        <td id=\"T_ea3f5_row38_col7\" class=\"data row38 col7\" >-8</td>\n",
       "                        <td id=\"T_ea3f5_row38_col8\" class=\"data row38 col8\" >66</td>\n",
       "                        <td id=\"T_ea3f5_row38_col9\" class=\"data row38 col9\" >int64</td>\n",
       "            </tr>\n",
       "            <tr>\n",
       "                        <th id=\"T_ea3f5_level0_row39\" class=\"row_heading level0 row39\" >39</th>\n",
       "                        <td id=\"T_ea3f5_row39_col0\" class=\"data row39 col0\" >100000</td>\n",
       "                        <td id=\"T_ea3f5_row39_col1\" class=\"data row39 col1\" >0</td>\n",
       "                        <td id=\"T_ea3f5_row39_col2\" class=\"data row39 col2\" >70</td>\n",
       "                        <td id=\"T_ea3f5_row39_col3\" class=\"data row39 col3\" >0.674640</td>\n",
       "                        <td id=\"T_ea3f5_row39_col4\" class=\"data row39 col4\" >0.000000</td>\n",
       "                        <td id=\"T_ea3f5_row39_col5\" class=\"data row39 col5\" >3.732428</td>\n",
       "                        <td id=\"T_ea3f5_row39_col6\" class=\"data row39 col6\" >0.000000</td>\n",
       "                        <td id=\"T_ea3f5_row39_col7\" class=\"data row39 col7\" >-5</td>\n",
       "                        <td id=\"T_ea3f5_row39_col8\" class=\"data row39 col8\" >66</td>\n",
       "                        <td id=\"T_ea3f5_row39_col9\" class=\"data row39 col9\" >int64</td>\n",
       "            </tr>\n",
       "            <tr>\n",
       "                        <th id=\"T_ea3f5_level0_row40\" class=\"row_heading level0 row40\" >40</th>\n",
       "                        <td id=\"T_ea3f5_row40_col0\" class=\"data row40 col0\" >100000</td>\n",
       "                        <td id=\"T_ea3f5_row40_col1\" class=\"data row40 col1\" >0</td>\n",
       "                        <td id=\"T_ea3f5_row40_col2\" class=\"data row40 col2\" >22</td>\n",
       "                        <td id=\"T_ea3f5_row40_col3\" class=\"data row40 col3\" >0.712270</td>\n",
       "                        <td id=\"T_ea3f5_row40_col4\" class=\"data row40 col4\" >0.000000</td>\n",
       "                        <td id=\"T_ea3f5_row40_col5\" class=\"data row40 col5\" >1.721863</td>\n",
       "                        <td id=\"T_ea3f5_row40_col6\" class=\"data row40 col6\" >1.000000</td>\n",
       "                        <td id=\"T_ea3f5_row40_col7\" class=\"data row40 col7\" >0</td>\n",
       "                        <td id=\"T_ea3f5_row40_col8\" class=\"data row40 col8\" >21</td>\n",
       "                        <td id=\"T_ea3f5_row40_col9\" class=\"data row40 col9\" >int64</td>\n",
       "            </tr>\n",
       "            <tr>\n",
       "                        <th id=\"T_ea3f5_level0_row41\" class=\"row_heading level0 row41\" >41</th>\n",
       "                        <td id=\"T_ea3f5_row41_col0\" class=\"data row41 col0\" >100000</td>\n",
       "                        <td id=\"T_ea3f5_row41_col1\" class=\"data row41 col1\" >0</td>\n",
       "                        <td id=\"T_ea3f5_row41_col2\" class=\"data row41 col2\" >31</td>\n",
       "                        <td id=\"T_ea3f5_row41_col3\" class=\"data row41 col3\" >0.582070</td>\n",
       "                        <td id=\"T_ea3f5_row41_col4\" class=\"data row41 col4\" >0.000000</td>\n",
       "                        <td id=\"T_ea3f5_row41_col5\" class=\"data row41 col5\" >2.003114</td>\n",
       "                        <td id=\"T_ea3f5_row41_col6\" class=\"data row41 col6\" >0.000000</td>\n",
       "                        <td id=\"T_ea3f5_row41_col7\" class=\"data row41 col7\" >0</td>\n",
       "                        <td id=\"T_ea3f5_row41_col8\" class=\"data row41 col8\" >32</td>\n",
       "                        <td id=\"T_ea3f5_row41_col9\" class=\"data row41 col9\" >int64</td>\n",
       "            </tr>\n",
       "            <tr>\n",
       "                        <th id=\"T_ea3f5_level0_row42\" class=\"row_heading level0 row42\" >42</th>\n",
       "                        <td id=\"T_ea3f5_row42_col0\" class=\"data row42 col0\" >100000</td>\n",
       "                        <td id=\"T_ea3f5_row42_col1\" class=\"data row42 col1\" >0</td>\n",
       "                        <td id=\"T_ea3f5_row42_col2\" class=\"data row42 col2\" >40</td>\n",
       "                        <td id=\"T_ea3f5_row42_col3\" class=\"data row42 col3\" >0.529230</td>\n",
       "                        <td id=\"T_ea3f5_row42_col4\" class=\"data row42 col4\" >0.000000</td>\n",
       "                        <td id=\"T_ea3f5_row42_col5\" class=\"data row42 col5\" >2.300826</td>\n",
       "                        <td id=\"T_ea3f5_row42_col6\" class=\"data row42 col6\" >0.000000</td>\n",
       "                        <td id=\"T_ea3f5_row42_col7\" class=\"data row42 col7\" >-2</td>\n",
       "                        <td id=\"T_ea3f5_row42_col8\" class=\"data row42 col8\" >37</td>\n",
       "                        <td id=\"T_ea3f5_row42_col9\" class=\"data row42 col9\" >int64</td>\n",
       "            </tr>\n",
       "            <tr>\n",
       "                        <th id=\"T_ea3f5_level0_row43\" class=\"row_heading level0 row43\" >43</th>\n",
       "                        <td id=\"T_ea3f5_row43_col0\" class=\"data row43 col0\" >100000</td>\n",
       "                        <td id=\"T_ea3f5_row43_col1\" class=\"data row43 col1\" >0</td>\n",
       "                        <td id=\"T_ea3f5_row43_col2\" class=\"data row43 col2\" >33</td>\n",
       "                        <td id=\"T_ea3f5_row43_col3\" class=\"data row43 col3\" >0.616310</td>\n",
       "                        <td id=\"T_ea3f5_row43_col4\" class=\"data row43 col4\" >0.000000</td>\n",
       "                        <td id=\"T_ea3f5_row43_col5\" class=\"data row43 col5\" >2.360955</td>\n",
       "                        <td id=\"T_ea3f5_row43_col6\" class=\"data row43 col6\" >0.000000</td>\n",
       "                        <td id=\"T_ea3f5_row43_col7\" class=\"data row43 col7\" >0</td>\n",
       "                        <td id=\"T_ea3f5_row43_col8\" class=\"data row43 col8\" >33</td>\n",
       "                        <td id=\"T_ea3f5_row43_col9\" class=\"data row43 col9\" >int64</td>\n",
       "            </tr>\n",
       "            <tr>\n",
       "                        <th id=\"T_ea3f5_level0_row44\" class=\"row_heading level0 row44\" >44</th>\n",
       "                        <td id=\"T_ea3f5_row44_col0\" class=\"data row44 col0\" >100000</td>\n",
       "                        <td id=\"T_ea3f5_row44_col1\" class=\"data row44 col1\" >0</td>\n",
       "                        <td id=\"T_ea3f5_row44_col2\" class=\"data row44 col2\" >10</td>\n",
       "                        <td id=\"T_ea3f5_row44_col3\" class=\"data row44 col3\" >0.135100</td>\n",
       "                        <td id=\"T_ea3f5_row44_col4\" class=\"data row44 col4\" >0.000000</td>\n",
       "                        <td id=\"T_ea3f5_row44_col5\" class=\"data row44 col5\" >0.627592</td>\n",
       "                        <td id=\"T_ea3f5_row44_col6\" class=\"data row44 col6\" >0.000000</td>\n",
       "                        <td id=\"T_ea3f5_row44_col7\" class=\"data row44 col7\" >0</td>\n",
       "                        <td id=\"T_ea3f5_row44_col8\" class=\"data row44 col8\" >9</td>\n",
       "                        <td id=\"T_ea3f5_row44_col9\" class=\"data row44 col9\" >int64</td>\n",
       "            </tr>\n",
       "            <tr>\n",
       "                        <th id=\"T_ea3f5_level0_row45\" class=\"row_heading level0 row45\" >45</th>\n",
       "                        <td id=\"T_ea3f5_row45_col0\" class=\"data row45 col0\" >100000</td>\n",
       "                        <td id=\"T_ea3f5_row45_col1\" class=\"data row45 col1\" >0</td>\n",
       "                        <td id=\"T_ea3f5_row45_col2\" class=\"data row45 col2\" >27</td>\n",
       "                        <td id=\"T_ea3f5_row45_col3\" class=\"data row45 col3\" >0.358660</td>\n",
       "                        <td id=\"T_ea3f5_row45_col4\" class=\"data row45 col4\" >0.000000</td>\n",
       "                        <td id=\"T_ea3f5_row45_col5\" class=\"data row45 col5\" >1.464187</td>\n",
       "                        <td id=\"T_ea3f5_row45_col6\" class=\"data row45 col6\" >0.000000</td>\n",
       "                        <td id=\"T_ea3f5_row45_col7\" class=\"data row45 col7\" >0</td>\n",
       "                        <td id=\"T_ea3f5_row45_col8\" class=\"data row45 col8\" >26</td>\n",
       "                        <td id=\"T_ea3f5_row45_col9\" class=\"data row45 col9\" >int64</td>\n",
       "            </tr>\n",
       "            <tr>\n",
       "                        <th id=\"T_ea3f5_level0_row46\" class=\"row_heading level0 row46\" >46</th>\n",
       "                        <td id=\"T_ea3f5_row46_col0\" class=\"data row46 col0\" >100000</td>\n",
       "                        <td id=\"T_ea3f5_row46_col1\" class=\"data row46 col1\" >0</td>\n",
       "                        <td id=\"T_ea3f5_row46_col2\" class=\"data row46 col2\" >30</td>\n",
       "                        <td id=\"T_ea3f5_row46_col3\" class=\"data row46 col3\" >0.516810</td>\n",
       "                        <td id=\"T_ea3f5_row46_col4\" class=\"data row46 col4\" >0.000000</td>\n",
       "                        <td id=\"T_ea3f5_row46_col5\" class=\"data row46 col5\" >2.171415</td>\n",
       "                        <td id=\"T_ea3f5_row46_col6\" class=\"data row46 col6\" >0.000000</td>\n",
       "                        <td id=\"T_ea3f5_row46_col7\" class=\"data row46 col7\" >0</td>\n",
       "                        <td id=\"T_ea3f5_row46_col8\" class=\"data row46 col8\" >29</td>\n",
       "                        <td id=\"T_ea3f5_row46_col9\" class=\"data row46 col9\" >int64</td>\n",
       "            </tr>\n",
       "            <tr>\n",
       "                        <th id=\"T_ea3f5_level0_row47\" class=\"row_heading level0 row47\" >47</th>\n",
       "                        <td id=\"T_ea3f5_row47_col0\" class=\"data row47 col0\" >100000</td>\n",
       "                        <td id=\"T_ea3f5_row47_col1\" class=\"data row47 col1\" >0</td>\n",
       "                        <td id=\"T_ea3f5_row47_col2\" class=\"data row47 col2\" >26</td>\n",
       "                        <td id=\"T_ea3f5_row47_col3\" class=\"data row47 col3\" >0.390040</td>\n",
       "                        <td id=\"T_ea3f5_row47_col4\" class=\"data row47 col4\" >0.000000</td>\n",
       "                        <td id=\"T_ea3f5_row47_col5\" class=\"data row47 col5\" >1.487350</td>\n",
       "                        <td id=\"T_ea3f5_row47_col6\" class=\"data row47 col6\" >0.000000</td>\n",
       "                        <td id=\"T_ea3f5_row47_col7\" class=\"data row47 col7\" >0</td>\n",
       "                        <td id=\"T_ea3f5_row47_col8\" class=\"data row47 col8\" >25</td>\n",
       "                        <td id=\"T_ea3f5_row47_col9\" class=\"data row47 col9\" >int64</td>\n",
       "            </tr>\n",
       "            <tr>\n",
       "                        <th id=\"T_ea3f5_level0_row48\" class=\"row_heading level0 row48\" >48</th>\n",
       "                        <td id=\"T_ea3f5_row48_col0\" class=\"data row48 col0\" >100000</td>\n",
       "                        <td id=\"T_ea3f5_row48_col1\" class=\"data row48 col1\" >0</td>\n",
       "                        <td id=\"T_ea3f5_row48_col2\" class=\"data row48 col2\" >45</td>\n",
       "                        <td id=\"T_ea3f5_row48_col3\" class=\"data row48 col3\" >0.970850</td>\n",
       "                        <td id=\"T_ea3f5_row48_col4\" class=\"data row48 col4\" >0.000000</td>\n",
       "                        <td id=\"T_ea3f5_row48_col5\" class=\"data row48 col5\" >2.576615</td>\n",
       "                        <td id=\"T_ea3f5_row48_col6\" class=\"data row48 col6\" >1.000000</td>\n",
       "                        <td id=\"T_ea3f5_row48_col7\" class=\"data row48 col7\" >0</td>\n",
       "                        <td id=\"T_ea3f5_row48_col8\" class=\"data row48 col8\" >44</td>\n",
       "                        <td id=\"T_ea3f5_row48_col9\" class=\"data row48 col9\" >int64</td>\n",
       "            </tr>\n",
       "            <tr>\n",
       "                        <th id=\"T_ea3f5_level0_row49\" class=\"row_heading level0 row49\" >49</th>\n",
       "                        <td id=\"T_ea3f5_row49_col0\" class=\"data row49 col0\" >100000</td>\n",
       "                        <td id=\"T_ea3f5_row49_col1\" class=\"data row49 col1\" >0</td>\n",
       "                        <td id=\"T_ea3f5_row49_col2\" class=\"data row49 col2\" >21</td>\n",
       "                        <td id=\"T_ea3f5_row49_col3\" class=\"data row49 col3\" >0.557120</td>\n",
       "                        <td id=\"T_ea3f5_row49_col4\" class=\"data row49 col4\" >0.000000</td>\n",
       "                        <td id=\"T_ea3f5_row49_col5\" class=\"data row49 col5\" >1.680930</td>\n",
       "                        <td id=\"T_ea3f5_row49_col6\" class=\"data row49 col6\" >0.000000</td>\n",
       "                        <td id=\"T_ea3f5_row49_col7\" class=\"data row49 col7\" >0</td>\n",
       "                        <td id=\"T_ea3f5_row49_col8\" class=\"data row49 col8\" >20</td>\n",
       "                        <td id=\"T_ea3f5_row49_col9\" class=\"data row49 col9\" >int64</td>\n",
       "            </tr>\n",
       "    </tbody></table>"
      ],
      "text/plain": [
       "<pandas.io.formats.style.Styler at 0x249cd18cf10>"
      ]
     },
     "metadata": {},
     "output_type": "display_data"
    },
    {
     "ename": "AttributeError",
     "evalue": "'NoneType' object has no attribute 'bar'",
     "output_type": "error",
     "traceback": [
      "\u001b[1;31m---------------------------------------------------------------------------\u001b[0m",
      "\u001b[1;31mAttributeError\u001b[0m                            Traceback (most recent call last)",
      "\u001b[1;32m<ipython-input-78-7dfaede708e4>\u001b[0m in \u001b[0;36m<module>\u001b[1;34m\u001b[0m\n\u001b[1;32m----> 1\u001b[1;33m \u001b[0mfeature_explorer\u001b[0m\u001b[1;33m(\u001b[0m\u001b[0mdf\u001b[0m\u001b[1;33m.\u001b[0m\u001b[0miloc\u001b[0m\u001b[1;33m[\u001b[0m\u001b[1;33m:\u001b[0m\u001b[1;33m,\u001b[0m\u001b[1;33m:\u001b[0m\u001b[1;33m-\u001b[0m\u001b[1;36m1\u001b[0m\u001b[1;33m]\u001b[0m\u001b[1;33m)\u001b[0m\u001b[1;33m\u001b[0m\u001b[1;33m\u001b[0m\u001b[0m\n\u001b[0m",
      "\u001b[1;32m<ipython-input-77-eab1d64bfaea>\u001b[0m in \u001b[0;36mfeature_explorer\u001b[1;34m(dataframe)\u001b[0m\n\u001b[0;32m     23\u001b[0m                              \"dtype\":dtype_list})\n\u001b[0;32m     24\u001b[0m \u001b[1;33m\u001b[0m\u001b[0m\n\u001b[1;32m---> 25\u001b[1;33m     display(info_df.style.bar(subset=['nunique'], \n\u001b[0m\u001b[0;32m     26\u001b[0m                               \u001b[0mcolor\u001b[0m\u001b[1;33m=\u001b[0m\u001b[0mpx\u001b[0m\u001b[1;33m.\u001b[0m\u001b[0mcolors\u001b[0m\u001b[1;33m.\u001b[0m\u001b[0mqualitative\u001b[0m\u001b[1;33m.\u001b[0m\u001b[0mPastel2\u001b[0m\u001b[1;33m[\u001b[0m\u001b[1;36m0\u001b[0m\u001b[1;33m]\u001b[0m\u001b[1;33m)\u001b[0m\u001b[1;33m.\u001b[0m\u001b[0mbar\u001b[0m\u001b[1;33m(\u001b[0m\u001b[0msubset\u001b[0m\u001b[1;33m=\u001b[0m\u001b[1;33m[\u001b[0m\u001b[1;34m'mean'\u001b[0m\u001b[1;33m]\u001b[0m\u001b[1;33m,\u001b[0m\u001b[1;33m\u001b[0m\u001b[1;33m\u001b[0m\u001b[0m\n\u001b[0;32m     27\u001b[0m                                                                           \u001b[0mcolor\u001b[0m\u001b[1;33m=\u001b[0m\u001b[0mpx\u001b[0m\u001b[1;33m.\u001b[0m\u001b[0mcolors\u001b[0m\u001b[1;33m.\u001b[0m\u001b[0mqualitative\u001b[0m\u001b[1;33m.\u001b[0m\u001b[0mSafe\u001b[0m\u001b[1;33m[\u001b[0m\u001b[1;36m0\u001b[0m\u001b[1;33m]\u001b[0m\u001b[1;33m)\u001b[0m\u001b[1;33m.\u001b[0m\u001b[0mbackground_gradient\u001b[0m\u001b[1;33m(\u001b[0m\u001b[0msubset\u001b[0m\u001b[1;33m=\u001b[0m\u001b[1;33m[\u001b[0m\u001b[1;34m\"std\"\u001b[0m\u001b[1;33m]\u001b[0m\u001b[1;33m,\u001b[0m\u001b[1;33m\u001b[0m\u001b[1;33m\u001b[0m\u001b[0m\n",
      "\u001b[1;31mAttributeError\u001b[0m: 'NoneType' object has no attribute 'bar'"
     ]
    }
   ],
   "source": [
    "feature_explorer(df.iloc[:,:-1])"
   ]
  },
  {
   "cell_type": "markdown",
   "metadata": {},
   "source": [
    "- all features are integers \n",
    "- there are no NAs"
   ]
  },
  {
   "cell_type": "code",
   "execution_count": 61,
   "metadata": {
    "scrolled": true
   },
   "outputs": [
    {
     "data": {
      "application/javascript": [
       "\n",
       "        if (window._pyforest_update_imports_cell) { window._pyforest_update_imports_cell('import seaborn as sns\\nimport plotly.express as px'); }\n",
       "    "
      ],
      "text/plain": [
       "<IPython.core.display.Javascript object>"
      ]
     },
     "metadata": {},
     "output_type": "display_data"
    },
    {
     "data": {
      "application/javascript": [
       "\n",
       "        if (window._pyforest_update_imports_cell) { window._pyforest_update_imports_cell('import seaborn as sns\\nimport plotly.express as px'); }\n",
       "    "
      ],
      "text/plain": [
       "<IPython.core.display.Javascript object>"
      ]
     },
     "metadata": {},
     "output_type": "display_data"
    },
    {
     "data": {
      "application/javascript": [
       "\n",
       "        if (window._pyforest_update_imports_cell) { window._pyforest_update_imports_cell('import seaborn as sns\\nimport plotly.express as px'); }\n",
       "    "
      ],
      "text/plain": [
       "<IPython.core.display.Javascript object>"
      ]
     },
     "metadata": {},
     "output_type": "display_data"
    },
    {
     "data": {
      "application/javascript": [
       "\n",
       "        if (window._pyforest_update_imports_cell) { window._pyforest_update_imports_cell('import seaborn as sns\\nimport plotly.express as px'); }\n",
       "    "
      ],
      "text/plain": [
       "<IPython.core.display.Javascript object>"
      ]
     },
     "metadata": {},
     "output_type": "display_data"
    },
    {
     "data": {
      "application/javascript": [
       "\n",
       "        if (window._pyforest_update_imports_cell) { window._pyforest_update_imports_cell('import seaborn as sns\\nimport plotly.express as px'); }\n",
       "    "
      ],
      "text/plain": [
       "<IPython.core.display.Javascript object>"
      ]
     },
     "metadata": {},
     "output_type": "display_data"
    },
    {
     "data": {
      "application/javascript": [
       "\n",
       "        if (window._pyforest_update_imports_cell) { window._pyforest_update_imports_cell('import seaborn as sns\\nimport plotly.express as px'); }\n",
       "    "
      ],
      "text/plain": [
       "<IPython.core.display.Javascript object>"
      ]
     },
     "metadata": {},
     "output_type": "display_data"
    },
    {
     "data": {
      "application/javascript": [
       "\n",
       "        if (window._pyforest_update_imports_cell) { window._pyforest_update_imports_cell('import seaborn as sns\\nimport plotly.express as px'); }\n",
       "    "
      ],
      "text/plain": [
       "<IPython.core.display.Javascript object>"
      ]
     },
     "metadata": {},
     "output_type": "display_data"
    },
    {
     "data": {
      "application/javascript": [
       "\n",
       "        if (window._pyforest_update_imports_cell) { window._pyforest_update_imports_cell('import seaborn as sns\\nimport plotly.express as px'); }\n",
       "    "
      ],
      "text/plain": [
       "<IPython.core.display.Javascript object>"
      ]
     },
     "metadata": {},
     "output_type": "display_data"
    },
    {
     "data": {
      "application/javascript": [
       "\n",
       "        if (window._pyforest_update_imports_cell) { window._pyforest_update_imports_cell('import seaborn as sns\\nimport plotly.express as px'); }\n",
       "    "
      ],
      "text/plain": [
       "<IPython.core.display.Javascript object>"
      ]
     },
     "metadata": {},
     "output_type": "display_data"
    },
    {
     "data": {
      "application/javascript": [
       "\n",
       "        if (window._pyforest_update_imports_cell) { window._pyforest_update_imports_cell('import seaborn as sns\\nimport plotly.express as px'); }\n",
       "    "
      ],
      "text/plain": [
       "<IPython.core.display.Javascript object>"
      ]
     },
     "metadata": {},
     "output_type": "display_data"
    },
    {
     "data": {
      "application/javascript": [
       "\n",
       "        if (window._pyforest_update_imports_cell) { window._pyforest_update_imports_cell('import seaborn as sns\\nimport plotly.express as px'); }\n",
       "    "
      ],
      "text/plain": [
       "<IPython.core.display.Javascript object>"
      ]
     },
     "metadata": {},
     "output_type": "display_data"
    },
    {
     "data": {
      "application/javascript": [
       "\n",
       "        if (window._pyforest_update_imports_cell) { window._pyforest_update_imports_cell('import seaborn as sns\\nimport plotly.express as px'); }\n",
       "    "
      ],
      "text/plain": [
       "<IPython.core.display.Javascript object>"
      ]
     },
     "metadata": {},
     "output_type": "display_data"
    },
    {
     "data": {
      "application/javascript": [
       "\n",
       "        if (window._pyforest_update_imports_cell) { window._pyforest_update_imports_cell('import seaborn as sns\\nimport plotly.express as px'); }\n",
       "    "
      ],
      "text/plain": [
       "<IPython.core.display.Javascript object>"
      ]
     },
     "metadata": {},
     "output_type": "display_data"
    },
    {
     "data": {
      "application/javascript": [
       "\n",
       "        if (window._pyforest_update_imports_cell) { window._pyforest_update_imports_cell('import seaborn as sns\\nimport plotly.express as px'); }\n",
       "    "
      ],
      "text/plain": [
       "<IPython.core.display.Javascript object>"
      ]
     },
     "metadata": {},
     "output_type": "display_data"
    },
    {
     "data": {
      "application/javascript": [
       "\n",
       "        if (window._pyforest_update_imports_cell) { window._pyforest_update_imports_cell('import seaborn as sns\\nimport plotly.express as px'); }\n",
       "    "
      ],
      "text/plain": [
       "<IPython.core.display.Javascript object>"
      ]
     },
     "metadata": {},
     "output_type": "display_data"
    },
    {
     "data": {
      "application/javascript": [
       "\n",
       "        if (window._pyforest_update_imports_cell) { window._pyforest_update_imports_cell('import seaborn as sns\\nimport plotly.express as px'); }\n",
       "    "
      ],
      "text/plain": [
       "<IPython.core.display.Javascript object>"
      ]
     },
     "metadata": {},
     "output_type": "display_data"
    },
    {
     "data": {
      "application/javascript": [
       "\n",
       "        if (window._pyforest_update_imports_cell) { window._pyforest_update_imports_cell('import seaborn as sns\\nimport plotly.express as px'); }\n",
       "    "
      ],
      "text/plain": [
       "<IPython.core.display.Javascript object>"
      ]
     },
     "metadata": {},
     "output_type": "display_data"
    },
    {
     "data": {
      "application/javascript": [
       "\n",
       "        if (window._pyforest_update_imports_cell) { window._pyforest_update_imports_cell('import seaborn as sns\\nimport plotly.express as px'); }\n",
       "    "
      ],
      "text/plain": [
       "<IPython.core.display.Javascript object>"
      ]
     },
     "metadata": {},
     "output_type": "display_data"
    },
    {
     "data": {
      "application/javascript": [
       "\n",
       "        if (window._pyforest_update_imports_cell) { window._pyforest_update_imports_cell('import seaborn as sns\\nimport plotly.express as px'); }\n",
       "    "
      ],
      "text/plain": [
       "<IPython.core.display.Javascript object>"
      ]
     },
     "metadata": {},
     "output_type": "display_data"
    },
    {
     "data": {
      "application/javascript": [
       "\n",
       "        if (window._pyforest_update_imports_cell) { window._pyforest_update_imports_cell('import seaborn as sns\\nimport plotly.express as px'); }\n",
       "    "
      ],
      "text/plain": [
       "<IPython.core.display.Javascript object>"
      ]
     },
     "metadata": {},
     "output_type": "display_data"
    },
    {
     "data": {
      "application/javascript": [
       "\n",
       "        if (window._pyforest_update_imports_cell) { window._pyforest_update_imports_cell('import seaborn as sns\\nimport plotly.express as px'); }\n",
       "    "
      ],
      "text/plain": [
       "<IPython.core.display.Javascript object>"
      ]
     },
     "metadata": {},
     "output_type": "display_data"
    },
    {
     "data": {
      "application/javascript": [
       "\n",
       "        if (window._pyforest_update_imports_cell) { window._pyforest_update_imports_cell('import seaborn as sns\\nimport plotly.express as px'); }\n",
       "    "
      ],
      "text/plain": [
       "<IPython.core.display.Javascript object>"
      ]
     },
     "metadata": {},
     "output_type": "display_data"
    },
    {
     "data": {
      "application/javascript": [
       "\n",
       "        if (window._pyforest_update_imports_cell) { window._pyforest_update_imports_cell('import seaborn as sns\\nimport plotly.express as px'); }\n",
       "    "
      ],
      "text/plain": [
       "<IPython.core.display.Javascript object>"
      ]
     },
     "metadata": {},
     "output_type": "display_data"
    },
    {
     "data": {
      "application/javascript": [
       "\n",
       "        if (window._pyforest_update_imports_cell) { window._pyforest_update_imports_cell('import seaborn as sns\\nimport plotly.express as px'); }\n",
       "    "
      ],
      "text/plain": [
       "<IPython.core.display.Javascript object>"
      ]
     },
     "metadata": {},
     "output_type": "display_data"
    },
    {
     "data": {
      "application/javascript": [
       "\n",
       "        if (window._pyforest_update_imports_cell) { window._pyforest_update_imports_cell('import seaborn as sns\\nimport plotly.express as px'); }\n",
       "    "
      ],
      "text/plain": [
       "<IPython.core.display.Javascript object>"
      ]
     },
     "metadata": {},
     "output_type": "display_data"
    },
    {
     "data": {
      "application/javascript": [
       "\n",
       "        if (window._pyforest_update_imports_cell) { window._pyforest_update_imports_cell('import seaborn as sns\\nimport plotly.express as px'); }\n",
       "    "
      ],
      "text/plain": [
       "<IPython.core.display.Javascript object>"
      ]
     },
     "metadata": {},
     "output_type": "display_data"
    },
    {
     "data": {
      "application/javascript": [
       "\n",
       "        if (window._pyforest_update_imports_cell) { window._pyforest_update_imports_cell('import seaborn as sns\\nimport plotly.express as px'); }\n",
       "    "
      ],
      "text/plain": [
       "<IPython.core.display.Javascript object>"
      ]
     },
     "metadata": {},
     "output_type": "display_data"
    },
    {
     "data": {
      "application/javascript": [
       "\n",
       "        if (window._pyforest_update_imports_cell) { window._pyforest_update_imports_cell('import seaborn as sns\\nimport plotly.express as px'); }\n",
       "    "
      ],
      "text/plain": [
       "<IPython.core.display.Javascript object>"
      ]
     },
     "metadata": {},
     "output_type": "display_data"
    },
    {
     "data": {
      "application/javascript": [
       "\n",
       "        if (window._pyforest_update_imports_cell) { window._pyforest_update_imports_cell('import seaborn as sns\\nimport plotly.express as px'); }\n",
       "    "
      ],
      "text/plain": [
       "<IPython.core.display.Javascript object>"
      ]
     },
     "metadata": {},
     "output_type": "display_data"
    },
    {
     "data": {
      "application/javascript": [
       "\n",
       "        if (window._pyforest_update_imports_cell) { window._pyforest_update_imports_cell('import seaborn as sns\\nimport plotly.express as px'); }\n",
       "    "
      ],
      "text/plain": [
       "<IPython.core.display.Javascript object>"
      ]
     },
     "metadata": {},
     "output_type": "display_data"
    },
    {
     "data": {
      "application/javascript": [
       "\n",
       "        if (window._pyforest_update_imports_cell) { window._pyforest_update_imports_cell('import seaborn as sns\\nimport plotly.express as px'); }\n",
       "    "
      ],
      "text/plain": [
       "<IPython.core.display.Javascript object>"
      ]
     },
     "metadata": {},
     "output_type": "display_data"
    },
    {
     "data": {
      "application/javascript": [
       "\n",
       "        if (window._pyforest_update_imports_cell) { window._pyforest_update_imports_cell('import seaborn as sns\\nimport plotly.express as px'); }\n",
       "    "
      ],
      "text/plain": [
       "<IPython.core.display.Javascript object>"
      ]
     },
     "metadata": {},
     "output_type": "display_data"
    },
    {
     "data": {
      "application/javascript": [
       "\n",
       "        if (window._pyforest_update_imports_cell) { window._pyforest_update_imports_cell('import seaborn as sns\\nimport plotly.express as px'); }\n",
       "    "
      ],
      "text/plain": [
       "<IPython.core.display.Javascript object>"
      ]
     },
     "metadata": {},
     "output_type": "display_data"
    },
    {
     "data": {
      "application/javascript": [
       "\n",
       "        if (window._pyforest_update_imports_cell) { window._pyforest_update_imports_cell('import seaborn as sns\\nimport plotly.express as px'); }\n",
       "    "
      ],
      "text/plain": [
       "<IPython.core.display.Javascript object>"
      ]
     },
     "metadata": {},
     "output_type": "display_data"
    },
    {
     "data": {
      "application/javascript": [
       "\n",
       "        if (window._pyforest_update_imports_cell) { window._pyforest_update_imports_cell('import seaborn as sns\\nimport plotly.express as px'); }\n",
       "    "
      ],
      "text/plain": [
       "<IPython.core.display.Javascript object>"
      ]
     },
     "metadata": {},
     "output_type": "display_data"
    },
    {
     "data": {
      "application/javascript": [
       "\n",
       "        if (window._pyforest_update_imports_cell) { window._pyforest_update_imports_cell('import seaborn as sns\\nimport plotly.express as px'); }\n",
       "    "
      ],
      "text/plain": [
       "<IPython.core.display.Javascript object>"
      ]
     },
     "metadata": {},
     "output_type": "display_data"
    },
    {
     "data": {
      "application/javascript": [
       "\n",
       "        if (window._pyforest_update_imports_cell) { window._pyforest_update_imports_cell('import seaborn as sns\\nimport plotly.express as px'); }\n",
       "    "
      ],
      "text/plain": [
       "<IPython.core.display.Javascript object>"
      ]
     },
     "metadata": {},
     "output_type": "display_data"
    },
    {
     "data": {
      "application/javascript": [
       "\n",
       "        if (window._pyforest_update_imports_cell) { window._pyforest_update_imports_cell('import seaborn as sns\\nimport plotly.express as px'); }\n",
       "    "
      ],
      "text/plain": [
       "<IPython.core.display.Javascript object>"
      ]
     },
     "metadata": {},
     "output_type": "display_data"
    },
    {
     "data": {
      "application/javascript": [
       "\n",
       "        if (window._pyforest_update_imports_cell) { window._pyforest_update_imports_cell('import seaborn as sns\\nimport plotly.express as px'); }\n",
       "    "
      ],
      "text/plain": [
       "<IPython.core.display.Javascript object>"
      ]
     },
     "metadata": {},
     "output_type": "display_data"
    },
    {
     "data": {
      "application/javascript": [
       "\n",
       "        if (window._pyforest_update_imports_cell) { window._pyforest_update_imports_cell('import seaborn as sns\\nimport plotly.express as px'); }\n",
       "    "
      ],
      "text/plain": [
       "<IPython.core.display.Javascript object>"
      ]
     },
     "metadata": {},
     "output_type": "display_data"
    },
    {
     "data": {
      "application/javascript": [
       "\n",
       "        if (window._pyforest_update_imports_cell) { window._pyforest_update_imports_cell('import seaborn as sns\\nimport plotly.express as px'); }\n",
       "    "
      ],
      "text/plain": [
       "<IPython.core.display.Javascript object>"
      ]
     },
     "metadata": {},
     "output_type": "display_data"
    },
    {
     "data": {
      "application/javascript": [
       "\n",
       "        if (window._pyforest_update_imports_cell) { window._pyforest_update_imports_cell('import seaborn as sns\\nimport plotly.express as px'); }\n",
       "    "
      ],
      "text/plain": [
       "<IPython.core.display.Javascript object>"
      ]
     },
     "metadata": {},
     "output_type": "display_data"
    },
    {
     "data": {
      "application/javascript": [
       "\n",
       "        if (window._pyforest_update_imports_cell) { window._pyforest_update_imports_cell('import seaborn as sns\\nimport plotly.express as px'); }\n",
       "    "
      ],
      "text/plain": [
       "<IPython.core.display.Javascript object>"
      ]
     },
     "metadata": {},
     "output_type": "display_data"
    },
    {
     "data": {
      "application/javascript": [
       "\n",
       "        if (window._pyforest_update_imports_cell) { window._pyforest_update_imports_cell('import seaborn as sns\\nimport plotly.express as px'); }\n",
       "    "
      ],
      "text/plain": [
       "<IPython.core.display.Javascript object>"
      ]
     },
     "metadata": {},
     "output_type": "display_data"
    },
    {
     "data": {
      "application/javascript": [
       "\n",
       "        if (window._pyforest_update_imports_cell) { window._pyforest_update_imports_cell('import seaborn as sns\\nimport plotly.express as px'); }\n",
       "    "
      ],
      "text/plain": [
       "<IPython.core.display.Javascript object>"
      ]
     },
     "metadata": {},
     "output_type": "display_data"
    },
    {
     "data": {
      "application/javascript": [
       "\n",
       "        if (window._pyforest_update_imports_cell) { window._pyforest_update_imports_cell('import seaborn as sns\\nimport plotly.express as px'); }\n",
       "    "
      ],
      "text/plain": [
       "<IPython.core.display.Javascript object>"
      ]
     },
     "metadata": {},
     "output_type": "display_data"
    },
    {
     "data": {
      "application/javascript": [
       "\n",
       "        if (window._pyforest_update_imports_cell) { window._pyforest_update_imports_cell('import seaborn as sns\\nimport plotly.express as px'); }\n",
       "    "
      ],
      "text/plain": [
       "<IPython.core.display.Javascript object>"
      ]
     },
     "metadata": {},
     "output_type": "display_data"
    },
    {
     "data": {
      "application/javascript": [
       "\n",
       "        if (window._pyforest_update_imports_cell) { window._pyforest_update_imports_cell('import seaborn as sns\\nimport plotly.express as px'); }\n",
       "    "
      ],
      "text/plain": [
       "<IPython.core.display.Javascript object>"
      ]
     },
     "metadata": {},
     "output_type": "display_data"
    },
    {
     "data": {
      "application/javascript": [
       "\n",
       "        if (window._pyforest_update_imports_cell) { window._pyforest_update_imports_cell('import seaborn as sns\\nimport plotly.express as px'); }\n",
       "    "
      ],
      "text/plain": [
       "<IPython.core.display.Javascript object>"
      ]
     },
     "metadata": {},
     "output_type": "display_data"
    },
    {
     "data": {
      "application/javascript": [
       "\n",
       "        if (window._pyforest_update_imports_cell) { window._pyforest_update_imports_cell('import seaborn as sns\\nimport plotly.express as px'); }\n",
       "    "
      ],
      "text/plain": [
       "<IPython.core.display.Javascript object>"
      ]
     },
     "metadata": {},
     "output_type": "display_data"
    },
    {
     "data": {
      "application/javascript": [
       "\n",
       "        if (window._pyforest_update_imports_cell) { window._pyforest_update_imports_cell('import seaborn as sns\\nimport plotly.express as px'); }\n",
       "    "
      ],
      "text/plain": [
       "<IPython.core.display.Javascript object>"
      ]
     },
     "metadata": {},
     "output_type": "display_data"
    },
    {
     "data": {
      "application/javascript": [
       "\n",
       "        if (window._pyforest_update_imports_cell) { window._pyforest_update_imports_cell('import seaborn as sns\\nimport plotly.express as px'); }\n",
       "    "
      ],
      "text/plain": [
       "<IPython.core.display.Javascript object>"
      ]
     },
     "metadata": {},
     "output_type": "display_data"
    },
    {
     "data": {
      "application/javascript": [
       "\n",
       "        if (window._pyforest_update_imports_cell) { window._pyforest_update_imports_cell('import seaborn as sns\\nimport plotly.express as px'); }\n",
       "    "
      ],
      "text/plain": [
       "<IPython.core.display.Javascript object>"
      ]
     },
     "metadata": {},
     "output_type": "display_data"
    },
    {
     "data": {
      "application/javascript": [
       "\n",
       "        if (window._pyforest_update_imports_cell) { window._pyforest_update_imports_cell('import seaborn as sns\\nimport plotly.express as px'); }\n",
       "    "
      ],
      "text/plain": [
       "<IPython.core.display.Javascript object>"
      ]
     },
     "metadata": {},
     "output_type": "display_data"
    },
    {
     "data": {
      "application/javascript": [
       "\n",
       "        if (window._pyforest_update_imports_cell) { window._pyforest_update_imports_cell('import seaborn as sns\\nimport plotly.express as px'); }\n",
       "    "
      ],
      "text/plain": [
       "<IPython.core.display.Javascript object>"
      ]
     },
     "metadata": {},
     "output_type": "display_data"
    },
    {
     "data": {
      "application/javascript": [
       "\n",
       "        if (window._pyforest_update_imports_cell) { window._pyforest_update_imports_cell('import seaborn as sns\\nimport plotly.express as px'); }\n",
       "    "
      ],
      "text/plain": [
       "<IPython.core.display.Javascript object>"
      ]
     },
     "metadata": {},
     "output_type": "display_data"
    },
    {
     "data": {
      "application/javascript": [
       "\n",
       "        if (window._pyforest_update_imports_cell) { window._pyforest_update_imports_cell('import seaborn as sns\\nimport plotly.express as px'); }\n",
       "    "
      ],
      "text/plain": [
       "<IPython.core.display.Javascript object>"
      ]
     },
     "metadata": {},
     "output_type": "display_data"
    },
    {
     "data": {
      "application/javascript": [
       "\n",
       "        if (window._pyforest_update_imports_cell) { window._pyforest_update_imports_cell('import seaborn as sns\\nimport plotly.express as px'); }\n",
       "    "
      ],
      "text/plain": [
       "<IPython.core.display.Javascript object>"
      ]
     },
     "metadata": {},
     "output_type": "display_data"
    },
    {
     "data": {
      "application/javascript": [
       "\n",
       "        if (window._pyforest_update_imports_cell) { window._pyforest_update_imports_cell('import seaborn as sns\\nimport plotly.express as px'); }\n",
       "    "
      ],
      "text/plain": [
       "<IPython.core.display.Javascript object>"
      ]
     },
     "metadata": {},
     "output_type": "display_data"
    },
    {
     "data": {
      "application/javascript": [
       "\n",
       "        if (window._pyforest_update_imports_cell) { window._pyforest_update_imports_cell('import seaborn as sns\\nimport plotly.express as px'); }\n",
       "    "
      ],
      "text/plain": [
       "<IPython.core.display.Javascript object>"
      ]
     },
     "metadata": {},
     "output_type": "display_data"
    },
    {
     "data": {
      "application/javascript": [
       "\n",
       "        if (window._pyforest_update_imports_cell) { window._pyforest_update_imports_cell('import seaborn as sns\\nimport plotly.express as px'); }\n",
       "    "
      ],
      "text/plain": [
       "<IPython.core.display.Javascript object>"
      ]
     },
     "metadata": {},
     "output_type": "display_data"
    },
    {
     "data": {
      "application/javascript": [
       "\n",
       "        if (window._pyforest_update_imports_cell) { window._pyforest_update_imports_cell('import seaborn as sns\\nimport plotly.express as px'); }\n",
       "    "
      ],
      "text/plain": [
       "<IPython.core.display.Javascript object>"
      ]
     },
     "metadata": {},
     "output_type": "display_data"
    },
    {
     "data": {
      "application/javascript": [
       "\n",
       "        if (window._pyforest_update_imports_cell) { window._pyforest_update_imports_cell('import seaborn as sns\\nimport plotly.express as px'); }\n",
       "    "
      ],
      "text/plain": [
       "<IPython.core.display.Javascript object>"
      ]
     },
     "metadata": {},
     "output_type": "display_data"
    },
    {
     "data": {
      "application/javascript": [
       "\n",
       "        if (window._pyforest_update_imports_cell) { window._pyforest_update_imports_cell('import seaborn as sns\\nimport plotly.express as px'); }\n",
       "    "
      ],
      "text/plain": [
       "<IPython.core.display.Javascript object>"
      ]
     },
     "metadata": {},
     "output_type": "display_data"
    },
    {
     "data": {
      "application/javascript": [
       "\n",
       "        if (window._pyforest_update_imports_cell) { window._pyforest_update_imports_cell('import seaborn as sns\\nimport plotly.express as px'); }\n",
       "    "
      ],
      "text/plain": [
       "<IPython.core.display.Javascript object>"
      ]
     },
     "metadata": {},
     "output_type": "display_data"
    },
    {
     "data": {
      "application/javascript": [
       "\n",
       "        if (window._pyforest_update_imports_cell) { window._pyforest_update_imports_cell('import seaborn as sns\\nimport plotly.express as px'); }\n",
       "    "
      ],
      "text/plain": [
       "<IPython.core.display.Javascript object>"
      ]
     },
     "metadata": {},
     "output_type": "display_data"
    },
    {
     "data": {
      "application/javascript": [
       "\n",
       "        if (window._pyforest_update_imports_cell) { window._pyforest_update_imports_cell('import seaborn as sns\\nimport plotly.express as px'); }\n",
       "    "
      ],
      "text/plain": [
       "<IPython.core.display.Javascript object>"
      ]
     },
     "metadata": {},
     "output_type": "display_data"
    },
    {
     "data": {
      "application/javascript": [
       "\n",
       "        if (window._pyforest_update_imports_cell) { window._pyforest_update_imports_cell('import seaborn as sns\\nimport plotly.express as px'); }\n",
       "    "
      ],
      "text/plain": [
       "<IPython.core.display.Javascript object>"
      ]
     },
     "metadata": {},
     "output_type": "display_data"
    },
    {
     "data": {
      "application/javascript": [
       "\n",
       "        if (window._pyforest_update_imports_cell) { window._pyforest_update_imports_cell('import seaborn as sns\\nimport plotly.express as px'); }\n",
       "    "
      ],
      "text/plain": [
       "<IPython.core.display.Javascript object>"
      ]
     },
     "metadata": {},
     "output_type": "display_data"
    },
    {
     "data": {
      "application/javascript": [
       "\n",
       "        if (window._pyforest_update_imports_cell) { window._pyforest_update_imports_cell('import seaborn as sns\\nimport plotly.express as px'); }\n",
       "    "
      ],
      "text/plain": [
       "<IPython.core.display.Javascript object>"
      ]
     },
     "metadata": {},
     "output_type": "display_data"
    },
    {
     "data": {
      "application/javascript": [
       "\n",
       "        if (window._pyforest_update_imports_cell) { window._pyforest_update_imports_cell('import seaborn as sns\\nimport plotly.express as px'); }\n",
       "    "
      ],
      "text/plain": [
       "<IPython.core.display.Javascript object>"
      ]
     },
     "metadata": {},
     "output_type": "display_data"
    },
    {
     "data": {
      "application/javascript": [
       "\n",
       "        if (window._pyforest_update_imports_cell) { window._pyforest_update_imports_cell('import seaborn as sns\\nimport plotly.express as px'); }\n",
       "    "
      ],
      "text/plain": [
       "<IPython.core.display.Javascript object>"
      ]
     },
     "metadata": {},
     "output_type": "display_data"
    },
    {
     "data": {
      "application/javascript": [
       "\n",
       "        if (window._pyforest_update_imports_cell) { window._pyforest_update_imports_cell('import seaborn as sns\\nimport plotly.express as px'); }\n",
       "    "
      ],
      "text/plain": [
       "<IPython.core.display.Javascript object>"
      ]
     },
     "metadata": {},
     "output_type": "display_data"
    },
    {
     "data": {
      "application/javascript": [
       "\n",
       "        if (window._pyforest_update_imports_cell) { window._pyforest_update_imports_cell('import seaborn as sns\\nimport plotly.express as px'); }\n",
       "    "
      ],
      "text/plain": [
       "<IPython.core.display.Javascript object>"
      ]
     },
     "metadata": {},
     "output_type": "display_data"
    },
    {
     "data": {
      "application/javascript": [
       "\n",
       "        if (window._pyforest_update_imports_cell) { window._pyforest_update_imports_cell('import seaborn as sns\\nimport plotly.express as px'); }\n",
       "    "
      ],
      "text/plain": [
       "<IPython.core.display.Javascript object>"
      ]
     },
     "metadata": {},
     "output_type": "display_data"
    },
    {
     "data": {
      "application/javascript": [
       "\n",
       "        if (window._pyforest_update_imports_cell) { window._pyforest_update_imports_cell('import seaborn as sns\\nimport plotly.express as px'); }\n",
       "    "
      ],
      "text/plain": [
       "<IPython.core.display.Javascript object>"
      ]
     },
     "metadata": {},
     "output_type": "display_data"
    },
    {
     "data": {
      "application/javascript": [
       "\n",
       "        if (window._pyforest_update_imports_cell) { window._pyforest_update_imports_cell('import seaborn as sns\\nimport plotly.express as px'); }\n",
       "    "
      ],
      "text/plain": [
       "<IPython.core.display.Javascript object>"
      ]
     },
     "metadata": {},
     "output_type": "display_data"
    },
    {
     "data": {
      "application/javascript": [
       "\n",
       "        if (window._pyforest_update_imports_cell) { window._pyforest_update_imports_cell('import seaborn as sns\\nimport plotly.express as px'); }\n",
       "    "
      ],
      "text/plain": [
       "<IPython.core.display.Javascript object>"
      ]
     },
     "metadata": {},
     "output_type": "display_data"
    },
    {
     "data": {
      "application/javascript": [
       "\n",
       "        if (window._pyforest_update_imports_cell) { window._pyforest_update_imports_cell('import seaborn as sns\\nimport plotly.express as px'); }\n",
       "    "
      ],
      "text/plain": [
       "<IPython.core.display.Javascript object>"
      ]
     },
     "metadata": {},
     "output_type": "display_data"
    },
    {
     "data": {
      "application/javascript": [
       "\n",
       "        if (window._pyforest_update_imports_cell) { window._pyforest_update_imports_cell('import seaborn as sns\\nimport plotly.express as px'); }\n",
       "    "
      ],
      "text/plain": [
       "<IPython.core.display.Javascript object>"
      ]
     },
     "metadata": {},
     "output_type": "display_data"
    },
    {
     "data": {
      "application/javascript": [
       "\n",
       "        if (window._pyforest_update_imports_cell) { window._pyforest_update_imports_cell('import seaborn as sns\\nimport plotly.express as px'); }\n",
       "    "
      ],
      "text/plain": [
       "<IPython.core.display.Javascript object>"
      ]
     },
     "metadata": {},
     "output_type": "display_data"
    },
    {
     "data": {
      "application/javascript": [
       "\n",
       "        if (window._pyforest_update_imports_cell) { window._pyforest_update_imports_cell('import seaborn as sns\\nimport plotly.express as px'); }\n",
       "    "
      ],
      "text/plain": [
       "<IPython.core.display.Javascript object>"
      ]
     },
     "metadata": {},
     "output_type": "display_data"
    },
    {
     "data": {
      "application/javascript": [
       "\n",
       "        if (window._pyforest_update_imports_cell) { window._pyforest_update_imports_cell('import seaborn as sns\\nimport plotly.express as px'); }\n",
       "    "
      ],
      "text/plain": [
       "<IPython.core.display.Javascript object>"
      ]
     },
     "metadata": {},
     "output_type": "display_data"
    },
    {
     "data": {
      "application/javascript": [
       "\n",
       "        if (window._pyforest_update_imports_cell) { window._pyforest_update_imports_cell('import seaborn as sns\\nimport plotly.express as px'); }\n",
       "    "
      ],
      "text/plain": [
       "<IPython.core.display.Javascript object>"
      ]
     },
     "metadata": {},
     "output_type": "display_data"
    },
    {
     "data": {
      "application/javascript": [
       "\n",
       "        if (window._pyforest_update_imports_cell) { window._pyforest_update_imports_cell('import seaborn as sns\\nimport plotly.express as px'); }\n",
       "    "
      ],
      "text/plain": [
       "<IPython.core.display.Javascript object>"
      ]
     },
     "metadata": {},
     "output_type": "display_data"
    },
    {
     "data": {
      "application/javascript": [
       "\n",
       "        if (window._pyforest_update_imports_cell) { window._pyforest_update_imports_cell('import seaborn as sns\\nimport plotly.express as px'); }\n",
       "    "
      ],
      "text/plain": [
       "<IPython.core.display.Javascript object>"
      ]
     },
     "metadata": {},
     "output_type": "display_data"
    },
    {
     "data": {
      "application/javascript": [
       "\n",
       "        if (window._pyforest_update_imports_cell) { window._pyforest_update_imports_cell('import seaborn as sns\\nimport plotly.express as px'); }\n",
       "    "
      ],
      "text/plain": [
       "<IPython.core.display.Javascript object>"
      ]
     },
     "metadata": {},
     "output_type": "display_data"
    },
    {
     "data": {
      "application/javascript": [
       "\n",
       "        if (window._pyforest_update_imports_cell) { window._pyforest_update_imports_cell('import seaborn as sns\\nimport plotly.express as px'); }\n",
       "    "
      ],
      "text/plain": [
       "<IPython.core.display.Javascript object>"
      ]
     },
     "metadata": {},
     "output_type": "display_data"
    },
    {
     "data": {
      "application/javascript": [
       "\n",
       "        if (window._pyforest_update_imports_cell) { window._pyforest_update_imports_cell('import seaborn as sns\\nimport plotly.express as px'); }\n",
       "    "
      ],
      "text/plain": [
       "<IPython.core.display.Javascript object>"
      ]
     },
     "metadata": {},
     "output_type": "display_data"
    },
    {
     "data": {
      "application/javascript": [
       "\n",
       "        if (window._pyforest_update_imports_cell) { window._pyforest_update_imports_cell('import seaborn as sns\\nimport plotly.express as px'); }\n",
       "    "
      ],
      "text/plain": [
       "<IPython.core.display.Javascript object>"
      ]
     },
     "metadata": {},
     "output_type": "display_data"
    },
    {
     "data": {
      "application/javascript": [
       "\n",
       "        if (window._pyforest_update_imports_cell) { window._pyforest_update_imports_cell('import seaborn as sns\\nimport plotly.express as px'); }\n",
       "    "
      ],
      "text/plain": [
       "<IPython.core.display.Javascript object>"
      ]
     },
     "metadata": {},
     "output_type": "display_data"
    },
    {
     "data": {
      "application/javascript": [
       "\n",
       "        if (window._pyforest_update_imports_cell) { window._pyforest_update_imports_cell('import seaborn as sns\\nimport plotly.express as px'); }\n",
       "    "
      ],
      "text/plain": [
       "<IPython.core.display.Javascript object>"
      ]
     },
     "metadata": {},
     "output_type": "display_data"
    },
    {
     "data": {
      "application/javascript": [
       "\n",
       "        if (window._pyforest_update_imports_cell) { window._pyforest_update_imports_cell('import seaborn as sns\\nimport plotly.express as px'); }\n",
       "    "
      ],
      "text/plain": [
       "<IPython.core.display.Javascript object>"
      ]
     },
     "metadata": {},
     "output_type": "display_data"
    },
    {
     "data": {
      "application/javascript": [
       "\n",
       "        if (window._pyforest_update_imports_cell) { window._pyforest_update_imports_cell('import seaborn as sns\\nimport plotly.express as px'); }\n",
       "    "
      ],
      "text/plain": [
       "<IPython.core.display.Javascript object>"
      ]
     },
     "metadata": {},
     "output_type": "display_data"
    },
    {
     "data": {
      "application/javascript": [
       "\n",
       "        if (window._pyforest_update_imports_cell) { window._pyforest_update_imports_cell('import seaborn as sns\\nimport plotly.express as px'); }\n",
       "    "
      ],
      "text/plain": [
       "<IPython.core.display.Javascript object>"
      ]
     },
     "metadata": {},
     "output_type": "display_data"
    },
    {
     "data": {
      "application/javascript": [
       "\n",
       "        if (window._pyforest_update_imports_cell) { window._pyforest_update_imports_cell('import seaborn as sns\\nimport plotly.express as px'); }\n",
       "    "
      ],
      "text/plain": [
       "<IPython.core.display.Javascript object>"
      ]
     },
     "metadata": {},
     "output_type": "display_data"
    },
    {
     "data": {
      "application/javascript": [
       "\n",
       "        if (window._pyforest_update_imports_cell) { window._pyforest_update_imports_cell('import seaborn as sns\\nimport plotly.express as px'); }\n",
       "    "
      ],
      "text/plain": [
       "<IPython.core.display.Javascript object>"
      ]
     },
     "metadata": {},
     "output_type": "display_data"
    },
    {
     "data": {
      "application/javascript": [
       "\n",
       "        if (window._pyforest_update_imports_cell) { window._pyforest_update_imports_cell('import seaborn as sns\\nimport plotly.express as px'); }\n",
       "    "
      ],
      "text/plain": [
       "<IPython.core.display.Javascript object>"
      ]
     },
     "metadata": {},
     "output_type": "display_data"
    },
    {
     "data": {
      "application/javascript": [
       "\n",
       "        if (window._pyforest_update_imports_cell) { window._pyforest_update_imports_cell('import seaborn as sns\\nimport plotly.express as px'); }\n",
       "    "
      ],
      "text/plain": [
       "<IPython.core.display.Javascript object>"
      ]
     },
     "metadata": {},
     "output_type": "display_data"
    },
    {
     "data": {
      "application/javascript": [
       "\n",
       "        if (window._pyforest_update_imports_cell) { window._pyforest_update_imports_cell('import seaborn as sns\\nimport plotly.express as px'); }\n",
       "    "
      ],
      "text/plain": [
       "<IPython.core.display.Javascript object>"
      ]
     },
     "metadata": {},
     "output_type": "display_data"
    },
    {
     "data": {
      "application/javascript": [
       "\n",
       "        if (window._pyforest_update_imports_cell) { window._pyforest_update_imports_cell('import seaborn as sns\\nimport plotly.express as px'); }\n",
       "    "
      ],
      "text/plain": [
       "<IPython.core.display.Javascript object>"
      ]
     },
     "metadata": {},
     "output_type": "display_data"
    },
    {
     "data": {
      "application/javascript": [
       "\n",
       "        if (window._pyforest_update_imports_cell) { window._pyforest_update_imports_cell('import seaborn as sns\\nimport plotly.express as px'); }\n",
       "    "
      ],
      "text/plain": [
       "<IPython.core.display.Javascript object>"
      ]
     },
     "metadata": {},
     "output_type": "display_data"
    },
    {
     "data": {
      "application/javascript": [
       "\n",
       "        if (window._pyforest_update_imports_cell) { window._pyforest_update_imports_cell('import seaborn as sns\\nimport plotly.express as px'); }\n",
       "    "
      ],
      "text/plain": [
       "<IPython.core.display.Javascript object>"
      ]
     },
     "metadata": {},
     "output_type": "display_data"
    },
    {
     "data": {
      "application/javascript": [
       "\n",
       "        if (window._pyforest_update_imports_cell) { window._pyforest_update_imports_cell('import seaborn as sns\\nimport plotly.express as px'); }\n",
       "    "
      ],
      "text/plain": [
       "<IPython.core.display.Javascript object>"
      ]
     },
     "metadata": {},
     "output_type": "display_data"
    },
    {
     "data": {
      "application/javascript": [
       "\n",
       "        if (window._pyforest_update_imports_cell) { window._pyforest_update_imports_cell('import seaborn as sns\\nimport plotly.express as px'); }\n",
       "    "
      ],
      "text/plain": [
       "<IPython.core.display.Javascript object>"
      ]
     },
     "metadata": {},
     "output_type": "display_data"
    },
    {
     "data": {
      "application/javascript": [
       "\n",
       "        if (window._pyforest_update_imports_cell) { window._pyforest_update_imports_cell('import seaborn as sns\\nimport plotly.express as px'); }\n",
       "    "
      ],
      "text/plain": [
       "<IPython.core.display.Javascript object>"
      ]
     },
     "metadata": {},
     "output_type": "display_data"
    },
    {
     "data": {
      "application/javascript": [
       "\n",
       "        if (window._pyforest_update_imports_cell) { window._pyforest_update_imports_cell('import seaborn as sns\\nimport plotly.express as px'); }\n",
       "    "
      ],
      "text/plain": [
       "<IPython.core.display.Javascript object>"
      ]
     },
     "metadata": {},
     "output_type": "display_data"
    },
    {
     "data": {
      "application/javascript": [
       "\n",
       "        if (window._pyforest_update_imports_cell) { window._pyforest_update_imports_cell('import seaborn as sns\\nimport plotly.express as px'); }\n",
       "    "
      ],
      "text/plain": [
       "<IPython.core.display.Javascript object>"
      ]
     },
     "metadata": {},
     "output_type": "display_data"
    },
    {
     "data": {
      "application/javascript": [
       "\n",
       "        if (window._pyforest_update_imports_cell) { window._pyforest_update_imports_cell('import seaborn as sns\\nimport plotly.express as px'); }\n",
       "    "
      ],
      "text/plain": [
       "<IPython.core.display.Javascript object>"
      ]
     },
     "metadata": {},
     "output_type": "display_data"
    },
    {
     "data": {
      "application/javascript": [
       "\n",
       "        if (window._pyforest_update_imports_cell) { window._pyforest_update_imports_cell('import seaborn as sns\\nimport plotly.express as px'); }\n",
       "    "
      ],
      "text/plain": [
       "<IPython.core.display.Javascript object>"
      ]
     },
     "metadata": {},
     "output_type": "display_data"
    },
    {
     "data": {
      "application/javascript": [
       "\n",
       "        if (window._pyforest_update_imports_cell) { window._pyforest_update_imports_cell('import seaborn as sns\\nimport plotly.express as px'); }\n",
       "    "
      ],
      "text/plain": [
       "<IPython.core.display.Javascript object>"
      ]
     },
     "metadata": {},
     "output_type": "display_data"
    },
    {
     "data": {
      "application/javascript": [
       "\n",
       "        if (window._pyforest_update_imports_cell) { window._pyforest_update_imports_cell('import seaborn as sns\\nimport plotly.express as px'); }\n",
       "    "
      ],
      "text/plain": [
       "<IPython.core.display.Javascript object>"
      ]
     },
     "metadata": {},
     "output_type": "display_data"
    },
    {
     "data": {
      "application/javascript": [
       "\n",
       "        if (window._pyforest_update_imports_cell) { window._pyforest_update_imports_cell('import seaborn as sns\\nimport plotly.express as px'); }\n",
       "    "
      ],
      "text/plain": [
       "<IPython.core.display.Javascript object>"
      ]
     },
     "metadata": {},
     "output_type": "display_data"
    },
    {
     "data": {
      "application/javascript": [
       "\n",
       "        if (window._pyforest_update_imports_cell) { window._pyforest_update_imports_cell('import seaborn as sns\\nimport plotly.express as px'); }\n",
       "    "
      ],
      "text/plain": [
       "<IPython.core.display.Javascript object>"
      ]
     },
     "metadata": {},
     "output_type": "display_data"
    },
    {
     "data": {
      "application/javascript": [
       "\n",
       "        if (window._pyforest_update_imports_cell) { window._pyforest_update_imports_cell('import seaborn as sns\\nimport plotly.express as px'); }\n",
       "    "
      ],
      "text/plain": [
       "<IPython.core.display.Javascript object>"
      ]
     },
     "metadata": {},
     "output_type": "display_data"
    },
    {
     "data": {
      "application/javascript": [
       "\n",
       "        if (window._pyforest_update_imports_cell) { window._pyforest_update_imports_cell('import seaborn as sns\\nimport plotly.express as px'); }\n",
       "    "
      ],
      "text/plain": [
       "<IPython.core.display.Javascript object>"
      ]
     },
     "metadata": {},
     "output_type": "display_data"
    },
    {
     "data": {
      "application/javascript": [
       "\n",
       "        if (window._pyforest_update_imports_cell) { window._pyforest_update_imports_cell('import seaborn as sns\\nimport plotly.express as px'); }\n",
       "    "
      ],
      "text/plain": [
       "<IPython.core.display.Javascript object>"
      ]
     },
     "metadata": {},
     "output_type": "display_data"
    },
    {
     "data": {
      "application/javascript": [
       "\n",
       "        if (window._pyforest_update_imports_cell) { window._pyforest_update_imports_cell('import seaborn as sns\\nimport plotly.express as px'); }\n",
       "    "
      ],
      "text/plain": [
       "<IPython.core.display.Javascript object>"
      ]
     },
     "metadata": {},
     "output_type": "display_data"
    },
    {
     "data": {
      "application/javascript": [
       "\n",
       "        if (window._pyforest_update_imports_cell) { window._pyforest_update_imports_cell('import seaborn as sns\\nimport plotly.express as px'); }\n",
       "    "
      ],
      "text/plain": [
       "<IPython.core.display.Javascript object>"
      ]
     },
     "metadata": {},
     "output_type": "display_data"
    },
    {
     "data": {
      "application/javascript": [
       "\n",
       "        if (window._pyforest_update_imports_cell) { window._pyforest_update_imports_cell('import seaborn as sns\\nimport plotly.express as px'); }\n",
       "    "
      ],
      "text/plain": [
       "<IPython.core.display.Javascript object>"
      ]
     },
     "metadata": {},
     "output_type": "display_data"
    },
    {
     "data": {
      "application/javascript": [
       "\n",
       "        if (window._pyforest_update_imports_cell) { window._pyforest_update_imports_cell('import seaborn as sns\\nimport plotly.express as px'); }\n",
       "    "
      ],
      "text/plain": [
       "<IPython.core.display.Javascript object>"
      ]
     },
     "metadata": {},
     "output_type": "display_data"
    },
    {
     "data": {
      "application/javascript": [
       "\n",
       "        if (window._pyforest_update_imports_cell) { window._pyforest_update_imports_cell('import seaborn as sns\\nimport plotly.express as px'); }\n",
       "    "
      ],
      "text/plain": [
       "<IPython.core.display.Javascript object>"
      ]
     },
     "metadata": {},
     "output_type": "display_data"
    },
    {
     "data": {
      "application/javascript": [
       "\n",
       "        if (window._pyforest_update_imports_cell) { window._pyforest_update_imports_cell('import seaborn as sns\\nimport plotly.express as px'); }\n",
       "    "
      ],
      "text/plain": [
       "<IPython.core.display.Javascript object>"
      ]
     },
     "metadata": {},
     "output_type": "display_data"
    },
    {
     "data": {
      "application/javascript": [
       "\n",
       "        if (window._pyforest_update_imports_cell) { window._pyforest_update_imports_cell('import seaborn as sns\\nimport plotly.express as px'); }\n",
       "    "
      ],
      "text/plain": [
       "<IPython.core.display.Javascript object>"
      ]
     },
     "metadata": {},
     "output_type": "display_data"
    },
    {
     "data": {
      "application/javascript": [
       "\n",
       "        if (window._pyforest_update_imports_cell) { window._pyforest_update_imports_cell('import seaborn as sns\\nimport plotly.express as px'); }\n",
       "    "
      ],
      "text/plain": [
       "<IPython.core.display.Javascript object>"
      ]
     },
     "metadata": {},
     "output_type": "display_data"
    },
    {
     "data": {
      "application/javascript": [
       "\n",
       "        if (window._pyforest_update_imports_cell) { window._pyforest_update_imports_cell('import seaborn as sns\\nimport plotly.express as px'); }\n",
       "    "
      ],
      "text/plain": [
       "<IPython.core.display.Javascript object>"
      ]
     },
     "metadata": {},
     "output_type": "display_data"
    },
    {
     "data": {
      "application/javascript": [
       "\n",
       "        if (window._pyforest_update_imports_cell) { window._pyforest_update_imports_cell('import seaborn as sns\\nimport plotly.express as px'); }\n",
       "    "
      ],
      "text/plain": [
       "<IPython.core.display.Javascript object>"
      ]
     },
     "metadata": {},
     "output_type": "display_data"
    },
    {
     "data": {
      "application/javascript": [
       "\n",
       "        if (window._pyforest_update_imports_cell) { window._pyforest_update_imports_cell('import seaborn as sns\\nimport plotly.express as px'); }\n",
       "    "
      ],
      "text/plain": [
       "<IPython.core.display.Javascript object>"
      ]
     },
     "metadata": {},
     "output_type": "display_data"
    },
    {
     "data": {
      "application/javascript": [
       "\n",
       "        if (window._pyforest_update_imports_cell) { window._pyforest_update_imports_cell('import seaborn as sns\\nimport plotly.express as px'); }\n",
       "    "
      ],
      "text/plain": [
       "<IPython.core.display.Javascript object>"
      ]
     },
     "metadata": {},
     "output_type": "display_data"
    },
    {
     "data": {
      "application/javascript": [
       "\n",
       "        if (window._pyforest_update_imports_cell) { window._pyforest_update_imports_cell('import seaborn as sns\\nimport plotly.express as px'); }\n",
       "    "
      ],
      "text/plain": [
       "<IPython.core.display.Javascript object>"
      ]
     },
     "metadata": {},
     "output_type": "display_data"
    },
    {
     "data": {
      "application/javascript": [
       "\n",
       "        if (window._pyforest_update_imports_cell) { window._pyforest_update_imports_cell('import seaborn as sns\\nimport plotly.express as px'); }\n",
       "    "
      ],
      "text/plain": [
       "<IPython.core.display.Javascript object>"
      ]
     },
     "metadata": {},
     "output_type": "display_data"
    },
    {
     "data": {
      "application/javascript": [
       "\n",
       "        if (window._pyforest_update_imports_cell) { window._pyforest_update_imports_cell('import seaborn as sns\\nimport plotly.express as px'); }\n",
       "    "
      ],
      "text/plain": [
       "<IPython.core.display.Javascript object>"
      ]
     },
     "metadata": {},
     "output_type": "display_data"
    },
    {
     "data": {
      "application/javascript": [
       "\n",
       "        if (window._pyforest_update_imports_cell) { window._pyforest_update_imports_cell('import seaborn as sns\\nimport plotly.express as px'); }\n",
       "    "
      ],
      "text/plain": [
       "<IPython.core.display.Javascript object>"
      ]
     },
     "metadata": {},
     "output_type": "display_data"
    },
    {
     "data": {
      "application/javascript": [
       "\n",
       "        if (window._pyforest_update_imports_cell) { window._pyforest_update_imports_cell('import seaborn as sns\\nimport plotly.express as px'); }\n",
       "    "
      ],
      "text/plain": [
       "<IPython.core.display.Javascript object>"
      ]
     },
     "metadata": {},
     "output_type": "display_data"
    },
    {
     "data": {
      "application/javascript": [
       "\n",
       "        if (window._pyforest_update_imports_cell) { window._pyforest_update_imports_cell('import seaborn as sns\\nimport plotly.express as px'); }\n",
       "    "
      ],
      "text/plain": [
       "<IPython.core.display.Javascript object>"
      ]
     },
     "metadata": {},
     "output_type": "display_data"
    },
    {
     "data": {
      "application/javascript": [
       "\n",
       "        if (window._pyforest_update_imports_cell) { window._pyforest_update_imports_cell('import seaborn as sns\\nimport plotly.express as px'); }\n",
       "    "
      ],
      "text/plain": [
       "<IPython.core.display.Javascript object>"
      ]
     },
     "metadata": {},
     "output_type": "display_data"
    },
    {
     "data": {
      "application/javascript": [
       "\n",
       "        if (window._pyforest_update_imports_cell) { window._pyforest_update_imports_cell('import seaborn as sns\\nimport plotly.express as px'); }\n",
       "    "
      ],
      "text/plain": [
       "<IPython.core.display.Javascript object>"
      ]
     },
     "metadata": {},
     "output_type": "display_data"
    },
    {
     "data": {
      "application/javascript": [
       "\n",
       "        if (window._pyforest_update_imports_cell) { window._pyforest_update_imports_cell('import seaborn as sns\\nimport plotly.express as px'); }\n",
       "    "
      ],
      "text/plain": [
       "<IPython.core.display.Javascript object>"
      ]
     },
     "metadata": {},
     "output_type": "display_data"
    },
    {
     "data": {
      "application/javascript": [
       "\n",
       "        if (window._pyforest_update_imports_cell) { window._pyforest_update_imports_cell('import seaborn as sns\\nimport plotly.express as px'); }\n",
       "    "
      ],
      "text/plain": [
       "<IPython.core.display.Javascript object>"
      ]
     },
     "metadata": {},
     "output_type": "display_data"
    },
    {
     "data": {
      "application/javascript": [
       "\n",
       "        if (window._pyforest_update_imports_cell) { window._pyforest_update_imports_cell('import seaborn as sns\\nimport plotly.express as px'); }\n",
       "    "
      ],
      "text/plain": [
       "<IPython.core.display.Javascript object>"
      ]
     },
     "metadata": {},
     "output_type": "display_data"
    },
    {
     "data": {
      "application/javascript": [
       "\n",
       "        if (window._pyforest_update_imports_cell) { window._pyforest_update_imports_cell('import seaborn as sns\\nimport plotly.express as px'); }\n",
       "    "
      ],
      "text/plain": [
       "<IPython.core.display.Javascript object>"
      ]
     },
     "metadata": {},
     "output_type": "display_data"
    },
    {
     "data": {
      "application/javascript": [
       "\n",
       "        if (window._pyforest_update_imports_cell) { window._pyforest_update_imports_cell('import seaborn as sns\\nimport plotly.express as px'); }\n",
       "    "
      ],
      "text/plain": [
       "<IPython.core.display.Javascript object>"
      ]
     },
     "metadata": {},
     "output_type": "display_data"
    },
    {
     "data": {
      "application/javascript": [
       "\n",
       "        if (window._pyforest_update_imports_cell) { window._pyforest_update_imports_cell('import seaborn as sns\\nimport plotly.express as px'); }\n",
       "    "
      ],
      "text/plain": [
       "<IPython.core.display.Javascript object>"
      ]
     },
     "metadata": {},
     "output_type": "display_data"
    },
    {
     "data": {
      "application/javascript": [
       "\n",
       "        if (window._pyforest_update_imports_cell) { window._pyforest_update_imports_cell('import seaborn as sns\\nimport plotly.express as px'); }\n",
       "    "
      ],
      "text/plain": [
       "<IPython.core.display.Javascript object>"
      ]
     },
     "metadata": {},
     "output_type": "display_data"
    },
    {
     "data": {
      "application/javascript": [
       "\n",
       "        if (window._pyforest_update_imports_cell) { window._pyforest_update_imports_cell('import seaborn as sns\\nimport plotly.express as px'); }\n",
       "    "
      ],
      "text/plain": [
       "<IPython.core.display.Javascript object>"
      ]
     },
     "metadata": {},
     "output_type": "display_data"
    },
    {
     "data": {
      "application/javascript": [
       "\n",
       "        if (window._pyforest_update_imports_cell) { window._pyforest_update_imports_cell('import seaborn as sns\\nimport plotly.express as px'); }\n",
       "    "
      ],
      "text/plain": [
       "<IPython.core.display.Javascript object>"
      ]
     },
     "metadata": {},
     "output_type": "display_data"
    },
    {
     "data": {
      "application/javascript": [
       "\n",
       "        if (window._pyforest_update_imports_cell) { window._pyforest_update_imports_cell('import seaborn as sns\\nimport plotly.express as px'); }\n",
       "    "
      ],
      "text/plain": [
       "<IPython.core.display.Javascript object>"
      ]
     },
     "metadata": {},
     "output_type": "display_data"
    },
    {
     "data": {
      "application/javascript": [
       "\n",
       "        if (window._pyforest_update_imports_cell) { window._pyforest_update_imports_cell('import seaborn as sns\\nimport plotly.express as px'); }\n",
       "    "
      ],
      "text/plain": [
       "<IPython.core.display.Javascript object>"
      ]
     },
     "metadata": {},
     "output_type": "display_data"
    },
    {
     "data": {
      "application/javascript": [
       "\n",
       "        if (window._pyforest_update_imports_cell) { window._pyforest_update_imports_cell('import seaborn as sns\\nimport plotly.express as px'); }\n",
       "    "
      ],
      "text/plain": [
       "<IPython.core.display.Javascript object>"
      ]
     },
     "metadata": {},
     "output_type": "display_data"
    },
    {
     "data": {
      "application/javascript": [
       "\n",
       "        if (window._pyforest_update_imports_cell) { window._pyforest_update_imports_cell('import seaborn as sns\\nimport plotly.express as px'); }\n",
       "    "
      ],
      "text/plain": [
       "<IPython.core.display.Javascript object>"
      ]
     },
     "metadata": {},
     "output_type": "display_data"
    },
    {
     "data": {
      "application/javascript": [
       "\n",
       "        if (window._pyforest_update_imports_cell) { window._pyforest_update_imports_cell('import seaborn as sns\\nimport plotly.express as px'); }\n",
       "    "
      ],
      "text/plain": [
       "<IPython.core.display.Javascript object>"
      ]
     },
     "metadata": {},
     "output_type": "display_data"
    },
    {
     "data": {
      "application/javascript": [
       "\n",
       "        if (window._pyforest_update_imports_cell) { window._pyforest_update_imports_cell('import seaborn as sns\\nimport plotly.express as px'); }\n",
       "    "
      ],
      "text/plain": [
       "<IPython.core.display.Javascript object>"
      ]
     },
     "metadata": {},
     "output_type": "display_data"
    },
    {
     "data": {
      "application/javascript": [
       "\n",
       "        if (window._pyforest_update_imports_cell) { window._pyforest_update_imports_cell('import seaborn as sns\\nimport plotly.express as px'); }\n",
       "    "
      ],
      "text/plain": [
       "<IPython.core.display.Javascript object>"
      ]
     },
     "metadata": {},
     "output_type": "display_data"
    },
    {
     "data": {
      "application/javascript": [
       "\n",
       "        if (window._pyforest_update_imports_cell) { window._pyforest_update_imports_cell('import seaborn as sns\\nimport plotly.express as px'); }\n",
       "    "
      ],
      "text/plain": [
       "<IPython.core.display.Javascript object>"
      ]
     },
     "metadata": {},
     "output_type": "display_data"
    },
    {
     "data": {
      "application/javascript": [
       "\n",
       "        if (window._pyforest_update_imports_cell) { window._pyforest_update_imports_cell('import seaborn as sns\\nimport plotly.express as px'); }\n",
       "    "
      ],
      "text/plain": [
       "<IPython.core.display.Javascript object>"
      ]
     },
     "metadata": {},
     "output_type": "display_data"
    },
    {
     "data": {
      "application/javascript": [
       "\n",
       "        if (window._pyforest_update_imports_cell) { window._pyforest_update_imports_cell('import seaborn as sns\\nimport plotly.express as px'); }\n",
       "    "
      ],
      "text/plain": [
       "<IPython.core.display.Javascript object>"
      ]
     },
     "metadata": {},
     "output_type": "display_data"
    },
    {
     "data": {
      "application/javascript": [
       "\n",
       "        if (window._pyforest_update_imports_cell) { window._pyforest_update_imports_cell('import seaborn as sns\\nimport plotly.express as px'); }\n",
       "    "
      ],
      "text/plain": [
       "<IPython.core.display.Javascript object>"
      ]
     },
     "metadata": {},
     "output_type": "display_data"
    },
    {
     "data": {
      "application/javascript": [
       "\n",
       "        if (window._pyforest_update_imports_cell) { window._pyforest_update_imports_cell('import seaborn as sns\\nimport plotly.express as px'); }\n",
       "    "
      ],
      "text/plain": [
       "<IPython.core.display.Javascript object>"
      ]
     },
     "metadata": {},
     "output_type": "display_data"
    },
    {
     "data": {
      "application/javascript": [
       "\n",
       "        if (window._pyforest_update_imports_cell) { window._pyforest_update_imports_cell('import seaborn as sns\\nimport plotly.express as px'); }\n",
       "    "
      ],
      "text/plain": [
       "<IPython.core.display.Javascript object>"
      ]
     },
     "metadata": {},
     "output_type": "display_data"
    },
    {
     "data": {
      "application/javascript": [
       "\n",
       "        if (window._pyforest_update_imports_cell) { window._pyforest_update_imports_cell('import seaborn as sns\\nimport plotly.express as px'); }\n",
       "    "
      ],
      "text/plain": [
       "<IPython.core.display.Javascript object>"
      ]
     },
     "metadata": {},
     "output_type": "display_data"
    },
    {
     "data": {
      "application/javascript": [
       "\n",
       "        if (window._pyforest_update_imports_cell) { window._pyforest_update_imports_cell('import seaborn as sns\\nimport plotly.express as px'); }\n",
       "    "
      ],
      "text/plain": [
       "<IPython.core.display.Javascript object>"
      ]
     },
     "metadata": {},
     "output_type": "display_data"
    },
    {
     "data": {
      "application/javascript": [
       "\n",
       "        if (window._pyforest_update_imports_cell) { window._pyforest_update_imports_cell('import seaborn as sns\\nimport plotly.express as px'); }\n",
       "    "
      ],
      "text/plain": [
       "<IPython.core.display.Javascript object>"
      ]
     },
     "metadata": {},
     "output_type": "display_data"
    },
    {
     "data": {
      "application/javascript": [
       "\n",
       "        if (window._pyforest_update_imports_cell) { window._pyforest_update_imports_cell('import seaborn as sns\\nimport plotly.express as px'); }\n",
       "    "
      ],
      "text/plain": [
       "<IPython.core.display.Javascript object>"
      ]
     },
     "metadata": {},
     "output_type": "display_data"
    },
    {
     "data": {
      "application/javascript": [
       "\n",
       "        if (window._pyforest_update_imports_cell) { window._pyforest_update_imports_cell('import seaborn as sns\\nimport plotly.express as px'); }\n",
       "    "
      ],
      "text/plain": [
       "<IPython.core.display.Javascript object>"
      ]
     },
     "metadata": {},
     "output_type": "display_data"
    },
    {
     "data": {
      "application/javascript": [
       "\n",
       "        if (window._pyforest_update_imports_cell) { window._pyforest_update_imports_cell('import seaborn as sns\\nimport plotly.express as px'); }\n",
       "    "
      ],
      "text/plain": [
       "<IPython.core.display.Javascript object>"
      ]
     },
     "metadata": {},
     "output_type": "display_data"
    },
    {
     "data": {
      "application/javascript": [
       "\n",
       "        if (window._pyforest_update_imports_cell) { window._pyforest_update_imports_cell('import seaborn as sns\\nimport plotly.express as px'); }\n",
       "    "
      ],
      "text/plain": [
       "<IPython.core.display.Javascript object>"
      ]
     },
     "metadata": {},
     "output_type": "display_data"
    },
    {
     "data": {
      "application/javascript": [
       "\n",
       "        if (window._pyforest_update_imports_cell) { window._pyforest_update_imports_cell('import seaborn as sns\\nimport plotly.express as px'); }\n",
       "    "
      ],
      "text/plain": [
       "<IPython.core.display.Javascript object>"
      ]
     },
     "metadata": {},
     "output_type": "display_data"
    },
    {
     "data": {
      "application/javascript": [
       "\n",
       "        if (window._pyforest_update_imports_cell) { window._pyforest_update_imports_cell('import seaborn as sns\\nimport plotly.express as px'); }\n",
       "    "
      ],
      "text/plain": [
       "<IPython.core.display.Javascript object>"
      ]
     },
     "metadata": {},
     "output_type": "display_data"
    },
    {
     "data": {
      "application/javascript": [
       "\n",
       "        if (window._pyforest_update_imports_cell) { window._pyforest_update_imports_cell('import seaborn as sns\\nimport plotly.express as px'); }\n",
       "    "
      ],
      "text/plain": [
       "<IPython.core.display.Javascript object>"
      ]
     },
     "metadata": {},
     "output_type": "display_data"
    },
    {
     "data": {
      "application/javascript": [
       "\n",
       "        if (window._pyforest_update_imports_cell) { window._pyforest_update_imports_cell('import seaborn as sns\\nimport plotly.express as px'); }\n",
       "    "
      ],
      "text/plain": [
       "<IPython.core.display.Javascript object>"
      ]
     },
     "metadata": {},
     "output_type": "display_data"
    },
    {
     "data": {
      "application/javascript": [
       "\n",
       "        if (window._pyforest_update_imports_cell) { window._pyforest_update_imports_cell('import seaborn as sns\\nimport plotly.express as px'); }\n",
       "    "
      ],
      "text/plain": [
       "<IPython.core.display.Javascript object>"
      ]
     },
     "metadata": {},
     "output_type": "display_data"
    },
    {
     "data": {
      "application/javascript": [
       "\n",
       "        if (window._pyforest_update_imports_cell) { window._pyforest_update_imports_cell('import seaborn as sns\\nimport plotly.express as px'); }\n",
       "    "
      ],
      "text/plain": [
       "<IPython.core.display.Javascript object>"
      ]
     },
     "metadata": {},
     "output_type": "display_data"
    },
    {
     "data": {
      "application/javascript": [
       "\n",
       "        if (window._pyforest_update_imports_cell) { window._pyforest_update_imports_cell('import seaborn as sns\\nimport plotly.express as px'); }\n",
       "    "
      ],
      "text/plain": [
       "<IPython.core.display.Javascript object>"
      ]
     },
     "metadata": {},
     "output_type": "display_data"
    },
    {
     "data": {
      "application/javascript": [
       "\n",
       "        if (window._pyforest_update_imports_cell) { window._pyforest_update_imports_cell('import seaborn as sns\\nimport plotly.express as px'); }\n",
       "    "
      ],
      "text/plain": [
       "<IPython.core.display.Javascript object>"
      ]
     },
     "metadata": {},
     "output_type": "display_data"
    },
    {
     "data": {
      "application/javascript": [
       "\n",
       "        if (window._pyforest_update_imports_cell) { window._pyforest_update_imports_cell('import seaborn as sns\\nimport plotly.express as px'); }\n",
       "    "
      ],
      "text/plain": [
       "<IPython.core.display.Javascript object>"
      ]
     },
     "metadata": {},
     "output_type": "display_data"
    },
    {
     "data": {
      "application/javascript": [
       "\n",
       "        if (window._pyforest_update_imports_cell) { window._pyforest_update_imports_cell('import seaborn as sns\\nimport plotly.express as px'); }\n",
       "    "
      ],
      "text/plain": [
       "<IPython.core.display.Javascript object>"
      ]
     },
     "metadata": {},
     "output_type": "display_data"
    },
    {
     "data": {
      "application/javascript": [
       "\n",
       "        if (window._pyforest_update_imports_cell) { window._pyforest_update_imports_cell('import seaborn as sns\\nimport plotly.express as px'); }\n",
       "    "
      ],
      "text/plain": [
       "<IPython.core.display.Javascript object>"
      ]
     },
     "metadata": {},
     "output_type": "display_data"
    },
    {
     "data": {
      "application/javascript": [
       "\n",
       "        if (window._pyforest_update_imports_cell) { window._pyforest_update_imports_cell('import seaborn as sns\\nimport plotly.express as px'); }\n",
       "    "
      ],
      "text/plain": [
       "<IPython.core.display.Javascript object>"
      ]
     },
     "metadata": {},
     "output_type": "display_data"
    },
    {
     "data": {
      "application/javascript": [
       "\n",
       "        if (window._pyforest_update_imports_cell) { window._pyforest_update_imports_cell('import seaborn as sns\\nimport plotly.express as px'); }\n",
       "    "
      ],
      "text/plain": [
       "<IPython.core.display.Javascript object>"
      ]
     },
     "metadata": {},
     "output_type": "display_data"
    },
    {
     "data": {
      "application/javascript": [
       "\n",
       "        if (window._pyforest_update_imports_cell) { window._pyforest_update_imports_cell('import seaborn as sns\\nimport plotly.express as px'); }\n",
       "    "
      ],
      "text/plain": [
       "<IPython.core.display.Javascript object>"
      ]
     },
     "metadata": {},
     "output_type": "display_data"
    },
    {
     "data": {
      "application/javascript": [
       "\n",
       "        if (window._pyforest_update_imports_cell) { window._pyforest_update_imports_cell('import seaborn as sns\\nimport plotly.express as px'); }\n",
       "    "
      ],
      "text/plain": [
       "<IPython.core.display.Javascript object>"
      ]
     },
     "metadata": {},
     "output_type": "display_data"
    },
    {
     "data": {
      "application/javascript": [
       "\n",
       "        if (window._pyforest_update_imports_cell) { window._pyforest_update_imports_cell('import seaborn as sns\\nimport plotly.express as px'); }\n",
       "    "
      ],
      "text/plain": [
       "<IPython.core.display.Javascript object>"
      ]
     },
     "metadata": {},
     "output_type": "display_data"
    },
    {
     "data": {
      "application/javascript": [
       "\n",
       "        if (window._pyforest_update_imports_cell) { window._pyforest_update_imports_cell('import seaborn as sns\\nimport plotly.express as px'); }\n",
       "    "
      ],
      "text/plain": [
       "<IPython.core.display.Javascript object>"
      ]
     },
     "metadata": {},
     "output_type": "display_data"
    },
    {
     "data": {
      "application/javascript": [
       "\n",
       "        if (window._pyforest_update_imports_cell) { window._pyforest_update_imports_cell('import seaborn as sns\\nimport plotly.express as px'); }\n",
       "    "
      ],
      "text/plain": [
       "<IPython.core.display.Javascript object>"
      ]
     },
     "metadata": {},
     "output_type": "display_data"
    },
    {
     "data": {
      "application/javascript": [
       "\n",
       "        if (window._pyforest_update_imports_cell) { window._pyforest_update_imports_cell('import seaborn as sns\\nimport plotly.express as px'); }\n",
       "    "
      ],
      "text/plain": [
       "<IPython.core.display.Javascript object>"
      ]
     },
     "metadata": {},
     "output_type": "display_data"
    },
    {
     "data": {
      "application/javascript": [
       "\n",
       "        if (window._pyforest_update_imports_cell) { window._pyforest_update_imports_cell('import seaborn as sns\\nimport plotly.express as px'); }\n",
       "    "
      ],
      "text/plain": [
       "<IPython.core.display.Javascript object>"
      ]
     },
     "metadata": {},
     "output_type": "display_data"
    },
    {
     "data": {
      "application/javascript": [
       "\n",
       "        if (window._pyforest_update_imports_cell) { window._pyforest_update_imports_cell('import seaborn as sns\\nimport plotly.express as px'); }\n",
       "    "
      ],
      "text/plain": [
       "<IPython.core.display.Javascript object>"
      ]
     },
     "metadata": {},
     "output_type": "display_data"
    },
    {
     "data": {
      "application/javascript": [
       "\n",
       "        if (window._pyforest_update_imports_cell) { window._pyforest_update_imports_cell('import seaborn as sns\\nimport plotly.express as px'); }\n",
       "    "
      ],
      "text/plain": [
       "<IPython.core.display.Javascript object>"
      ]
     },
     "metadata": {},
     "output_type": "display_data"
    },
    {
     "data": {
      "application/javascript": [
       "\n",
       "        if (window._pyforest_update_imports_cell) { window._pyforest_update_imports_cell('import seaborn as sns\\nimport plotly.express as px'); }\n",
       "    "
      ],
      "text/plain": [
       "<IPython.core.display.Javascript object>"
      ]
     },
     "metadata": {},
     "output_type": "display_data"
    },
    {
     "data": {
      "application/javascript": [
       "\n",
       "        if (window._pyforest_update_imports_cell) { window._pyforest_update_imports_cell('import seaborn as sns\\nimport plotly.express as px'); }\n",
       "    "
      ],
      "text/plain": [
       "<IPython.core.display.Javascript object>"
      ]
     },
     "metadata": {},
     "output_type": "display_data"
    },
    {
     "data": {
      "application/javascript": [
       "\n",
       "        if (window._pyforest_update_imports_cell) { window._pyforest_update_imports_cell('import seaborn as sns\\nimport plotly.express as px'); }\n",
       "    "
      ],
      "text/plain": [
       "<IPython.core.display.Javascript object>"
      ]
     },
     "metadata": {},
     "output_type": "display_data"
    },
    {
     "data": {
      "application/javascript": [
       "\n",
       "        if (window._pyforest_update_imports_cell) { window._pyforest_update_imports_cell('import seaborn as sns\\nimport plotly.express as px'); }\n",
       "    "
      ],
      "text/plain": [
       "<IPython.core.display.Javascript object>"
      ]
     },
     "metadata": {},
     "output_type": "display_data"
    },
    {
     "data": {
      "application/javascript": [
       "\n",
       "        if (window._pyforest_update_imports_cell) { window._pyforest_update_imports_cell('import seaborn as sns\\nimport plotly.express as px'); }\n",
       "    "
      ],
      "text/plain": [
       "<IPython.core.display.Javascript object>"
      ]
     },
     "metadata": {},
     "output_type": "display_data"
    },
    {
     "data": {
      "application/javascript": [
       "\n",
       "        if (window._pyforest_update_imports_cell) { window._pyforest_update_imports_cell('import seaborn as sns\\nimport plotly.express as px'); }\n",
       "    "
      ],
      "text/plain": [
       "<IPython.core.display.Javascript object>"
      ]
     },
     "metadata": {},
     "output_type": "display_data"
    },
    {
     "data": {
      "application/javascript": [
       "\n",
       "        if (window._pyforest_update_imports_cell) { window._pyforest_update_imports_cell('import seaborn as sns\\nimport plotly.express as px'); }\n",
       "    "
      ],
      "text/plain": [
       "<IPython.core.display.Javascript object>"
      ]
     },
     "metadata": {},
     "output_type": "display_data"
    },
    {
     "data": {
      "application/javascript": [
       "\n",
       "        if (window._pyforest_update_imports_cell) { window._pyforest_update_imports_cell('import seaborn as sns\\nimport plotly.express as px'); }\n",
       "    "
      ],
      "text/plain": [
       "<IPython.core.display.Javascript object>"
      ]
     },
     "metadata": {},
     "output_type": "display_data"
    },
    {
     "data": {
      "application/javascript": [
       "\n",
       "        if (window._pyforest_update_imports_cell) { window._pyforest_update_imports_cell('import seaborn as sns\\nimport plotly.express as px'); }\n",
       "    "
      ],
      "text/plain": [
       "<IPython.core.display.Javascript object>"
      ]
     },
     "metadata": {},
     "output_type": "display_data"
    },
    {
     "data": {
      "application/javascript": [
       "\n",
       "        if (window._pyforest_update_imports_cell) { window._pyforest_update_imports_cell('import seaborn as sns\\nimport plotly.express as px'); }\n",
       "    "
      ],
      "text/plain": [
       "<IPython.core.display.Javascript object>"
      ]
     },
     "metadata": {},
     "output_type": "display_data"
    },
    {
     "data": {
      "application/javascript": [
       "\n",
       "        if (window._pyforest_update_imports_cell) { window._pyforest_update_imports_cell('import seaborn as sns\\nimport plotly.express as px'); }\n",
       "    "
      ],
      "text/plain": [
       "<IPython.core.display.Javascript object>"
      ]
     },
     "metadata": {},
     "output_type": "display_data"
    },
    {
     "data": {
      "application/javascript": [
       "\n",
       "        if (window._pyforest_update_imports_cell) { window._pyforest_update_imports_cell('import seaborn as sns\\nimport plotly.express as px'); }\n",
       "    "
      ],
      "text/plain": [
       "<IPython.core.display.Javascript object>"
      ]
     },
     "metadata": {},
     "output_type": "display_data"
    },
    {
     "data": {
      "application/javascript": [
       "\n",
       "        if (window._pyforest_update_imports_cell) { window._pyforest_update_imports_cell('import seaborn as sns\\nimport plotly.express as px'); }\n",
       "    "
      ],
      "text/plain": [
       "<IPython.core.display.Javascript object>"
      ]
     },
     "metadata": {},
     "output_type": "display_data"
    },
    {
     "data": {
      "application/javascript": [
       "\n",
       "        if (window._pyforest_update_imports_cell) { window._pyforest_update_imports_cell('import seaborn as sns\\nimport plotly.express as px'); }\n",
       "    "
      ],
      "text/plain": [
       "<IPython.core.display.Javascript object>"
      ]
     },
     "metadata": {},
     "output_type": "display_data"
    },
    {
     "data": {
      "application/javascript": [
       "\n",
       "        if (window._pyforest_update_imports_cell) { window._pyforest_update_imports_cell('import seaborn as sns\\nimport plotly.express as px'); }\n",
       "    "
      ],
      "text/plain": [
       "<IPython.core.display.Javascript object>"
      ]
     },
     "metadata": {},
     "output_type": "display_data"
    },
    {
     "data": {
      "application/javascript": [
       "\n",
       "        if (window._pyforest_update_imports_cell) { window._pyforest_update_imports_cell('import seaborn as sns\\nimport plotly.express as px'); }\n",
       "    "
      ],
      "text/plain": [
       "<IPython.core.display.Javascript object>"
      ]
     },
     "metadata": {},
     "output_type": "display_data"
    },
    {
     "data": {
      "application/javascript": [
       "\n",
       "        if (window._pyforest_update_imports_cell) { window._pyforest_update_imports_cell('import seaborn as sns\\nimport plotly.express as px'); }\n",
       "    "
      ],
      "text/plain": [
       "<IPython.core.display.Javascript object>"
      ]
     },
     "metadata": {},
     "output_type": "display_data"
    },
    {
     "data": {
      "application/javascript": [
       "\n",
       "        if (window._pyforest_update_imports_cell) { window._pyforest_update_imports_cell('import seaborn as sns\\nimport plotly.express as px'); }\n",
       "    "
      ],
      "text/plain": [
       "<IPython.core.display.Javascript object>"
      ]
     },
     "metadata": {},
     "output_type": "display_data"
    },
    {
     "data": {
      "application/javascript": [
       "\n",
       "        if (window._pyforest_update_imports_cell) { window._pyforest_update_imports_cell('import seaborn as sns\\nimport plotly.express as px'); }\n",
       "    "
      ],
      "text/plain": [
       "<IPython.core.display.Javascript object>"
      ]
     },
     "metadata": {},
     "output_type": "display_data"
    },
    {
     "data": {
      "application/javascript": [
       "\n",
       "        if (window._pyforest_update_imports_cell) { window._pyforest_update_imports_cell('import seaborn as sns\\nimport plotly.express as px'); }\n",
       "    "
      ],
      "text/plain": [
       "<IPython.core.display.Javascript object>"
      ]
     },
     "metadata": {},
     "output_type": "display_data"
    },
    {
     "data": {
      "application/javascript": [
       "\n",
       "        if (window._pyforest_update_imports_cell) { window._pyforest_update_imports_cell('import seaborn as sns\\nimport plotly.express as px'); }\n",
       "    "
      ],
      "text/plain": [
       "<IPython.core.display.Javascript object>"
      ]
     },
     "metadata": {},
     "output_type": "display_data"
    },
    {
     "data": {
      "application/javascript": [
       "\n",
       "        if (window._pyforest_update_imports_cell) { window._pyforest_update_imports_cell('import seaborn as sns\\nimport plotly.express as px'); }\n",
       "    "
      ],
      "text/plain": [
       "<IPython.core.display.Javascript object>"
      ]
     },
     "metadata": {},
     "output_type": "display_data"
    },
    {
     "data": {
      "application/javascript": [
       "\n",
       "        if (window._pyforest_update_imports_cell) { window._pyforest_update_imports_cell('import seaborn as sns\\nimport plotly.express as px'); }\n",
       "    "
      ],
      "text/plain": [
       "<IPython.core.display.Javascript object>"
      ]
     },
     "metadata": {},
     "output_type": "display_data"
    },
    {
     "data": {
      "application/javascript": [
       "\n",
       "        if (window._pyforest_update_imports_cell) { window._pyforest_update_imports_cell('import seaborn as sns\\nimport plotly.express as px'); }\n",
       "    "
      ],
      "text/plain": [
       "<IPython.core.display.Javascript object>"
      ]
     },
     "metadata": {},
     "output_type": "display_data"
    },
    {
     "data": {
      "application/javascript": [
       "\n",
       "        if (window._pyforest_update_imports_cell) { window._pyforest_update_imports_cell('import seaborn as sns\\nimport plotly.express as px'); }\n",
       "    "
      ],
      "text/plain": [
       "<IPython.core.display.Javascript object>"
      ]
     },
     "metadata": {},
     "output_type": "display_data"
    },
    {
     "data": {
      "application/javascript": [
       "\n",
       "        if (window._pyforest_update_imports_cell) { window._pyforest_update_imports_cell('import seaborn as sns\\nimport plotly.express as px'); }\n",
       "    "
      ],
      "text/plain": [
       "<IPython.core.display.Javascript object>"
      ]
     },
     "metadata": {},
     "output_type": "display_data"
    },
    {
     "data": {
      "application/javascript": [
       "\n",
       "        if (window._pyforest_update_imports_cell) { window._pyforest_update_imports_cell('import seaborn as sns\\nimport plotly.express as px'); }\n",
       "    "
      ],
      "text/plain": [
       "<IPython.core.display.Javascript object>"
      ]
     },
     "metadata": {},
     "output_type": "display_data"
    },
    {
     "data": {
      "application/javascript": [
       "\n",
       "        if (window._pyforest_update_imports_cell) { window._pyforest_update_imports_cell('import seaborn as sns\\nimport plotly.express as px'); }\n",
       "    "
      ],
      "text/plain": [
       "<IPython.core.display.Javascript object>"
      ]
     },
     "metadata": {},
     "output_type": "display_data"
    },
    {
     "data": {
      "application/javascript": [
       "\n",
       "        if (window._pyforest_update_imports_cell) { window._pyforest_update_imports_cell('import seaborn as sns\\nimport plotly.express as px'); }\n",
       "    "
      ],
      "text/plain": [
       "<IPython.core.display.Javascript object>"
      ]
     },
     "metadata": {},
     "output_type": "display_data"
    },
    {
     "data": {
      "application/javascript": [
       "\n",
       "        if (window._pyforest_update_imports_cell) { window._pyforest_update_imports_cell('import seaborn as sns\\nimport plotly.express as px'); }\n",
       "    "
      ],
      "text/plain": [
       "<IPython.core.display.Javascript object>"
      ]
     },
     "metadata": {},
     "output_type": "display_data"
    },
    {
     "data": {
      "application/javascript": [
       "\n",
       "        if (window._pyforest_update_imports_cell) { window._pyforest_update_imports_cell('import seaborn as sns\\nimport plotly.express as px'); }\n",
       "    "
      ],
      "text/plain": [
       "<IPython.core.display.Javascript object>"
      ]
     },
     "metadata": {},
     "output_type": "display_data"
    },
    {
     "data": {
      "application/javascript": [
       "\n",
       "        if (window._pyforest_update_imports_cell) { window._pyforest_update_imports_cell('import seaborn as sns\\nimport plotly.express as px'); }\n",
       "    "
      ],
      "text/plain": [
       "<IPython.core.display.Javascript object>"
      ]
     },
     "metadata": {},
     "output_type": "display_data"
    },
    {
     "data": {
      "application/javascript": [
       "\n",
       "        if (window._pyforest_update_imports_cell) { window._pyforest_update_imports_cell('import seaborn as sns\\nimport plotly.express as px'); }\n",
       "    "
      ],
      "text/plain": [
       "<IPython.core.display.Javascript object>"
      ]
     },
     "metadata": {},
     "output_type": "display_data"
    },
    {
     "data": {
      "application/javascript": [
       "\n",
       "        if (window._pyforest_update_imports_cell) { window._pyforest_update_imports_cell('import seaborn as sns\\nimport plotly.express as px'); }\n",
       "    "
      ],
      "text/plain": [
       "<IPython.core.display.Javascript object>"
      ]
     },
     "metadata": {},
     "output_type": "display_data"
    },
    {
     "data": {
      "application/javascript": [
       "\n",
       "        if (window._pyforest_update_imports_cell) { window._pyforest_update_imports_cell('import seaborn as sns\\nimport plotly.express as px'); }\n",
       "    "
      ],
      "text/plain": [
       "<IPython.core.display.Javascript object>"
      ]
     },
     "metadata": {},
     "output_type": "display_data"
    },
    {
     "data": {
      "application/javascript": [
       "\n",
       "        if (window._pyforest_update_imports_cell) { window._pyforest_update_imports_cell('import seaborn as sns\\nimport plotly.express as px'); }\n",
       "    "
      ],
      "text/plain": [
       "<IPython.core.display.Javascript object>"
      ]
     },
     "metadata": {},
     "output_type": "display_data"
    },
    {
     "data": {
      "application/javascript": [
       "\n",
       "        if (window._pyforest_update_imports_cell) { window._pyforest_update_imports_cell('import seaborn as sns\\nimport plotly.express as px'); }\n",
       "    "
      ],
      "text/plain": [
       "<IPython.core.display.Javascript object>"
      ]
     },
     "metadata": {},
     "output_type": "display_data"
    },
    {
     "data": {
      "application/javascript": [
       "\n",
       "        if (window._pyforest_update_imports_cell) { window._pyforest_update_imports_cell('import seaborn as sns\\nimport plotly.express as px'); }\n",
       "    "
      ],
      "text/plain": [
       "<IPython.core.display.Javascript object>"
      ]
     },
     "metadata": {},
     "output_type": "display_data"
    },
    {
     "data": {
      "application/javascript": [
       "\n",
       "        if (window._pyforest_update_imports_cell) { window._pyforest_update_imports_cell('import seaborn as sns\\nimport plotly.express as px'); }\n",
       "    "
      ],
      "text/plain": [
       "<IPython.core.display.Javascript object>"
      ]
     },
     "metadata": {},
     "output_type": "display_data"
    },
    {
     "data": {
      "application/javascript": [
       "\n",
       "        if (window._pyforest_update_imports_cell) { window._pyforest_update_imports_cell('import seaborn as sns\\nimport plotly.express as px'); }\n",
       "    "
      ],
      "text/plain": [
       "<IPython.core.display.Javascript object>"
      ]
     },
     "metadata": {},
     "output_type": "display_data"
    },
    {
     "data": {
      "application/javascript": [
       "\n",
       "        if (window._pyforest_update_imports_cell) { window._pyforest_update_imports_cell('import seaborn as sns\\nimport plotly.express as px'); }\n",
       "    "
      ],
      "text/plain": [
       "<IPython.core.display.Javascript object>"
      ]
     },
     "metadata": {},
     "output_type": "display_data"
    },
    {
     "data": {
      "application/javascript": [
       "\n",
       "        if (window._pyforest_update_imports_cell) { window._pyforest_update_imports_cell('import seaborn as sns\\nimport plotly.express as px'); }\n",
       "    "
      ],
      "text/plain": [
       "<IPython.core.display.Javascript object>"
      ]
     },
     "metadata": {},
     "output_type": "display_data"
    },
    {
     "data": {
      "application/javascript": [
       "\n",
       "        if (window._pyforest_update_imports_cell) { window._pyforest_update_imports_cell('import seaborn as sns\\nimport plotly.express as px'); }\n",
       "    "
      ],
      "text/plain": [
       "<IPython.core.display.Javascript object>"
      ]
     },
     "metadata": {},
     "output_type": "display_data"
    },
    {
     "data": {
      "application/javascript": [
       "\n",
       "        if (window._pyforest_update_imports_cell) { window._pyforest_update_imports_cell('import seaborn as sns\\nimport plotly.express as px'); }\n",
       "    "
      ],
      "text/plain": [
       "<IPython.core.display.Javascript object>"
      ]
     },
     "metadata": {},
     "output_type": "display_data"
    },
    {
     "data": {
      "application/javascript": [
       "\n",
       "        if (window._pyforest_update_imports_cell) { window._pyforest_update_imports_cell('import seaborn as sns\\nimport plotly.express as px'); }\n",
       "    "
      ],
      "text/plain": [
       "<IPython.core.display.Javascript object>"
      ]
     },
     "metadata": {},
     "output_type": "display_data"
    },
    {
     "data": {
      "application/javascript": [
       "\n",
       "        if (window._pyforest_update_imports_cell) { window._pyforest_update_imports_cell('import seaborn as sns\\nimport plotly.express as px'); }\n",
       "    "
      ],
      "text/plain": [
       "<IPython.core.display.Javascript object>"
      ]
     },
     "metadata": {},
     "output_type": "display_data"
    },
    {
     "data": {
      "application/javascript": [
       "\n",
       "        if (window._pyforest_update_imports_cell) { window._pyforest_update_imports_cell('import seaborn as sns\\nimport plotly.express as px'); }\n",
       "    "
      ],
      "text/plain": [
       "<IPython.core.display.Javascript object>"
      ]
     },
     "metadata": {},
     "output_type": "display_data"
    },
    {
     "data": {
      "application/javascript": [
       "\n",
       "        if (window._pyforest_update_imports_cell) { window._pyforest_update_imports_cell('import seaborn as sns\\nimport plotly.express as px'); }\n",
       "    "
      ],
      "text/plain": [
       "<IPython.core.display.Javascript object>"
      ]
     },
     "metadata": {},
     "output_type": "display_data"
    },
    {
     "data": {
      "application/javascript": [
       "\n",
       "        if (window._pyforest_update_imports_cell) { window._pyforest_update_imports_cell('import seaborn as sns\\nimport plotly.express as px'); }\n",
       "    "
      ],
      "text/plain": [
       "<IPython.core.display.Javascript object>"
      ]
     },
     "metadata": {},
     "output_type": "display_data"
    },
    {
     "data": {
      "application/javascript": [
       "\n",
       "        if (window._pyforest_update_imports_cell) { window._pyforest_update_imports_cell('import seaborn as sns\\nimport plotly.express as px'); }\n",
       "    "
      ],
      "text/plain": [
       "<IPython.core.display.Javascript object>"
      ]
     },
     "metadata": {},
     "output_type": "display_data"
    },
    {
     "data": {
      "application/javascript": [
       "\n",
       "        if (window._pyforest_update_imports_cell) { window._pyforest_update_imports_cell('import seaborn as sns\\nimport plotly.express as px'); }\n",
       "    "
      ],
      "text/plain": [
       "<IPython.core.display.Javascript object>"
      ]
     },
     "metadata": {},
     "output_type": "display_data"
    },
    {
     "data": {
      "application/javascript": [
       "\n",
       "        if (window._pyforest_update_imports_cell) { window._pyforest_update_imports_cell('import seaborn as sns\\nimport plotly.express as px'); }\n",
       "    "
      ],
      "text/plain": [
       "<IPython.core.display.Javascript object>"
      ]
     },
     "metadata": {},
     "output_type": "display_data"
    },
    {
     "data": {
      "application/javascript": [
       "\n",
       "        if (window._pyforest_update_imports_cell) { window._pyforest_update_imports_cell('import seaborn as sns\\nimport plotly.express as px'); }\n",
       "    "
      ],
      "text/plain": [
       "<IPython.core.display.Javascript object>"
      ]
     },
     "metadata": {},
     "output_type": "display_data"
    },
    {
     "data": {
      "application/javascript": [
       "\n",
       "        if (window._pyforest_update_imports_cell) { window._pyforest_update_imports_cell('import seaborn as sns\\nimport plotly.express as px'); }\n",
       "    "
      ],
      "text/plain": [
       "<IPython.core.display.Javascript object>"
      ]
     },
     "metadata": {},
     "output_type": "display_data"
    },
    {
     "data": {
      "application/javascript": [
       "\n",
       "        if (window._pyforest_update_imports_cell) { window._pyforest_update_imports_cell('import seaborn as sns\\nimport plotly.express as px'); }\n",
       "    "
      ],
      "text/plain": [
       "<IPython.core.display.Javascript object>"
      ]
     },
     "metadata": {},
     "output_type": "display_data"
    },
    {
     "data": {
      "application/javascript": [
       "\n",
       "        if (window._pyforest_update_imports_cell) { window._pyforest_update_imports_cell('import seaborn as sns\\nimport plotly.express as px'); }\n",
       "    "
      ],
      "text/plain": [
       "<IPython.core.display.Javascript object>"
      ]
     },
     "metadata": {},
     "output_type": "display_data"
    },
    {
     "data": {
      "application/javascript": [
       "\n",
       "        if (window._pyforest_update_imports_cell) { window._pyforest_update_imports_cell('import seaborn as sns\\nimport plotly.express as px'); }\n",
       "    "
      ],
      "text/plain": [
       "<IPython.core.display.Javascript object>"
      ]
     },
     "metadata": {},
     "output_type": "display_data"
    },
    {
     "data": {
      "application/javascript": [
       "\n",
       "        if (window._pyforest_update_imports_cell) { window._pyforest_update_imports_cell('import seaborn as sns\\nimport plotly.express as px'); }\n",
       "    "
      ],
      "text/plain": [
       "<IPython.core.display.Javascript object>"
      ]
     },
     "metadata": {},
     "output_type": "display_data"
    },
    {
     "data": {
      "application/javascript": [
       "\n",
       "        if (window._pyforest_update_imports_cell) { window._pyforest_update_imports_cell('import seaborn as sns\\nimport plotly.express as px'); }\n",
       "    "
      ],
      "text/plain": [
       "<IPython.core.display.Javascript object>"
      ]
     },
     "metadata": {},
     "output_type": "display_data"
    },
    {
     "data": {
      "application/javascript": [
       "\n",
       "        if (window._pyforest_update_imports_cell) { window._pyforest_update_imports_cell('import seaborn as sns\\nimport plotly.express as px'); }\n",
       "    "
      ],
      "text/plain": [
       "<IPython.core.display.Javascript object>"
      ]
     },
     "metadata": {},
     "output_type": "display_data"
    },
    {
     "data": {
      "application/javascript": [
       "\n",
       "        if (window._pyforest_update_imports_cell) { window._pyforest_update_imports_cell('import seaborn as sns\\nimport plotly.express as px'); }\n",
       "    "
      ],
      "text/plain": [
       "<IPython.core.display.Javascript object>"
      ]
     },
     "metadata": {},
     "output_type": "display_data"
    },
    {
     "data": {
      "application/javascript": [
       "\n",
       "        if (window._pyforest_update_imports_cell) { window._pyforest_update_imports_cell('import seaborn as sns\\nimport plotly.express as px'); }\n",
       "    "
      ],
      "text/plain": [
       "<IPython.core.display.Javascript object>"
      ]
     },
     "metadata": {},
     "output_type": "display_data"
    },
    {
     "data": {
      "application/javascript": [
       "\n",
       "        if (window._pyforest_update_imports_cell) { window._pyforest_update_imports_cell('import seaborn as sns\\nimport plotly.express as px'); }\n",
       "    "
      ],
      "text/plain": [
       "<IPython.core.display.Javascript object>"
      ]
     },
     "metadata": {},
     "output_type": "display_data"
    },
    {
     "data": {
      "application/javascript": [
       "\n",
       "        if (window._pyforest_update_imports_cell) { window._pyforest_update_imports_cell('import seaborn as sns\\nimport plotly.express as px'); }\n",
       "    "
      ],
      "text/plain": [
       "<IPython.core.display.Javascript object>"
      ]
     },
     "metadata": {},
     "output_type": "display_data"
    },
    {
     "data": {
      "application/javascript": [
       "\n",
       "        if (window._pyforest_update_imports_cell) { window._pyforest_update_imports_cell('import seaborn as sns\\nimport plotly.express as px'); }\n",
       "    "
      ],
      "text/plain": [
       "<IPython.core.display.Javascript object>"
      ]
     },
     "metadata": {},
     "output_type": "display_data"
    },
    {
     "data": {
      "application/javascript": [
       "\n",
       "        if (window._pyforest_update_imports_cell) { window._pyforest_update_imports_cell('import seaborn as sns\\nimport plotly.express as px'); }\n",
       "    "
      ],
      "text/plain": [
       "<IPython.core.display.Javascript object>"
      ]
     },
     "metadata": {},
     "output_type": "display_data"
    },
    {
     "data": {
      "application/javascript": [
       "\n",
       "        if (window._pyforest_update_imports_cell) { window._pyforest_update_imports_cell('import seaborn as sns\\nimport plotly.express as px'); }\n",
       "    "
      ],
      "text/plain": [
       "<IPython.core.display.Javascript object>"
      ]
     },
     "metadata": {},
     "output_type": "display_data"
    },
    {
     "data": {
      "application/javascript": [
       "\n",
       "        if (window._pyforest_update_imports_cell) { window._pyforest_update_imports_cell('import seaborn as sns\\nimport plotly.express as px'); }\n",
       "    "
      ],
      "text/plain": [
       "<IPython.core.display.Javascript object>"
      ]
     },
     "metadata": {},
     "output_type": "display_data"
    },
    {
     "data": {
      "application/javascript": [
       "\n",
       "        if (window._pyforest_update_imports_cell) { window._pyforest_update_imports_cell('import seaborn as sns\\nimport plotly.express as px'); }\n",
       "    "
      ],
      "text/plain": [
       "<IPython.core.display.Javascript object>"
      ]
     },
     "metadata": {},
     "output_type": "display_data"
    },
    {
     "data": {
      "application/javascript": [
       "\n",
       "        if (window._pyforest_update_imports_cell) { window._pyforest_update_imports_cell('import seaborn as sns\\nimport plotly.express as px'); }\n",
       "    "
      ],
      "text/plain": [
       "<IPython.core.display.Javascript object>"
      ]
     },
     "metadata": {},
     "output_type": "display_data"
    },
    {
     "data": {
      "application/javascript": [
       "\n",
       "        if (window._pyforest_update_imports_cell) { window._pyforest_update_imports_cell('import seaborn as sns\\nimport plotly.express as px'); }\n",
       "    "
      ],
      "text/plain": [
       "<IPython.core.display.Javascript object>"
      ]
     },
     "metadata": {},
     "output_type": "display_data"
    },
    {
     "data": {
      "application/javascript": [
       "\n",
       "        if (window._pyforest_update_imports_cell) { window._pyforest_update_imports_cell('import seaborn as sns\\nimport plotly.express as px'); }\n",
       "    "
      ],
      "text/plain": [
       "<IPython.core.display.Javascript object>"
      ]
     },
     "metadata": {},
     "output_type": "display_data"
    },
    {
     "data": {
      "application/javascript": [
       "\n",
       "        if (window._pyforest_update_imports_cell) { window._pyforest_update_imports_cell('import seaborn as sns\\nimport plotly.express as px'); }\n",
       "    "
      ],
      "text/plain": [
       "<IPython.core.display.Javascript object>"
      ]
     },
     "metadata": {},
     "output_type": "display_data"
    },
    {
     "data": {
      "application/javascript": [
       "\n",
       "        if (window._pyforest_update_imports_cell) { window._pyforest_update_imports_cell('import seaborn as sns\\nimport plotly.express as px'); }\n",
       "    "
      ],
      "text/plain": [
       "<IPython.core.display.Javascript object>"
      ]
     },
     "metadata": {},
     "output_type": "display_data"
    },
    {
     "data": {
      "application/javascript": [
       "\n",
       "        if (window._pyforest_update_imports_cell) { window._pyforest_update_imports_cell('import seaborn as sns\\nimport plotly.express as px'); }\n",
       "    "
      ],
      "text/plain": [
       "<IPython.core.display.Javascript object>"
      ]
     },
     "metadata": {},
     "output_type": "display_data"
    },
    {
     "data": {
      "application/javascript": [
       "\n",
       "        if (window._pyforest_update_imports_cell) { window._pyforest_update_imports_cell('import seaborn as sns\\nimport plotly.express as px'); }\n",
       "    "
      ],
      "text/plain": [
       "<IPython.core.display.Javascript object>"
      ]
     },
     "metadata": {},
     "output_type": "display_data"
    },
    {
     "data": {
      "application/javascript": [
       "\n",
       "        if (window._pyforest_update_imports_cell) { window._pyforest_update_imports_cell('import seaborn as sns\\nimport plotly.express as px'); }\n",
       "    "
      ],
      "text/plain": [
       "<IPython.core.display.Javascript object>"
      ]
     },
     "metadata": {},
     "output_type": "display_data"
    },
    {
     "data": {
      "application/javascript": [
       "\n",
       "        if (window._pyforest_update_imports_cell) { window._pyforest_update_imports_cell('import seaborn as sns\\nimport plotly.express as px'); }\n",
       "    "
      ],
      "text/plain": [
       "<IPython.core.display.Javascript object>"
      ]
     },
     "metadata": {},
     "output_type": "display_data"
    },
    {
     "data": {
      "application/javascript": [
       "\n",
       "        if (window._pyforest_update_imports_cell) { window._pyforest_update_imports_cell('import seaborn as sns\\nimport plotly.express as px'); }\n",
       "    "
      ],
      "text/plain": [
       "<IPython.core.display.Javascript object>"
      ]
     },
     "metadata": {},
     "output_type": "display_data"
    },
    {
     "data": {
      "application/javascript": [
       "\n",
       "        if (window._pyforest_update_imports_cell) { window._pyforest_update_imports_cell('import seaborn as sns\\nimport plotly.express as px'); }\n",
       "    "
      ],
      "text/plain": [
       "<IPython.core.display.Javascript object>"
      ]
     },
     "metadata": {},
     "output_type": "display_data"
    },
    {
     "data": {
      "application/javascript": [
       "\n",
       "        if (window._pyforest_update_imports_cell) { window._pyforest_update_imports_cell('import seaborn as sns\\nimport plotly.express as px'); }\n",
       "    "
      ],
      "text/plain": [
       "<IPython.core.display.Javascript object>"
      ]
     },
     "metadata": {},
     "output_type": "display_data"
    },
    {
     "data": {
      "application/javascript": [
       "\n",
       "        if (window._pyforest_update_imports_cell) { window._pyforest_update_imports_cell('import seaborn as sns\\nimport plotly.express as px'); }\n",
       "    "
      ],
      "text/plain": [
       "<IPython.core.display.Javascript object>"
      ]
     },
     "metadata": {},
     "output_type": "display_data"
    },
    {
     "data": {
      "application/javascript": [
       "\n",
       "        if (window._pyforest_update_imports_cell) { window._pyforest_update_imports_cell('import seaborn as sns\\nimport plotly.express as px'); }\n",
       "    "
      ],
      "text/plain": [
       "<IPython.core.display.Javascript object>"
      ]
     },
     "metadata": {},
     "output_type": "display_data"
    },
    {
     "data": {
      "application/javascript": [
       "\n",
       "        if (window._pyforest_update_imports_cell) { window._pyforest_update_imports_cell('import seaborn as sns\\nimport plotly.express as px'); }\n",
       "    "
      ],
      "text/plain": [
       "<IPython.core.display.Javascript object>"
      ]
     },
     "metadata": {},
     "output_type": "display_data"
    },
    {
     "data": {
      "application/javascript": [
       "\n",
       "        if (window._pyforest_update_imports_cell) { window._pyforest_update_imports_cell('import seaborn as sns\\nimport plotly.express as px'); }\n",
       "    "
      ],
      "text/plain": [
       "<IPython.core.display.Javascript object>"
      ]
     },
     "metadata": {},
     "output_type": "display_data"
    },
    {
     "data": {
      "application/javascript": [
       "\n",
       "        if (window._pyforest_update_imports_cell) { window._pyforest_update_imports_cell('import seaborn as sns\\nimport plotly.express as px'); }\n",
       "    "
      ],
      "text/plain": [
       "<IPython.core.display.Javascript object>"
      ]
     },
     "metadata": {},
     "output_type": "display_data"
    },
    {
     "data": {
      "application/javascript": [
       "\n",
       "        if (window._pyforest_update_imports_cell) { window._pyforest_update_imports_cell('import seaborn as sns\\nimport plotly.express as px'); }\n",
       "    "
      ],
      "text/plain": [
       "<IPython.core.display.Javascript object>"
      ]
     },
     "metadata": {},
     "output_type": "display_data"
    },
    {
     "data": {
      "application/javascript": [
       "\n",
       "        if (window._pyforest_update_imports_cell) { window._pyforest_update_imports_cell('import seaborn as sns\\nimport plotly.express as px'); }\n",
       "    "
      ],
      "text/plain": [
       "<IPython.core.display.Javascript object>"
      ]
     },
     "metadata": {},
     "output_type": "display_data"
    },
    {
     "data": {
      "application/javascript": [
       "\n",
       "        if (window._pyforest_update_imports_cell) { window._pyforest_update_imports_cell('import seaborn as sns\\nimport plotly.express as px'); }\n",
       "    "
      ],
      "text/plain": [
       "<IPython.core.display.Javascript object>"
      ]
     },
     "metadata": {},
     "output_type": "display_data"
    },
    {
     "data": {
      "application/javascript": [
       "\n",
       "        if (window._pyforest_update_imports_cell) { window._pyforest_update_imports_cell('import seaborn as sns\\nimport plotly.express as px'); }\n",
       "    "
      ],
      "text/plain": [
       "<IPython.core.display.Javascript object>"
      ]
     },
     "metadata": {},
     "output_type": "display_data"
    },
    {
     "data": {
      "application/javascript": [
       "\n",
       "        if (window._pyforest_update_imports_cell) { window._pyforest_update_imports_cell('import seaborn as sns\\nimport plotly.express as px'); }\n",
       "    "
      ],
      "text/plain": [
       "<IPython.core.display.Javascript object>"
      ]
     },
     "metadata": {},
     "output_type": "display_data"
    },
    {
     "data": {
      "application/javascript": [
       "\n",
       "        if (window._pyforest_update_imports_cell) { window._pyforest_update_imports_cell('import seaborn as sns\\nimport plotly.express as px'); }\n",
       "    "
      ],
      "text/plain": [
       "<IPython.core.display.Javascript object>"
      ]
     },
     "metadata": {},
     "output_type": "display_data"
    },
    {
     "data": {
      "application/javascript": [
       "\n",
       "        if (window._pyforest_update_imports_cell) { window._pyforest_update_imports_cell('import seaborn as sns\\nimport plotly.express as px'); }\n",
       "    "
      ],
      "text/plain": [
       "<IPython.core.display.Javascript object>"
      ]
     },
     "metadata": {},
     "output_type": "display_data"
    },
    {
     "data": {
      "application/javascript": [
       "\n",
       "        if (window._pyforest_update_imports_cell) { window._pyforest_update_imports_cell('import seaborn as sns\\nimport plotly.express as px'); }\n",
       "    "
      ],
      "text/plain": [
       "<IPython.core.display.Javascript object>"
      ]
     },
     "metadata": {},
     "output_type": "display_data"
    },
    {
     "data": {
      "application/javascript": [
       "\n",
       "        if (window._pyforest_update_imports_cell) { window._pyforest_update_imports_cell('import seaborn as sns\\nimport plotly.express as px'); }\n",
       "    "
      ],
      "text/plain": [
       "<IPython.core.display.Javascript object>"
      ]
     },
     "metadata": {},
     "output_type": "display_data"
    },
    {
     "data": {
      "application/javascript": [
       "\n",
       "        if (window._pyforest_update_imports_cell) { window._pyforest_update_imports_cell('import seaborn as sns\\nimport plotly.express as px'); }\n",
       "    "
      ],
      "text/plain": [
       "<IPython.core.display.Javascript object>"
      ]
     },
     "metadata": {},
     "output_type": "display_data"
    },
    {
     "data": {
      "application/javascript": [
       "\n",
       "        if (window._pyforest_update_imports_cell) { window._pyforest_update_imports_cell('import seaborn as sns\\nimport plotly.express as px'); }\n",
       "    "
      ],
      "text/plain": [
       "<IPython.core.display.Javascript object>"
      ]
     },
     "metadata": {},
     "output_type": "display_data"
    },
    {
     "data": {
      "application/javascript": [
       "\n",
       "        if (window._pyforest_update_imports_cell) { window._pyforest_update_imports_cell('import seaborn as sns\\nimport plotly.express as px'); }\n",
       "    "
      ],
      "text/plain": [
       "<IPython.core.display.Javascript object>"
      ]
     },
     "metadata": {},
     "output_type": "display_data"
    },
    {
     "data": {
      "application/javascript": [
       "\n",
       "        if (window._pyforest_update_imports_cell) { window._pyforest_update_imports_cell('import seaborn as sns\\nimport plotly.express as px'); }\n",
       "    "
      ],
      "text/plain": [
       "<IPython.core.display.Javascript object>"
      ]
     },
     "metadata": {},
     "output_type": "display_data"
    },
    {
     "data": {
      "application/javascript": [
       "\n",
       "        if (window._pyforest_update_imports_cell) { window._pyforest_update_imports_cell('import seaborn as sns\\nimport plotly.express as px'); }\n",
       "    "
      ],
      "text/plain": [
       "<IPython.core.display.Javascript object>"
      ]
     },
     "metadata": {},
     "output_type": "display_data"
    },
    {
     "data": {
      "application/javascript": [
       "\n",
       "        if (window._pyforest_update_imports_cell) { window._pyforest_update_imports_cell('import seaborn as sns\\nimport plotly.express as px'); }\n",
       "    "
      ],
      "text/plain": [
       "<IPython.core.display.Javascript object>"
      ]
     },
     "metadata": {},
     "output_type": "display_data"
    },
    {
     "data": {
      "application/javascript": [
       "\n",
       "        if (window._pyforest_update_imports_cell) { window._pyforest_update_imports_cell('import seaborn as sns\\nimport plotly.express as px'); }\n",
       "    "
      ],
      "text/plain": [
       "<IPython.core.display.Javascript object>"
      ]
     },
     "metadata": {},
     "output_type": "display_data"
    },
    {
     "data": {
      "application/javascript": [
       "\n",
       "        if (window._pyforest_update_imports_cell) { window._pyforest_update_imports_cell('import seaborn as sns\\nimport plotly.express as px'); }\n",
       "    "
      ],
      "text/plain": [
       "<IPython.core.display.Javascript object>"
      ]
     },
     "metadata": {},
     "output_type": "display_data"
    },
    {
     "data": {
      "application/javascript": [
       "\n",
       "        if (window._pyforest_update_imports_cell) { window._pyforest_update_imports_cell('import seaborn as sns\\nimport plotly.express as px'); }\n",
       "    "
      ],
      "text/plain": [
       "<IPython.core.display.Javascript object>"
      ]
     },
     "metadata": {},
     "output_type": "display_data"
    },
    {
     "data": {
      "application/javascript": [
       "\n",
       "        if (window._pyforest_update_imports_cell) { window._pyforest_update_imports_cell('import seaborn as sns\\nimport plotly.express as px'); }\n",
       "    "
      ],
      "text/plain": [
       "<IPython.core.display.Javascript object>"
      ]
     },
     "metadata": {},
     "output_type": "display_data"
    },
    {
     "data": {
      "application/javascript": [
       "\n",
       "        if (window._pyforest_update_imports_cell) { window._pyforest_update_imports_cell('import seaborn as sns\\nimport plotly.express as px'); }\n",
       "    "
      ],
      "text/plain": [
       "<IPython.core.display.Javascript object>"
      ]
     },
     "metadata": {},
     "output_type": "display_data"
    },
    {
     "data": {
      "application/javascript": [
       "\n",
       "        if (window._pyforest_update_imports_cell) { window._pyforest_update_imports_cell('import seaborn as sns\\nimport plotly.express as px'); }\n",
       "    "
      ],
      "text/plain": [
       "<IPython.core.display.Javascript object>"
      ]
     },
     "metadata": {},
     "output_type": "display_data"
    },
    {
     "data": {
      "application/javascript": [
       "\n",
       "        if (window._pyforest_update_imports_cell) { window._pyforest_update_imports_cell('import seaborn as sns\\nimport plotly.express as px'); }\n",
       "    "
      ],
      "text/plain": [
       "<IPython.core.display.Javascript object>"
      ]
     },
     "metadata": {},
     "output_type": "display_data"
    },
    {
     "data": {
      "application/javascript": [
       "\n",
       "        if (window._pyforest_update_imports_cell) { window._pyforest_update_imports_cell('import seaborn as sns\\nimport plotly.express as px'); }\n",
       "    "
      ],
      "text/plain": [
       "<IPython.core.display.Javascript object>"
      ]
     },
     "metadata": {},
     "output_type": "display_data"
    },
    {
     "data": {
      "application/javascript": [
       "\n",
       "        if (window._pyforest_update_imports_cell) { window._pyforest_update_imports_cell('import seaborn as sns\\nimport plotly.express as px'); }\n",
       "    "
      ],
      "text/plain": [
       "<IPython.core.display.Javascript object>"
      ]
     },
     "metadata": {},
     "output_type": "display_data"
    },
    {
     "data": {
      "application/javascript": [
       "\n",
       "        if (window._pyforest_update_imports_cell) { window._pyforest_update_imports_cell('import seaborn as sns\\nimport plotly.express as px'); }\n",
       "    "
      ],
      "text/plain": [
       "<IPython.core.display.Javascript object>"
      ]
     },
     "metadata": {},
     "output_type": "display_data"
    },
    {
     "data": {
      "application/javascript": [
       "\n",
       "        if (window._pyforest_update_imports_cell) { window._pyforest_update_imports_cell('import seaborn as sns\\nimport plotly.express as px'); }\n",
       "    "
      ],
      "text/plain": [
       "<IPython.core.display.Javascript object>"
      ]
     },
     "metadata": {},
     "output_type": "display_data"
    },
    {
     "data": {
      "application/javascript": [
       "\n",
       "        if (window._pyforest_update_imports_cell) { window._pyforest_update_imports_cell('import seaborn as sns\\nimport plotly.express as px'); }\n",
       "    "
      ],
      "text/plain": [
       "<IPython.core.display.Javascript object>"
      ]
     },
     "metadata": {},
     "output_type": "display_data"
    },
    {
     "data": {
      "application/javascript": [
       "\n",
       "        if (window._pyforest_update_imports_cell) { window._pyforest_update_imports_cell('import seaborn as sns\\nimport plotly.express as px'); }\n",
       "    "
      ],
      "text/plain": [
       "<IPython.core.display.Javascript object>"
      ]
     },
     "metadata": {},
     "output_type": "display_data"
    },
    {
     "data": {
      "application/javascript": [
       "\n",
       "        if (window._pyforest_update_imports_cell) { window._pyforest_update_imports_cell('import seaborn as sns\\nimport plotly.express as px'); }\n",
       "    "
      ],
      "text/plain": [
       "<IPython.core.display.Javascript object>"
      ]
     },
     "metadata": {},
     "output_type": "display_data"
    },
    {
     "data": {
      "application/javascript": [
       "\n",
       "        if (window._pyforest_update_imports_cell) { window._pyforest_update_imports_cell('import seaborn as sns\\nimport plotly.express as px'); }\n",
       "    "
      ],
      "text/plain": [
       "<IPython.core.display.Javascript object>"
      ]
     },
     "metadata": {},
     "output_type": "display_data"
    },
    {
     "data": {
      "application/javascript": [
       "\n",
       "        if (window._pyforest_update_imports_cell) { window._pyforest_update_imports_cell('import seaborn as sns\\nimport plotly.express as px'); }\n",
       "    "
      ],
      "text/plain": [
       "<IPython.core.display.Javascript object>"
      ]
     },
     "metadata": {},
     "output_type": "display_data"
    },
    {
     "data": {
      "application/javascript": [
       "\n",
       "        if (window._pyforest_update_imports_cell) { window._pyforest_update_imports_cell('import seaborn as sns\\nimport plotly.express as px'); }\n",
       "    "
      ],
      "text/plain": [
       "<IPython.core.display.Javascript object>"
      ]
     },
     "metadata": {},
     "output_type": "display_data"
    },
    {
     "data": {
      "application/javascript": [
       "\n",
       "        if (window._pyforest_update_imports_cell) { window._pyforest_update_imports_cell('import seaborn as sns\\nimport plotly.express as px'); }\n",
       "    "
      ],
      "text/plain": [
       "<IPython.core.display.Javascript object>"
      ]
     },
     "metadata": {},
     "output_type": "display_data"
    },
    {
     "data": {
      "application/javascript": [
       "\n",
       "        if (window._pyforest_update_imports_cell) { window._pyforest_update_imports_cell('import seaborn as sns\\nimport plotly.express as px'); }\n",
       "    "
      ],
      "text/plain": [
       "<IPython.core.display.Javascript object>"
      ]
     },
     "metadata": {},
     "output_type": "display_data"
    },
    {
     "data": {
      "application/javascript": [
       "\n",
       "        if (window._pyforest_update_imports_cell) { window._pyforest_update_imports_cell('import seaborn as sns\\nimport plotly.express as px'); }\n",
       "    "
      ],
      "text/plain": [
       "<IPython.core.display.Javascript object>"
      ]
     },
     "metadata": {},
     "output_type": "display_data"
    },
    {
     "data": {
      "application/javascript": [
       "\n",
       "        if (window._pyforest_update_imports_cell) { window._pyforest_update_imports_cell('import seaborn as sns\\nimport plotly.express as px'); }\n",
       "    "
      ],
      "text/plain": [
       "<IPython.core.display.Javascript object>"
      ]
     },
     "metadata": {},
     "output_type": "display_data"
    },
    {
     "data": {
      "application/javascript": [
       "\n",
       "        if (window._pyforest_update_imports_cell) { window._pyforest_update_imports_cell('import seaborn as sns\\nimport plotly.express as px'); }\n",
       "    "
      ],
      "text/plain": [
       "<IPython.core.display.Javascript object>"
      ]
     },
     "metadata": {},
     "output_type": "display_data"
    },
    {
     "data": {
      "application/javascript": [
       "\n",
       "        if (window._pyforest_update_imports_cell) { window._pyforest_update_imports_cell('import seaborn as sns\\nimport plotly.express as px'); }\n",
       "    "
      ],
      "text/plain": [
       "<IPython.core.display.Javascript object>"
      ]
     },
     "metadata": {},
     "output_type": "display_data"
    },
    {
     "data": {
      "application/javascript": [
       "\n",
       "        if (window._pyforest_update_imports_cell) { window._pyforest_update_imports_cell('import seaborn as sns\\nimport plotly.express as px'); }\n",
       "    "
      ],
      "text/plain": [
       "<IPython.core.display.Javascript object>"
      ]
     },
     "metadata": {},
     "output_type": "display_data"
    },
    {
     "data": {
      "application/javascript": [
       "\n",
       "        if (window._pyforest_update_imports_cell) { window._pyforest_update_imports_cell('import seaborn as sns\\nimport plotly.express as px'); }\n",
       "    "
      ],
      "text/plain": [
       "<IPython.core.display.Javascript object>"
      ]
     },
     "metadata": {},
     "output_type": "display_data"
    },
    {
     "data": {
      "application/javascript": [
       "\n",
       "        if (window._pyforest_update_imports_cell) { window._pyforest_update_imports_cell('import seaborn as sns\\nimport plotly.express as px'); }\n",
       "    "
      ],
      "text/plain": [
       "<IPython.core.display.Javascript object>"
      ]
     },
     "metadata": {},
     "output_type": "display_data"
    },
    {
     "data": {
      "application/javascript": [
       "\n",
       "        if (window._pyforest_update_imports_cell) { window._pyforest_update_imports_cell('import seaborn as sns\\nimport plotly.express as px'); }\n",
       "    "
      ],
      "text/plain": [
       "<IPython.core.display.Javascript object>"
      ]
     },
     "metadata": {},
     "output_type": "display_data"
    },
    {
     "data": {
      "application/javascript": [
       "\n",
       "        if (window._pyforest_update_imports_cell) { window._pyforest_update_imports_cell('import seaborn as sns\\nimport plotly.express as px'); }\n",
       "    "
      ],
      "text/plain": [
       "<IPython.core.display.Javascript object>"
      ]
     },
     "metadata": {},
     "output_type": "display_data"
    },
    {
     "data": {
      "application/javascript": [
       "\n",
       "        if (window._pyforest_update_imports_cell) { window._pyforest_update_imports_cell('import seaborn as sns\\nimport plotly.express as px'); }\n",
       "    "
      ],
      "text/plain": [
       "<IPython.core.display.Javascript object>"
      ]
     },
     "metadata": {},
     "output_type": "display_data"
    },
    {
     "data": {
      "application/javascript": [
       "\n",
       "        if (window._pyforest_update_imports_cell) { window._pyforest_update_imports_cell('import seaborn as sns\\nimport plotly.express as px'); }\n",
       "    "
      ],
      "text/plain": [
       "<IPython.core.display.Javascript object>"
      ]
     },
     "metadata": {},
     "output_type": "display_data"
    },
    {
     "data": {
      "application/javascript": [
       "\n",
       "        if (window._pyforest_update_imports_cell) { window._pyforest_update_imports_cell('import seaborn as sns\\nimport plotly.express as px'); }\n",
       "    "
      ],
      "text/plain": [
       "<IPython.core.display.Javascript object>"
      ]
     },
     "metadata": {},
     "output_type": "display_data"
    },
    {
     "data": {
      "application/javascript": [
       "\n",
       "        if (window._pyforest_update_imports_cell) { window._pyforest_update_imports_cell('import seaborn as sns\\nimport plotly.express as px'); }\n",
       "    "
      ],
      "text/plain": [
       "<IPython.core.display.Javascript object>"
      ]
     },
     "metadata": {},
     "output_type": "display_data"
    },
    {
     "data": {
      "application/javascript": [
       "\n",
       "        if (window._pyforest_update_imports_cell) { window._pyforest_update_imports_cell('import seaborn as sns\\nimport plotly.express as px'); }\n",
       "    "
      ],
      "text/plain": [
       "<IPython.core.display.Javascript object>"
      ]
     },
     "metadata": {},
     "output_type": "display_data"
    },
    {
     "data": {
      "application/javascript": [
       "\n",
       "        if (window._pyforest_update_imports_cell) { window._pyforest_update_imports_cell('import seaborn as sns\\nimport plotly.express as px'); }\n",
       "    "
      ],
      "text/plain": [
       "<IPython.core.display.Javascript object>"
      ]
     },
     "metadata": {},
     "output_type": "display_data"
    },
    {
     "data": {
      "application/javascript": [
       "\n",
       "        if (window._pyforest_update_imports_cell) { window._pyforest_update_imports_cell('import seaborn as sns\\nimport plotly.express as px'); }\n",
       "    "
      ],
      "text/plain": [
       "<IPython.core.display.Javascript object>"
      ]
     },
     "metadata": {},
     "output_type": "display_data"
    },
    {
     "data": {
      "application/javascript": [
       "\n",
       "        if (window._pyforest_update_imports_cell) { window._pyforest_update_imports_cell('import seaborn as sns\\nimport plotly.express as px'); }\n",
       "    "
      ],
      "text/plain": [
       "<IPython.core.display.Javascript object>"
      ]
     },
     "metadata": {},
     "output_type": "display_data"
    },
    {
     "data": {
      "application/javascript": [
       "\n",
       "        if (window._pyforest_update_imports_cell) { window._pyforest_update_imports_cell('import seaborn as sns\\nimport plotly.express as px'); }\n",
       "    "
      ],
      "text/plain": [
       "<IPython.core.display.Javascript object>"
      ]
     },
     "metadata": {},
     "output_type": "display_data"
    },
    {
     "data": {
      "application/javascript": [
       "\n",
       "        if (window._pyforest_update_imports_cell) { window._pyforest_update_imports_cell('import seaborn as sns\\nimport plotly.express as px'); }\n",
       "    "
      ],
      "text/plain": [
       "<IPython.core.display.Javascript object>"
      ]
     },
     "metadata": {},
     "output_type": "display_data"
    },
    {
     "data": {
      "application/javascript": [
       "\n",
       "        if (window._pyforest_update_imports_cell) { window._pyforest_update_imports_cell('import seaborn as sns\\nimport plotly.express as px'); }\n",
       "    "
      ],
      "text/plain": [
       "<IPython.core.display.Javascript object>"
      ]
     },
     "metadata": {},
     "output_type": "display_data"
    },
    {
     "data": {
      "application/javascript": [
       "\n",
       "        if (window._pyforest_update_imports_cell) { window._pyforest_update_imports_cell('import seaborn as sns\\nimport plotly.express as px'); }\n",
       "    "
      ],
      "text/plain": [
       "<IPython.core.display.Javascript object>"
      ]
     },
     "metadata": {},
     "output_type": "display_data"
    },
    {
     "data": {
      "application/javascript": [
       "\n",
       "        if (window._pyforest_update_imports_cell) { window._pyforest_update_imports_cell('import seaborn as sns\\nimport plotly.express as px'); }\n",
       "    "
      ],
      "text/plain": [
       "<IPython.core.display.Javascript object>"
      ]
     },
     "metadata": {},
     "output_type": "display_data"
    },
    {
     "data": {
      "application/javascript": [
       "\n",
       "        if (window._pyforest_update_imports_cell) { window._pyforest_update_imports_cell('import seaborn as sns\\nimport plotly.express as px'); }\n",
       "    "
      ],
      "text/plain": [
       "<IPython.core.display.Javascript object>"
      ]
     },
     "metadata": {},
     "output_type": "display_data"
    },
    {
     "data": {
      "application/javascript": [
       "\n",
       "        if (window._pyforest_update_imports_cell) { window._pyforest_update_imports_cell('import seaborn as sns\\nimport plotly.express as px'); }\n",
       "    "
      ],
      "text/plain": [
       "<IPython.core.display.Javascript object>"
      ]
     },
     "metadata": {},
     "output_type": "display_data"
    },
    {
     "data": {
      "application/javascript": [
       "\n",
       "        if (window._pyforest_update_imports_cell) { window._pyforest_update_imports_cell('import seaborn as sns\\nimport plotly.express as px'); }\n",
       "    "
      ],
      "text/plain": [
       "<IPython.core.display.Javascript object>"
      ]
     },
     "metadata": {},
     "output_type": "display_data"
    },
    {
     "data": {
      "application/javascript": [
       "\n",
       "        if (window._pyforest_update_imports_cell) { window._pyforest_update_imports_cell('import seaborn as sns\\nimport plotly.express as px'); }\n",
       "    "
      ],
      "text/plain": [
       "<IPython.core.display.Javascript object>"
      ]
     },
     "metadata": {},
     "output_type": "display_data"
    },
    {
     "data": {
      "application/javascript": [
       "\n",
       "        if (window._pyforest_update_imports_cell) { window._pyforest_update_imports_cell('import seaborn as sns\\nimport plotly.express as px'); }\n",
       "    "
      ],
      "text/plain": [
       "<IPython.core.display.Javascript object>"
      ]
     },
     "metadata": {},
     "output_type": "display_data"
    },
    {
     "data": {
      "application/javascript": [
       "\n",
       "        if (window._pyforest_update_imports_cell) { window._pyforest_update_imports_cell('import seaborn as sns\\nimport plotly.express as px'); }\n",
       "    "
      ],
      "text/plain": [
       "<IPython.core.display.Javascript object>"
      ]
     },
     "metadata": {},
     "output_type": "display_data"
    },
    {
     "data": {
      "application/javascript": [
       "\n",
       "        if (window._pyforest_update_imports_cell) { window._pyforest_update_imports_cell('import seaborn as sns\\nimport plotly.express as px'); }\n",
       "    "
      ],
      "text/plain": [
       "<IPython.core.display.Javascript object>"
      ]
     },
     "metadata": {},
     "output_type": "display_data"
    },
    {
     "data": {
      "application/javascript": [
       "\n",
       "        if (window._pyforest_update_imports_cell) { window._pyforest_update_imports_cell('import seaborn as sns\\nimport plotly.express as px'); }\n",
       "    "
      ],
      "text/plain": [
       "<IPython.core.display.Javascript object>"
      ]
     },
     "metadata": {},
     "output_type": "display_data"
    },
    {
     "data": {
      "application/javascript": [
       "\n",
       "        if (window._pyforest_update_imports_cell) { window._pyforest_update_imports_cell('import seaborn as sns\\nimport plotly.express as px'); }\n",
       "    "
      ],
      "text/plain": [
       "<IPython.core.display.Javascript object>"
      ]
     },
     "metadata": {},
     "output_type": "display_data"
    },
    {
     "data": {
      "application/javascript": [
       "\n",
       "        if (window._pyforest_update_imports_cell) { window._pyforest_update_imports_cell('import seaborn as sns\\nimport plotly.express as px'); }\n",
       "    "
      ],
      "text/plain": [
       "<IPython.core.display.Javascript object>"
      ]
     },
     "metadata": {},
     "output_type": "display_data"
    },
    {
     "data": {
      "application/javascript": [
       "\n",
       "        if (window._pyforest_update_imports_cell) { window._pyforest_update_imports_cell('import seaborn as sns\\nimport plotly.express as px'); }\n",
       "    "
      ],
      "text/plain": [
       "<IPython.core.display.Javascript object>"
      ]
     },
     "metadata": {},
     "output_type": "display_data"
    },
    {
     "data": {
      "application/javascript": [
       "\n",
       "        if (window._pyforest_update_imports_cell) { window._pyforest_update_imports_cell('import seaborn as sns\\nimport plotly.express as px'); }\n",
       "    "
      ],
      "text/plain": [
       "<IPython.core.display.Javascript object>"
      ]
     },
     "metadata": {},
     "output_type": "display_data"
    },
    {
     "data": {
      "application/javascript": [
       "\n",
       "        if (window._pyforest_update_imports_cell) { window._pyforest_update_imports_cell('import seaborn as sns\\nimport plotly.express as px'); }\n",
       "    "
      ],
      "text/plain": [
       "<IPython.core.display.Javascript object>"
      ]
     },
     "metadata": {},
     "output_type": "display_data"
    },
    {
     "data": {
      "application/javascript": [
       "\n",
       "        if (window._pyforest_update_imports_cell) { window._pyforest_update_imports_cell('import seaborn as sns\\nimport plotly.express as px'); }\n",
       "    "
      ],
      "text/plain": [
       "<IPython.core.display.Javascript object>"
      ]
     },
     "metadata": {},
     "output_type": "display_data"
    },
    {
     "data": {
      "application/javascript": [
       "\n",
       "        if (window._pyforest_update_imports_cell) { window._pyforest_update_imports_cell('import seaborn as sns\\nimport plotly.express as px'); }\n",
       "    "
      ],
      "text/plain": [
       "<IPython.core.display.Javascript object>"
      ]
     },
     "metadata": {},
     "output_type": "display_data"
    },
    {
     "data": {
      "application/javascript": [
       "\n",
       "        if (window._pyforest_update_imports_cell) { window._pyforest_update_imports_cell('import seaborn as sns\\nimport plotly.express as px'); }\n",
       "    "
      ],
      "text/plain": [
       "<IPython.core.display.Javascript object>"
      ]
     },
     "metadata": {},
     "output_type": "display_data"
    },
    {
     "data": {
      "application/javascript": [
       "\n",
       "        if (window._pyforest_update_imports_cell) { window._pyforest_update_imports_cell('import seaborn as sns\\nimport plotly.express as px'); }\n",
       "    "
      ],
      "text/plain": [
       "<IPython.core.display.Javascript object>"
      ]
     },
     "metadata": {},
     "output_type": "display_data"
    },
    {
     "data": {
      "application/javascript": [
       "\n",
       "        if (window._pyforest_update_imports_cell) { window._pyforest_update_imports_cell('import seaborn as sns\\nimport plotly.express as px'); }\n",
       "    "
      ],
      "text/plain": [
       "<IPython.core.display.Javascript object>"
      ]
     },
     "metadata": {},
     "output_type": "display_data"
    },
    {
     "data": {
      "application/javascript": [
       "\n",
       "        if (window._pyforest_update_imports_cell) { window._pyforest_update_imports_cell('import seaborn as sns\\nimport plotly.express as px'); }\n",
       "    "
      ],
      "text/plain": [
       "<IPython.core.display.Javascript object>"
      ]
     },
     "metadata": {},
     "output_type": "display_data"
    },
    {
     "data": {
      "application/javascript": [
       "\n",
       "        if (window._pyforest_update_imports_cell) { window._pyforest_update_imports_cell('import seaborn as sns\\nimport plotly.express as px'); }\n",
       "    "
      ],
      "text/plain": [
       "<IPython.core.display.Javascript object>"
      ]
     },
     "metadata": {},
     "output_type": "display_data"
    },
    {
     "data": {
      "application/javascript": [
       "\n",
       "        if (window._pyforest_update_imports_cell) { window._pyforest_update_imports_cell('import seaborn as sns\\nimport plotly.express as px'); }\n",
       "    "
      ],
      "text/plain": [
       "<IPython.core.display.Javascript object>"
      ]
     },
     "metadata": {},
     "output_type": "display_data"
    },
    {
     "data": {
      "application/javascript": [
       "\n",
       "        if (window._pyforest_update_imports_cell) { window._pyforest_update_imports_cell('import seaborn as sns\\nimport plotly.express as px'); }\n",
       "    "
      ],
      "text/plain": [
       "<IPython.core.display.Javascript object>"
      ]
     },
     "metadata": {},
     "output_type": "display_data"
    },
    {
     "data": {
      "application/javascript": [
       "\n",
       "        if (window._pyforest_update_imports_cell) { window._pyforest_update_imports_cell('import seaborn as sns\\nimport plotly.express as px'); }\n",
       "    "
      ],
      "text/plain": [
       "<IPython.core.display.Javascript object>"
      ]
     },
     "metadata": {},
     "output_type": "display_data"
    },
    {
     "data": {
      "application/javascript": [
       "\n",
       "        if (window._pyforest_update_imports_cell) { window._pyforest_update_imports_cell('import seaborn as sns\\nimport plotly.express as px'); }\n",
       "    "
      ],
      "text/plain": [
       "<IPython.core.display.Javascript object>"
      ]
     },
     "metadata": {},
     "output_type": "display_data"
    },
    {
     "data": {
      "application/javascript": [
       "\n",
       "        if (window._pyforest_update_imports_cell) { window._pyforest_update_imports_cell('import seaborn as sns\\nimport plotly.express as px'); }\n",
       "    "
      ],
      "text/plain": [
       "<IPython.core.display.Javascript object>"
      ]
     },
     "metadata": {},
     "output_type": "display_data"
    },
    {
     "data": {
      "application/javascript": [
       "\n",
       "        if (window._pyforest_update_imports_cell) { window._pyforest_update_imports_cell('import seaborn as sns\\nimport plotly.express as px'); }\n",
       "    "
      ],
      "text/plain": [
       "<IPython.core.display.Javascript object>"
      ]
     },
     "metadata": {},
     "output_type": "display_data"
    },
    {
     "data": {
      "application/javascript": [
       "\n",
       "        if (window._pyforest_update_imports_cell) { window._pyforest_update_imports_cell('import seaborn as sns\\nimport plotly.express as px'); }\n",
       "    "
      ],
      "text/plain": [
       "<IPython.core.display.Javascript object>"
      ]
     },
     "metadata": {},
     "output_type": "display_data"
    },
    {
     "data": {
      "application/javascript": [
       "\n",
       "        if (window._pyforest_update_imports_cell) { window._pyforest_update_imports_cell('import seaborn as sns\\nimport plotly.express as px'); }\n",
       "    "
      ],
      "text/plain": [
       "<IPython.core.display.Javascript object>"
      ]
     },
     "metadata": {},
     "output_type": "display_data"
    },
    {
     "data": {
      "application/javascript": [
       "\n",
       "        if (window._pyforest_update_imports_cell) { window._pyforest_update_imports_cell('import seaborn as sns\\nimport plotly.express as px'); }\n",
       "    "
      ],
      "text/plain": [
       "<IPython.core.display.Javascript object>"
      ]
     },
     "metadata": {},
     "output_type": "display_data"
    },
    {
     "data": {
      "application/javascript": [
       "\n",
       "        if (window._pyforest_update_imports_cell) { window._pyforest_update_imports_cell('import seaborn as sns\\nimport plotly.express as px'); }\n",
       "    "
      ],
      "text/plain": [
       "<IPython.core.display.Javascript object>"
      ]
     },
     "metadata": {},
     "output_type": "display_data"
    },
    {
     "data": {
      "application/javascript": [
       "\n",
       "        if (window._pyforest_update_imports_cell) { window._pyforest_update_imports_cell('import seaborn as sns\\nimport plotly.express as px'); }\n",
       "    "
      ],
      "text/plain": [
       "<IPython.core.display.Javascript object>"
      ]
     },
     "metadata": {},
     "output_type": "display_data"
    },
    {
     "data": {
      "application/javascript": [
       "\n",
       "        if (window._pyforest_update_imports_cell) { window._pyforest_update_imports_cell('import seaborn as sns\\nimport plotly.express as px'); }\n",
       "    "
      ],
      "text/plain": [
       "<IPython.core.display.Javascript object>"
      ]
     },
     "metadata": {},
     "output_type": "display_data"
    },
    {
     "data": {
      "application/javascript": [
       "\n",
       "        if (window._pyforest_update_imports_cell) { window._pyforest_update_imports_cell('import seaborn as sns\\nimport plotly.express as px'); }\n",
       "    "
      ],
      "text/plain": [
       "<IPython.core.display.Javascript object>"
      ]
     },
     "metadata": {},
     "output_type": "display_data"
    },
    {
     "data": {
      "application/javascript": [
       "\n",
       "        if (window._pyforest_update_imports_cell) { window._pyforest_update_imports_cell('import seaborn as sns\\nimport plotly.express as px'); }\n",
       "    "
      ],
      "text/plain": [
       "<IPython.core.display.Javascript object>"
      ]
     },
     "metadata": {},
     "output_type": "display_data"
    },
    {
     "data": {
      "application/javascript": [
       "\n",
       "        if (window._pyforest_update_imports_cell) { window._pyforest_update_imports_cell('import seaborn as sns\\nimport plotly.express as px'); }\n",
       "    "
      ],
      "text/plain": [
       "<IPython.core.display.Javascript object>"
      ]
     },
     "metadata": {},
     "output_type": "display_data"
    },
    {
     "data": {
      "application/javascript": [
       "\n",
       "        if (window._pyforest_update_imports_cell) { window._pyforest_update_imports_cell('import seaborn as sns\\nimport plotly.express as px'); }\n",
       "    "
      ],
      "text/plain": [
       "<IPython.core.display.Javascript object>"
      ]
     },
     "metadata": {},
     "output_type": "display_data"
    },
    {
     "data": {
      "application/javascript": [
       "\n",
       "        if (window._pyforest_update_imports_cell) { window._pyforest_update_imports_cell('import seaborn as sns\\nimport plotly.express as px'); }\n",
       "    "
      ],
      "text/plain": [
       "<IPython.core.display.Javascript object>"
      ]
     },
     "metadata": {},
     "output_type": "display_data"
    },
    {
     "data": {
      "application/javascript": [
       "\n",
       "        if (window._pyforest_update_imports_cell) { window._pyforest_update_imports_cell('import seaborn as sns\\nimport plotly.express as px'); }\n",
       "    "
      ],
      "text/plain": [
       "<IPython.core.display.Javascript object>"
      ]
     },
     "metadata": {},
     "output_type": "display_data"
    },
    {
     "data": {
      "application/javascript": [
       "\n",
       "        if (window._pyforest_update_imports_cell) { window._pyforest_update_imports_cell('import seaborn as sns\\nimport plotly.express as px'); }\n",
       "    "
      ],
      "text/plain": [
       "<IPython.core.display.Javascript object>"
      ]
     },
     "metadata": {},
     "output_type": "display_data"
    },
    {
     "data": {
      "application/javascript": [
       "\n",
       "        if (window._pyforest_update_imports_cell) { window._pyforest_update_imports_cell('import seaborn as sns\\nimport plotly.express as px'); }\n",
       "    "
      ],
      "text/plain": [
       "<IPython.core.display.Javascript object>"
      ]
     },
     "metadata": {},
     "output_type": "display_data"
    },
    {
     "data": {
      "application/javascript": [
       "\n",
       "        if (window._pyforest_update_imports_cell) { window._pyforest_update_imports_cell('import seaborn as sns\\nimport plotly.express as px'); }\n",
       "    "
      ],
      "text/plain": [
       "<IPython.core.display.Javascript object>"
      ]
     },
     "metadata": {},
     "output_type": "display_data"
    },
    {
     "data": {
      "application/javascript": [
       "\n",
       "        if (window._pyforest_update_imports_cell) { window._pyforest_update_imports_cell('import seaborn as sns\\nimport plotly.express as px'); }\n",
       "    "
      ],
      "text/plain": [
       "<IPython.core.display.Javascript object>"
      ]
     },
     "metadata": {},
     "output_type": "display_data"
    },
    {
     "data": {
      "application/javascript": [
       "\n",
       "        if (window._pyforest_update_imports_cell) { window._pyforest_update_imports_cell('import seaborn as sns\\nimport plotly.express as px'); }\n",
       "    "
      ],
      "text/plain": [
       "<IPython.core.display.Javascript object>"
      ]
     },
     "metadata": {},
     "output_type": "display_data"
    },
    {
     "data": {
      "application/javascript": [
       "\n",
       "        if (window._pyforest_update_imports_cell) { window._pyforest_update_imports_cell('import seaborn as sns\\nimport plotly.express as px'); }\n",
       "    "
      ],
      "text/plain": [
       "<IPython.core.display.Javascript object>"
      ]
     },
     "metadata": {},
     "output_type": "display_data"
    },
    {
     "data": {
      "application/javascript": [
       "\n",
       "        if (window._pyforest_update_imports_cell) { window._pyforest_update_imports_cell('import seaborn as sns\\nimport plotly.express as px'); }\n",
       "    "
      ],
      "text/plain": [
       "<IPython.core.display.Javascript object>"
      ]
     },
     "metadata": {},
     "output_type": "display_data"
    },
    {
     "data": {
      "application/javascript": [
       "\n",
       "        if (window._pyforest_update_imports_cell) { window._pyforest_update_imports_cell('import seaborn as sns\\nimport plotly.express as px'); }\n",
       "    "
      ],
      "text/plain": [
       "<IPython.core.display.Javascript object>"
      ]
     },
     "metadata": {},
     "output_type": "display_data"
    },
    {
     "data": {
      "application/javascript": [
       "\n",
       "        if (window._pyforest_update_imports_cell) { window._pyforest_update_imports_cell('import seaborn as sns\\nimport plotly.express as px'); }\n",
       "    "
      ],
      "text/plain": [
       "<IPython.core.display.Javascript object>"
      ]
     },
     "metadata": {},
     "output_type": "display_data"
    },
    {
     "data": {
      "application/javascript": [
       "\n",
       "        if (window._pyforest_update_imports_cell) { window._pyforest_update_imports_cell('import seaborn as sns\\nimport plotly.express as px'); }\n",
       "    "
      ],
      "text/plain": [
       "<IPython.core.display.Javascript object>"
      ]
     },
     "metadata": {},
     "output_type": "display_data"
    },
    {
     "data": {
      "application/javascript": [
       "\n",
       "        if (window._pyforest_update_imports_cell) { window._pyforest_update_imports_cell('import seaborn as sns\\nimport plotly.express as px'); }\n",
       "    "
      ],
      "text/plain": [
       "<IPython.core.display.Javascript object>"
      ]
     },
     "metadata": {},
     "output_type": "display_data"
    },
    {
     "data": {
      "application/javascript": [
       "\n",
       "        if (window._pyforest_update_imports_cell) { window._pyforest_update_imports_cell('import seaborn as sns\\nimport plotly.express as px'); }\n",
       "    "
      ],
      "text/plain": [
       "<IPython.core.display.Javascript object>"
      ]
     },
     "metadata": {},
     "output_type": "display_data"
    },
    {
     "data": {
      "application/javascript": [
       "\n",
       "        if (window._pyforest_update_imports_cell) { window._pyforest_update_imports_cell('import seaborn as sns\\nimport plotly.express as px'); }\n",
       "    "
      ],
      "text/plain": [
       "<IPython.core.display.Javascript object>"
      ]
     },
     "metadata": {},
     "output_type": "display_data"
    },
    {
     "data": {
      "application/javascript": [
       "\n",
       "        if (window._pyforest_update_imports_cell) { window._pyforest_update_imports_cell('import seaborn as sns\\nimport plotly.express as px'); }\n",
       "    "
      ],
      "text/plain": [
       "<IPython.core.display.Javascript object>"
      ]
     },
     "metadata": {},
     "output_type": "display_data"
    },
    {
     "data": {
      "application/javascript": [
       "\n",
       "        if (window._pyforest_update_imports_cell) { window._pyforest_update_imports_cell('import seaborn as sns\\nimport plotly.express as px'); }\n",
       "    "
      ],
      "text/plain": [
       "<IPython.core.display.Javascript object>"
      ]
     },
     "metadata": {},
     "output_type": "display_data"
    },
    {
     "data": {
      "application/javascript": [
       "\n",
       "        if (window._pyforest_update_imports_cell) { window._pyforest_update_imports_cell('import seaborn as sns\\nimport plotly.express as px'); }\n",
       "    "
      ],
      "text/plain": [
       "<IPython.core.display.Javascript object>"
      ]
     },
     "metadata": {},
     "output_type": "display_data"
    },
    {
     "data": {
      "application/javascript": [
       "\n",
       "        if (window._pyforest_update_imports_cell) { window._pyforest_update_imports_cell('import seaborn as sns\\nimport plotly.express as px'); }\n",
       "    "
      ],
      "text/plain": [
       "<IPython.core.display.Javascript object>"
      ]
     },
     "metadata": {},
     "output_type": "display_data"
    },
    {
     "data": {
      "application/javascript": [
       "\n",
       "        if (window._pyforest_update_imports_cell) { window._pyforest_update_imports_cell('import seaborn as sns\\nimport plotly.express as px'); }\n",
       "    "
      ],
      "text/plain": [
       "<IPython.core.display.Javascript object>"
      ]
     },
     "metadata": {},
     "output_type": "display_data"
    },
    {
     "data": {
      "application/javascript": [
       "\n",
       "        if (window._pyforest_update_imports_cell) { window._pyforest_update_imports_cell('import seaborn as sns\\nimport plotly.express as px'); }\n",
       "    "
      ],
      "text/plain": [
       "<IPython.core.display.Javascript object>"
      ]
     },
     "metadata": {},
     "output_type": "display_data"
    },
    {
     "data": {
      "application/javascript": [
       "\n",
       "        if (window._pyforest_update_imports_cell) { window._pyforest_update_imports_cell('import seaborn as sns\\nimport plotly.express as px'); }\n",
       "    "
      ],
      "text/plain": [
       "<IPython.core.display.Javascript object>"
      ]
     },
     "metadata": {},
     "output_type": "display_data"
    },
    {
     "data": {
      "application/javascript": [
       "\n",
       "        if (window._pyforest_update_imports_cell) { window._pyforest_update_imports_cell('import seaborn as sns\\nimport plotly.express as px'); }\n",
       "    "
      ],
      "text/plain": [
       "<IPython.core.display.Javascript object>"
      ]
     },
     "metadata": {},
     "output_type": "display_data"
    },
    {
     "data": {
      "application/javascript": [
       "\n",
       "        if (window._pyforest_update_imports_cell) { window._pyforest_update_imports_cell('import seaborn as sns\\nimport plotly.express as px'); }\n",
       "    "
      ],
      "text/plain": [
       "<IPython.core.display.Javascript object>"
      ]
     },
     "metadata": {},
     "output_type": "display_data"
    },
    {
     "data": {
      "application/javascript": [
       "\n",
       "        if (window._pyforest_update_imports_cell) { window._pyforest_update_imports_cell('import seaborn as sns\\nimport plotly.express as px'); }\n",
       "    "
      ],
      "text/plain": [
       "<IPython.core.display.Javascript object>"
      ]
     },
     "metadata": {},
     "output_type": "display_data"
    },
    {
     "data": {
      "application/javascript": [
       "\n",
       "        if (window._pyforest_update_imports_cell) { window._pyforest_update_imports_cell('import seaborn as sns\\nimport plotly.express as px'); }\n",
       "    "
      ],
      "text/plain": [
       "<IPython.core.display.Javascript object>"
      ]
     },
     "metadata": {},
     "output_type": "display_data"
    },
    {
     "data": {
      "application/javascript": [
       "\n",
       "        if (window._pyforest_update_imports_cell) { window._pyforest_update_imports_cell('import seaborn as sns\\nimport plotly.express as px'); }\n",
       "    "
      ],
      "text/plain": [
       "<IPython.core.display.Javascript object>"
      ]
     },
     "metadata": {},
     "output_type": "display_data"
    },
    {
     "data": {
      "application/javascript": [
       "\n",
       "        if (window._pyforest_update_imports_cell) { window._pyforest_update_imports_cell('import seaborn as sns\\nimport plotly.express as px'); }\n",
       "    "
      ],
      "text/plain": [
       "<IPython.core.display.Javascript object>"
      ]
     },
     "metadata": {},
     "output_type": "display_data"
    },
    {
     "data": {
      "application/javascript": [
       "\n",
       "        if (window._pyforest_update_imports_cell) { window._pyforest_update_imports_cell('import seaborn as sns\\nimport plotly.express as px'); }\n",
       "    "
      ],
      "text/plain": [
       "<IPython.core.display.Javascript object>"
      ]
     },
     "metadata": {},
     "output_type": "display_data"
    },
    {
     "data": {
      "application/javascript": [
       "\n",
       "        if (window._pyforest_update_imports_cell) { window._pyforest_update_imports_cell('import seaborn as sns\\nimport plotly.express as px'); }\n",
       "    "
      ],
      "text/plain": [
       "<IPython.core.display.Javascript object>"
      ]
     },
     "metadata": {},
     "output_type": "display_data"
    },
    {
     "data": {
      "application/javascript": [
       "\n",
       "        if (window._pyforest_update_imports_cell) { window._pyforest_update_imports_cell('import seaborn as sns\\nimport plotly.express as px'); }\n",
       "    "
      ],
      "text/plain": [
       "<IPython.core.display.Javascript object>"
      ]
     },
     "metadata": {},
     "output_type": "display_data"
    },
    {
     "data": {
      "application/javascript": [
       "\n",
       "        if (window._pyforest_update_imports_cell) { window._pyforest_update_imports_cell('import seaborn as sns\\nimport plotly.express as px'); }\n",
       "    "
      ],
      "text/plain": [
       "<IPython.core.display.Javascript object>"
      ]
     },
     "metadata": {},
     "output_type": "display_data"
    },
    {
     "data": {
      "application/javascript": [
       "\n",
       "        if (window._pyforest_update_imports_cell) { window._pyforest_update_imports_cell('import seaborn as sns\\nimport plotly.express as px'); }\n",
       "    "
      ],
      "text/plain": [
       "<IPython.core.display.Javascript object>"
      ]
     },
     "metadata": {},
     "output_type": "display_data"
    },
    {
     "data": {
      "application/javascript": [
       "\n",
       "        if (window._pyforest_update_imports_cell) { window._pyforest_update_imports_cell('import seaborn as sns\\nimport plotly.express as px'); }\n",
       "    "
      ],
      "text/plain": [
       "<IPython.core.display.Javascript object>"
      ]
     },
     "metadata": {},
     "output_type": "display_data"
    },
    {
     "data": {
      "image/png": "[encoded data removed]",
      "text/plain": [
       "<Figure size 1440x2160 with 50 Axes>"
      ]
     },
     "metadata": {
      "needs_background": "light"
     },
     "output_type": "display_data"
    }
   ],
   "source": [
    "feature_columns = X.columns\n",
    "dataframe = df\n",
    "target_column = 'target'\n",
    "\n",
    "num_rows, num_cols = 10,5\n",
    "f, axes = plt.subplots(nrows=num_rows, ncols=num_cols, figsize=(20, 30))\n",
    "f.suptitle('Distribution of Features', fontweight='bold', fontfamily='serif')\n",
    "\n",
    "for index, column in enumerate(feature_columns):\n",
    "    i,j = (index // num_cols, index % num_cols)\n",
    "\n",
    "    sns.kdeplot(dataframe.loc[dataframe[target_column] == 'Class_1', column], color=px.colors.qualitative.G10[1], shade=True, ax=axes[i,j])\n",
    "    sns.kdeplot(dataframe.loc[dataframe[target_column] == 'Class_2', column], color=px.colors.qualitative.G10[0], shade=True, ax=axes[i,j])\n",
    "    sns.kdeplot(dataframe.loc[dataframe[target_column] == 'Class_3', column], color=px.colors.qualitative.G10[3], shade=True, ax=axes[i,j])\n",
    "    sns.kdeplot(dataframe.loc[dataframe[target_column] == 'Class_4', column], color=px.colors.qualitative.G10[2], shade=True, ax=axes[i,j])\n",
    "\n",
    "#f.delaxes(axes[3, 2])\n",
    "plt.tight_layout()\n",
    "plt.show()"
   ]
  },
  {
   "cell_type": "code",
   "execution_count": 65,
   "metadata": {},
   "outputs": [
    {
     "data": {
      "application/javascript": [
       "\n",
       "        if (window._pyforest_update_imports_cell) { window._pyforest_update_imports_cell('import seaborn as sns\\nimport plotly.express as px'); }\n",
       "    "
      ],
      "text/plain": [
       "<IPython.core.display.Javascript object>"
      ]
     },
     "metadata": {},
     "output_type": "display_data"
    },
    {
     "data": {
      "text/plain": [
       "<AxesSubplot:>"
      ]
     },
     "execution_count": 65,
     "metadata": {},
     "output_type": "execute_result"
    },
    {
     "data": {
      "image/png": "[encoded data removed]",
      "text/plain": [
       "<Figure size 1296x1800 with 1 Axes>"
      ]
     },
     "metadata": {
      "needs_background": "light"
     },
     "output_type": "display_data"
    }
   ],
   "source": [
    "plt.figure(figsize=(18,25))\n",
    "sns.boxplot(data=X, orient=\"h\")"
   ]
  },
  {
   "cell_type": "markdown",
   "metadata": {},
   "source": [
    "- for all features, zero is the most frequent value, except feature_38 \n",
    "- majority all values for all features cluster close to zero"
   ]
  },
  {
   "cell_type": "code",
   "execution_count": 51,
   "metadata": {},
   "outputs": [],
   "source": [
    "path = r\"C:\\Users\\tanch\\Documents\\GitHub\\Kaggle-Playground-Series-May-2021\\Predictions\\pred.csv\"\n",
    "pd.DataFrame(y_pred,columns = clf.classes_, index = testSet.index).to_csv(path)"
   ]
  }
 ],
 "metadata": {
  "kernelspec": {
   "display_name": "Python 3",
   "language": "python",
   "name": "python3"
  },
  "language_info": {
   "codemirror_mode": {
    "name": "ipython",
    "version": 3
   },
   "file_extension": ".py",
   "mimetype": "text/x-python",
   "name": "python",
   "nbconvert_exporter": "python",
   "pygments_lexer": "ipython3",
   "version": "3.8.3"
  }
 },
 "nbformat": 4,
 "nbformat_minor": 4
}
